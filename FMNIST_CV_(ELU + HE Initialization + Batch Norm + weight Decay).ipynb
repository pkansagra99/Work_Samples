{
  "cells": [
    {
      "cell_type": "markdown",
      "metadata": {
        "id": "view-in-github",
        "colab_type": "text"
      },
      "source": [
        "<a href=\"https://colab.research.google.com/github/pkansagra99/Work_Samples/blob/main/FMNIST_CV_(ELU%20%2B%20HE%20Initialization%20%2B%20Batch%20Norm%20%2B%20weight%20Decay).ipynb\" target=\"_parent\"><img src=\"https://colab.research.google.com/assets/colab-badge.svg\" alt=\"Open In Colab\"/></a>"
      ]
    },
    {
      "cell_type": "markdown",
      "metadata": {
        "id": "Vl3eIEYFkgP7"
      },
      "source": [
        "<h1 align='center'><b><font color ='pickle'>MLP Final Model</b></h1>\n",
        "\n",
        "**Notebook Plan**\n",
        "- (ELU + HE Initialization + Batch Norm + weight Decay)\n",
        "\n",
        "\n",
        "\n"
      ]
    },
    {
      "cell_type": "markdown",
      "metadata": {
        "id": "FIxAU6f3S-MI"
      },
      "source": [
        "# <Font color = 'pickle'>**Load Libraries/Install Software**"
      ]
    },
    {
      "cell_type": "code",
      "execution_count": null,
      "metadata": {
        "colab": {
          "base_uri": "https://localhost:8080/"
        },
        "execution": {
          "iopub.execute_input": "2022-10-24T11:10:17.720948Z",
          "iopub.status.busy": "2022-10-24T11:10:17.720755Z",
          "iopub.status.idle": "2022-10-24T11:10:17.725092Z",
          "shell.execute_reply": "2022-10-24T11:10:17.724609Z",
          "shell.execute_reply.started": "2022-10-24T11:10:17.720932Z"
        },
        "id": "-h5a-vtFb738",
        "outputId": "febb60d2-3b57-441c-a0da-21187589103e",
        "tags": []
      },
      "outputs": [
        {
          "name": "stdout",
          "output_type": "stream",
          "text": [
            "Not running on CoLab\n"
          ]
        }
      ],
      "source": [
        "if 'google.colab' in str(get_ipython()):\n",
        "  print('Running on CoLab')\n",
        "else:\n",
        "  print('Not running on CoLab')"
      ]
    },
    {
      "cell_type": "code",
      "execution_count": null,
      "metadata": {
        "execution": {
          "iopub.execute_input": "2022-10-24T11:10:17.726019Z",
          "iopub.status.busy": "2022-10-24T11:10:17.725852Z",
          "iopub.status.idle": "2022-10-24T11:10:17.729366Z",
          "shell.execute_reply": "2022-10-24T11:10:17.729008Z",
          "shell.execute_reply.started": "2022-10-24T11:10:17.725983Z"
        },
        "id": "q4OpOEo0QktF",
        "tags": []
      },
      "outputs": [],
      "source": [
        "# Install wandb and update it to the latest version\n",
        "if 'google.colab' in str(get_ipython()):\n",
        "    !pip install wandb --upgrade -q"
      ]
    },
    {
      "cell_type": "code",
      "execution_count": null,
      "metadata": {
        "execution": {
          "iopub.execute_input": "2022-10-24T11:10:17.730036Z",
          "iopub.status.busy": "2022-10-24T11:10:17.729870Z",
          "iopub.status.idle": "2022-10-24T11:10:17.732690Z",
          "shell.execute_reply": "2022-10-24T11:10:17.732308Z",
          "shell.execute_reply.started": "2022-10-24T11:10:17.730022Z"
        },
        "id": "m7C0tvyKoy6f",
        "tags": []
      },
      "outputs": [],
      "source": [
        "# mount google drive\n",
        "if 'google.colab' in str(get_ipython()):\n",
        "    from google.colab import drive\n",
        "    drive.mount('/content/drive')"
      ]
    },
    {
      "cell_type": "code",
      "execution_count": null,
      "metadata": {
        "execution": {
          "iopub.execute_input": "2022-10-24T11:10:17.733958Z",
          "iopub.status.busy": "2022-10-24T11:10:17.733633Z",
          "iopub.status.idle": "2022-10-24T11:10:17.736990Z",
          "shell.execute_reply": "2022-10-24T11:10:17.736676Z",
          "shell.execute_reply.started": "2022-10-24T11:10:17.733944Z"
        },
        "id": "TqYqOtp5yluv",
        "tags": []
      },
      "outputs": [],
      "source": [
        "# Importing the necessary libraries\n",
        "import torch\n",
        "import torch.nn as nn\n",
        "import torchvision\n",
        "import torchvision.transforms as transforms\n",
        "import torch.nn.functional as F\n",
        "\n",
        "from torch.optim.lr_scheduler import ReduceLROnPlateau, ExponentialLR, CyclicLR, OneCycleLR, StepLR\n",
        "\n",
        "import numpy as np\n",
        "import random\n",
        "\n",
        "from datetime import datetime\n",
        "from pathlib import Path\n",
        "import sys\n",
        "from types import SimpleNamespace\n",
        "\n",
        "import wandb\n"
      ]
    },
    {
      "cell_type": "code",
      "execution_count": null,
      "metadata": {
        "colab": {
          "base_uri": "https://localhost:8080/",
          "height": 109
        },
        "execution": {
          "iopub.execute_input": "2022-10-24T11:10:17.737921Z",
          "iopub.status.busy": "2022-10-24T11:10:17.737510Z",
          "iopub.status.idle": "2022-10-24T11:10:17.742223Z",
          "shell.execute_reply": "2022-10-24T11:10:17.741865Z",
          "shell.execute_reply.started": "2022-10-24T11:10:17.737907Z"
        },
        "id": "vsr_hAq78XFz",
        "outputId": "7dfe8a47-1d91-4506-a3dd-6fbe24ef3f92",
        "tags": []
      },
      "outputs": [
        {
          "name": "stderr",
          "output_type": "stream",
          "text": [
            "\u001b[34m\u001b[1mwandb\u001b[0m: \u001b[33mWARNING\u001b[0m Calling wandb.login() after wandb.init() has no effect.\n"
          ]
        },
        {
          "data": {
            "text/plain": [
              "True"
            ]
          },
          "execution_count": 73,
          "metadata": {},
          "output_type": "execute_result"
        }
      ],
      "source": [
        "# Login to W&B\n",
        "wandb.login()"
      ]
    },
    {
      "cell_type": "markdown",
      "metadata": {
        "id": "wMV6b_FejEfz"
      },
      "source": [
        "# <Font color = 'pickle'>**Specify Project Folders**"
      ]
    },
    {
      "cell_type": "code",
      "execution_count": null,
      "metadata": {
        "execution": {
          "iopub.execute_input": "2022-10-24T11:10:17.742851Z",
          "iopub.status.busy": "2022-10-24T11:10:17.742713Z",
          "iopub.status.idle": "2022-10-24T11:10:17.745843Z",
          "shell.execute_reply": "2022-10-24T11:10:17.745516Z",
          "shell.execute_reply.started": "2022-10-24T11:10:17.742836Z"
        },
        "id": "dIMn0Z4rjE5_",
        "tags": []
      },
      "outputs": [],
      "source": [
        "# This is the path where we will downlaod and save data\n",
        "if 'google.colab' in str(get_ipython()):\n",
        "  base_folder = Path('/content/drive/MyDrive/data')\n",
        "else:\n",
        "  base_folder = Path('/home/harpreet/Insync/google_drive_shaannoor/data')"
      ]
    },
    {
      "cell_type": "code",
      "execution_count": null,
      "metadata": {
        "execution": {
          "iopub.execute_input": "2022-10-24T11:10:17.746674Z",
          "iopub.status.busy": "2022-10-24T11:10:17.746366Z",
          "iopub.status.idle": "2022-10-24T11:10:17.749996Z",
          "shell.execute_reply": "2022-10-24T11:10:17.749678Z",
          "shell.execute_reply.started": "2022-10-24T11:10:17.746659Z"
        },
        "id": "Z0yKILuteTDE",
        "tags": []
      },
      "outputs": [],
      "source": [
        "data_folder = base_folder/'datasets/'\n",
        "model_folder = base_folder/'models/dl_fall_2022/fmnist'\n",
        "custom_functions = base_folder/'custom-functions'"
      ]
    },
    {
      "cell_type": "code",
      "execution_count": null,
      "metadata": {
        "execution": {
          "iopub.execute_input": "2022-10-24T11:10:17.750680Z",
          "iopub.status.busy": "2022-10-24T11:10:17.750520Z",
          "iopub.status.idle": "2022-10-24T11:10:17.753083Z",
          "shell.execute_reply": "2022-10-24T11:10:17.752775Z",
          "shell.execute_reply.started": "2022-10-24T11:10:17.750666Z"
        },
        "id": "cuN0HQDnjdPw",
        "tags": []
      },
      "outputs": [],
      "source": [
        "model_folder.mkdir(exist_ok=True, parents=True)"
      ]
    },
    {
      "cell_type": "code",
      "execution_count": null,
      "metadata": {
        "execution": {
          "iopub.execute_input": "2022-10-24T11:10:17.754036Z",
          "iopub.status.busy": "2022-10-24T11:10:17.753678Z",
          "iopub.status.idle": "2022-10-24T11:10:17.756279Z",
          "shell.execute_reply": "2022-10-24T11:10:17.755969Z",
          "shell.execute_reply.started": "2022-10-24T11:10:17.754022Z"
        },
        "id": "1i9tdWEkOha8",
        "tags": []
      },
      "outputs": [],
      "source": [
        "sys.path.append(str(custom_functions))"
      ]
    },
    {
      "cell_type": "code",
      "execution_count": null,
      "metadata": {
        "colab": {
          "base_uri": "https://localhost:8080/"
        },
        "execution": {
          "iopub.execute_input": "2022-10-24T11:10:17.757912Z",
          "iopub.status.busy": "2022-10-24T11:10:17.757579Z",
          "iopub.status.idle": "2022-10-24T11:10:17.761508Z",
          "shell.execute_reply": "2022-10-24T11:10:17.761159Z",
          "shell.execute_reply.started": "2022-10-24T11:10:17.757896Z"
        },
        "id": "m8C6e11FOiEX",
        "outputId": "42b88dc5-bf1b-4b98-9d47-4b1655840881",
        "tags": []
      },
      "outputs": [
        {
          "data": {
            "text/plain": [
              "['/home/harpreet/Insync/google_drive_teaching/teaching_fall_2022/dl-fall-2022/Lecture_8_CNN_II',\n",
              " '/home/harpreet/mambaforge/lib/python39.zip',\n",
              " '/home/harpreet/mambaforge/lib/python3.9',\n",
              " '/home/harpreet/mambaforge/lib/python3.9/lib-dynload',\n",
              " '',\n",
              " '/home/harpreet/mambaforge/lib/python3.9/site-packages',\n",
              " '/home/harpreet/Insync/google_drive_shaannoor/data/custom-functions',\n",
              " '/home/harpreet/Insync/google_drive_shaannoor/data/custom-functions']"
            ]
          },
          "execution_count": 78,
          "metadata": {},
          "output_type": "execute_result"
        }
      ],
      "source": [
        "sys.path"
      ]
    },
    {
      "cell_type": "markdown",
      "metadata": {
        "id": "17xctemopjdA"
      },
      "source": [
        "# <Font color = 'pickle'>**Fashion-MNIST Dataset**\n",
        "\n",
        "Fashion-MNIST dataset consists of images from 10 categories, each represented by 6000 images in the training dataset and by 1000 in the test dataset. Thus, train set contains 60000 images and test set 10000 images.\n",
        "\n",
        "All the images are grayscale with dimensions 28 x 28.\n",
        "\n",
        "Categories present in the dataset: <font color = 'indianred'>**t-shirt, trousers, pullover, dress, coat, sandal, shirt, sneaker, bag, and ankle boot**</font>\n",
        "\n",
        "Let us download the dataset using some built-in functions."
      ]
    },
    {
      "cell_type": "markdown",
      "metadata": {
        "id": "B1VfYqgk9nAD"
      },
      "source": [
        "We will first convert the images in the dataset to pytorch tensors using torchvision.transforms and then normalize them.\n",
        "\n",
        "Next, we will use torchvision.datasets for downloading the Fashion-MNIST datasets and apply transform that we defines earlier.\n",
        "\n",
        "- `trainset` conains the training data\n",
        "- `testset` contains the testing data"
      ]
    },
    {
      "cell_type": "markdown",
      "metadata": {
        "id": "bTrbf15aROgj"
      },
      "source": [
        "## <Font color = 'pickle'>**Train and Test Dataset**\n"
      ]
    },
    {
      "cell_type": "code",
      "execution_count": null,
      "metadata": {
        "execution": {
          "iopub.execute_input": "2022-10-24T11:10:17.762235Z",
          "iopub.status.busy": "2022-10-24T11:10:17.762056Z",
          "iopub.status.idle": "2022-10-24T11:10:17.804452Z",
          "shell.execute_reply": "2022-10-24T11:10:17.803460Z",
          "shell.execute_reply.started": "2022-10-24T11:10:17.762219Z"
        },
        "id": "fW8R-Djbrd05",
        "tags": []
      },
      "outputs": [],
      "source": [
        "# Transform to convert images to pytorch tensors\n",
        "trans1 = transforms.ToTensor()\n",
        "\n",
        "# Transform to normalize the data\n",
        "# The mean and std are based on train subset which we will create below\n",
        "trans2 = transforms.Normalize((0.2857,), (0.3528))\n",
        "trans = transforms.Compose([trans1, trans2])\n",
        "\n",
        "# Download the training_validation data (we will create two subsets - trainset and valset frpm this)\n",
        "train_val_set = torchvision.datasets.FashionMNIST(root = data_folder,\n",
        "                                             train = True,\n",
        "                                             transform = trans,\n",
        "                                             download = True)\n",
        "\n",
        "# Download the testing data\n",
        "testset = torchvision.datasets.FashionMNIST(root = data_folder,\n",
        "                                            train = False,\n",
        "                                            transform = trans,\n",
        "                                            download = True)"
      ]
    },
    {
      "cell_type": "markdown",
      "metadata": {
        "id": "N_ICobccV--y"
      },
      "source": [
        "## <Font color = 'pickle'>**Split train set to train/validation set**"
      ]
    },
    {
      "cell_type": "code",
      "execution_count": null,
      "metadata": {
        "execution": {
          "iopub.execute_input": "2022-10-24T11:10:17.805327Z",
          "iopub.status.busy": "2022-10-24T11:10:17.805103Z",
          "iopub.status.idle": "2022-10-24T11:10:17.808798Z",
          "shell.execute_reply": "2022-10-24T11:10:17.808304Z",
          "shell.execute_reply.started": "2022-10-24T11:10:17.805309Z"
        },
        "id": "mm5_iI3sjdwB",
        "tags": []
      },
      "outputs": [],
      "source": [
        "def split_dataset(base_dataset, fraction, seed):\n",
        "    split_a_size = int(fraction * len(base_dataset))\n",
        "    split_b_size = len(base_dataset) - split_a_size\n",
        "    return torch.utils.data.random_split(base_dataset, [split_a_size, split_b_size], generator=torch.Generator().manual_seed(seed)\n",
        "    )"
      ]
    },
    {
      "cell_type": "code",
      "execution_count": null,
      "metadata": {
        "execution": {
          "iopub.execute_input": "2022-10-24T11:10:17.809674Z",
          "iopub.status.busy": "2022-10-24T11:10:17.809433Z",
          "iopub.status.idle": "2022-10-24T11:10:17.818996Z",
          "shell.execute_reply": "2022-10-24T11:10:17.818567Z",
          "shell.execute_reply.started": "2022-10-24T11:10:17.809651Z"
        },
        "id": "8X5iQ2zpkcV1",
        "tags": []
      },
      "outputs": [],
      "source": [
        "trainset, validset = split_dataset(train_val_set, 0.8, 42)"
      ]
    },
    {
      "cell_type": "code",
      "execution_count": null,
      "metadata": {
        "colab": {
          "base_uri": "https://localhost:8080/"
        },
        "execution": {
          "iopub.execute_input": "2022-10-24T11:10:17.819848Z",
          "iopub.status.busy": "2022-10-24T11:10:17.819631Z",
          "iopub.status.idle": "2022-10-24T11:10:17.883544Z",
          "shell.execute_reply": "2022-10-24T11:10:17.883035Z",
          "shell.execute_reply.started": "2022-10-24T11:10:17.819830Z"
        },
        "id": "rEalB7m9gIv4",
        "outputId": "47838654-068a-4550-a8b4-6c95c95cdaee",
        "tags": []
      },
      "outputs": [
        {
          "name": "stdout",
          "output_type": "stream",
          "text": [
            "tensor(0.2857)\n",
            "tensor(0.3528)\n"
          ]
        }
      ],
      "source": [
        "# Since the transforms are not applied, we will manually first divide by 255\n",
        "# we will then get the mean and std dev\n",
        "# the images are still in mumpy with the shape (number of images, H, W, Channels)\n",
        "# Since we need mean, std dev\n",
        "train_data = train_val_set.data[trainset.indices]/255\n",
        "train_data.shape\n",
        "print(train_data.mean(axis = (0,1,2)))\n",
        "print(train_data.std(axis = (0,1,2)))"
      ]
    },
    {
      "cell_type": "markdown",
      "metadata": {
        "id": "yo0T-EDfzgkx"
      },
      "source": [
        "## <Font color = 'pickle'>**Small Sample**"
      ]
    },
    {
      "cell_type": "code",
      "execution_count": null,
      "metadata": {
        "execution": {
          "iopub.execute_input": "2022-10-24T11:10:17.884439Z",
          "iopub.status.busy": "2022-10-24T11:10:17.884234Z",
          "iopub.status.idle": "2022-10-24T11:10:17.888787Z",
          "shell.execute_reply": "2022-10-24T11:10:17.888326Z",
          "shell.execute_reply.started": "2022-10-24T11:10:17.884421Z"
        },
        "id": "bh-lhA6hzhxg",
        "tags": []
      },
      "outputs": [],
      "source": [
        "# n sample points\n",
        "train_sample_size = int(len(trainset)/500)\n",
        "valid_sample_size = int(len(validset)/100)\n",
        "\n",
        "# Getting n random indices\n",
        "train_subset_indices = random.sample(range(0, len(trainset)), train_sample_size)\n",
        "valid_subset_indices = random.sample(range(0, len(testset)), valid_sample_size)\n",
        "\n",
        "# Getting subset of dataset\n",
        "train_subset = torch.utils.data.Subset(trainset, train_subset_indices)\n",
        "valid_subset = torch.utils.data.Subset(validset, valid_subset_indices)"
      ]
    },
    {
      "cell_type": "markdown",
      "metadata": {
        "id": "D0ipdb9rXovr"
      },
      "source": [
        "## <Font color = 'pickle'>**Check inputs**"
      ]
    },
    {
      "cell_type": "code",
      "execution_count": null,
      "metadata": {
        "colab": {
          "base_uri": "https://localhost:8080/"
        },
        "execution": {
          "iopub.execute_input": "2022-10-24T11:10:17.890037Z",
          "iopub.status.busy": "2022-10-24T11:10:17.889501Z",
          "iopub.status.idle": "2022-10-24T11:10:17.893506Z",
          "shell.execute_reply": "2022-10-24T11:10:17.893034Z",
          "shell.execute_reply.started": "2022-10-24T11:10:17.890016Z"
        },
        "id": "SEafSvdbxaUW",
        "outputId": "f9a090ec-3a61-474f-9207-b17a0780f319",
        "tags": []
      },
      "outputs": [
        {
          "name": "stdout",
          "output_type": "stream",
          "text": [
            "<class 'torch.utils.data.dataset.Subset'>\n",
            "<class 'torchvision.datasets.mnist.FashionMNIST'>\n",
            "<class 'list'>\n"
          ]
        }
      ],
      "source": [
        "print(type(trainset), type(trainset.dataset), type(trainset.indices), sep ='\\n')"
      ]
    },
    {
      "cell_type": "code",
      "execution_count": null,
      "metadata": {
        "colab": {
          "base_uri": "https://localhost:8080/"
        },
        "execution": {
          "iopub.execute_input": "2022-10-24T11:10:17.894573Z",
          "iopub.status.busy": "2022-10-24T11:10:17.894156Z",
          "iopub.status.idle": "2022-10-24T11:10:17.898600Z",
          "shell.execute_reply": "2022-10-24T11:10:17.898197Z",
          "shell.execute_reply.started": "2022-10-24T11:10:17.894552Z"
        },
        "id": "vugZuVfwvoeT",
        "outputId": "1eadd664-0ee2-4d99-fd29-9fc88ed415ed",
        "tags": []
      },
      "outputs": [
        {
          "data": {
            "text/plain": [
              "[37542, 43087, 2992, 25810, 39634]"
            ]
          },
          "execution_count": 85,
          "metadata": {},
          "output_type": "execute_result"
        }
      ],
      "source": [
        "trainset.indices[0:5]"
      ]
    },
    {
      "cell_type": "code",
      "execution_count": null,
      "metadata": {
        "colab": {
          "base_uri": "https://localhost:8080/"
        },
        "execution": {
          "iopub.execute_input": "2022-10-24T11:10:17.899340Z",
          "iopub.status.busy": "2022-10-24T11:10:17.899177Z",
          "iopub.status.idle": "2022-10-24T11:10:17.904258Z",
          "shell.execute_reply": "2022-10-24T11:10:17.903836Z",
          "shell.execute_reply.started": "2022-10-24T11:10:17.899322Z"
        },
        "id": "wGXxzrChyQYp",
        "outputId": "5ecd2746-31f2-4b26-f088-fb433e0e2782",
        "tags": []
      },
      "outputs": [
        {
          "name": "stdout",
          "output_type": "stream",
          "text": [
            "48000\n",
            "60000\n",
            "48000\n"
          ]
        }
      ],
      "source": [
        "print(len(trainset), len(trainset.dataset), len(trainset.indices), sep ='\\n')"
      ]
    },
    {
      "cell_type": "code",
      "execution_count": null,
      "metadata": {
        "colab": {
          "base_uri": "https://localhost:8080/"
        },
        "execution": {
          "iopub.execute_input": "2022-10-24T11:10:17.905066Z",
          "iopub.status.busy": "2022-10-24T11:10:17.904860Z",
          "iopub.status.idle": "2022-10-24T11:10:17.909273Z",
          "shell.execute_reply": "2022-10-24T11:10:17.908802Z",
          "shell.execute_reply.started": "2022-10-24T11:10:17.905047Z"
        },
        "id": "w1Zov4McmuN-",
        "outputId": "fa2f565f-1a66-4244-8a17-760d1cfdc796",
        "tags": []
      },
      "outputs": [
        {
          "data": {
            "text/plain": [
              "(48000, 12000)"
            ]
          },
          "execution_count": 87,
          "metadata": {},
          "output_type": "execute_result"
        }
      ],
      "source": [
        "# Shape of training data\n",
        "len(trainset.indices), len(validset.indices)"
      ]
    },
    {
      "cell_type": "code",
      "execution_count": null,
      "metadata": {
        "colab": {
          "base_uri": "https://localhost:8080/"
        },
        "execution": {
          "iopub.execute_input": "2022-10-24T11:10:17.910133Z",
          "iopub.status.busy": "2022-10-24T11:10:17.909922Z",
          "iopub.status.idle": "2022-10-24T11:10:17.940842Z",
          "shell.execute_reply": "2022-10-24T11:10:17.940309Z",
          "shell.execute_reply.started": "2022-10-24T11:10:17.910115Z"
        },
        "id": "Ci1h1FlYvMaa",
        "outputId": "fe959aa3-80b1-4a63-b27b-7cf72553f852",
        "tags": []
      },
      "outputs": [
        {
          "name": "stdout",
          "output_type": "stream",
          "text": [
            "torch.Size([48000, 28, 28])\n",
            "torch.Size([48000, 28, 28])\n"
          ]
        }
      ],
      "source": [
        "print(train_val_set.data[trainset.indices].shape)\n",
        "print(trainset.dataset.data[trainset.indices].shape)"
      ]
    },
    {
      "cell_type": "code",
      "execution_count": null,
      "metadata": {
        "colab": {
          "base_uri": "https://localhost:8080/"
        },
        "execution": {
          "iopub.execute_input": "2022-10-24T11:10:17.941794Z",
          "iopub.status.busy": "2022-10-24T11:10:17.941558Z",
          "iopub.status.idle": "2022-10-24T11:10:17.948172Z",
          "shell.execute_reply": "2022-10-24T11:10:17.947680Z",
          "shell.execute_reply.started": "2022-10-24T11:10:17.941767Z"
        },
        "id": "f1MpLXsTvdSo",
        "outputId": "b3824214-c61b-4a8a-f168-09c5716e8c69",
        "tags": []
      },
      "outputs": [
        {
          "data": {
            "text/plain": [
              "torch.Size([12000, 28, 28])"
            ]
          },
          "execution_count": 89,
          "metadata": {},
          "output_type": "execute_result"
        }
      ],
      "source": [
        "train_val_set.data[validset.indices].shape"
      ]
    },
    {
      "cell_type": "code",
      "execution_count": null,
      "metadata": {
        "colab": {
          "base_uri": "https://localhost:8080/"
        },
        "execution": {
          "iopub.execute_input": "2022-10-24T11:10:17.949067Z",
          "iopub.status.busy": "2022-10-24T11:10:17.948871Z",
          "iopub.status.idle": "2022-10-24T11:10:17.953249Z",
          "shell.execute_reply": "2022-10-24T11:10:17.952778Z",
          "shell.execute_reply.started": "2022-10-24T11:10:17.949047Z"
        },
        "id": "JmgUaxgu_RqQ",
        "outputId": "56ada9da-6c8d-4535-af5e-aec81dcc140d",
        "tags": []
      },
      "outputs": [
        {
          "data": {
            "text/plain": [
              "torch.Size([10000, 28, 28])"
            ]
          },
          "execution_count": 90,
          "metadata": {},
          "output_type": "execute_result"
        }
      ],
      "source": [
        "# Shape of testing data\n",
        "testset.data.shape"
      ]
    },
    {
      "cell_type": "code",
      "execution_count": null,
      "metadata": {
        "colab": {
          "base_uri": "https://localhost:8080/"
        },
        "execution": {
          "iopub.execute_input": "2022-10-24T11:10:17.959005Z",
          "iopub.status.busy": "2022-10-24T11:10:17.958677Z",
          "iopub.status.idle": "2022-10-24T11:10:17.976746Z",
          "shell.execute_reply": "2022-10-24T11:10:17.976280Z",
          "shell.execute_reply.started": "2022-10-24T11:10:17.958979Z"
        },
        "id": "OS5QMGxmlqE-",
        "outputId": "94d35221-9dde-4b67-96d6-347dc775ee26",
        "tags": []
      },
      "outputs": [
        {
          "data": {
            "text/plain": [
              "tensor(255, dtype=torch.uint8)"
            ]
          },
          "execution_count": 91,
          "metadata": {},
          "output_type": "execute_result"
        }
      ],
      "source": [
        "# check the max value of inputs - the transformation are not yet applied.\n",
        "# the transofrmation are applied iteratively on batches\n",
        "# when we craete batch by iterating over dataloader\n",
        "train_val_set.data[trainset.indices].max()"
      ]
    },
    {
      "cell_type": "code",
      "execution_count": null,
      "metadata": {
        "colab": {
          "base_uri": "https://localhost:8080/"
        },
        "execution": {
          "iopub.execute_input": "2022-10-24T11:10:17.977608Z",
          "iopub.status.busy": "2022-10-24T11:10:17.977391Z",
          "iopub.status.idle": "2022-10-24T11:10:17.994858Z",
          "shell.execute_reply": "2022-10-24T11:10:17.994414Z",
          "shell.execute_reply.started": "2022-10-24T11:10:17.977588Z"
        },
        "id": "Gs5yKgGumIwN",
        "outputId": "27de079b-4588-4752-fd0c-f9579f4b9106",
        "tags": []
      },
      "outputs": [
        {
          "data": {
            "text/plain": [
              "tensor(0, dtype=torch.uint8)"
            ]
          },
          "execution_count": 92,
          "metadata": {},
          "output_type": "execute_result"
        }
      ],
      "source": [
        "# check the min value of inputs\n",
        "train_val_set.data[trainset.indices].min()"
      ]
    },
    {
      "cell_type": "markdown",
      "metadata": {
        "id": "T-JCMTUfX5vp"
      },
      "source": [
        "## <Font color = 'pickle'>**Check Labels**"
      ]
    },
    {
      "cell_type": "code",
      "execution_count": null,
      "metadata": {
        "colab": {
          "base_uri": "https://localhost:8080/"
        },
        "execution": {
          "iopub.execute_input": "2022-10-24T11:10:17.995712Z",
          "iopub.status.busy": "2022-10-24T11:10:17.995492Z",
          "iopub.status.idle": "2022-10-24T11:10:18.001378Z",
          "shell.execute_reply": "2022-10-24T11:10:18.000979Z",
          "shell.execute_reply.started": "2022-10-24T11:10:17.995693Z"
        },
        "id": "_W3Xmg7zXQAE",
        "outputId": "2e8514c3-65ff-4820-a867-67a7ec5a8e00",
        "tags": []
      },
      "outputs": [
        {
          "data": {
            "text/plain": [
              "torch.Size([48000])"
            ]
          },
          "execution_count": 93,
          "metadata": {},
          "output_type": "execute_result"
        }
      ],
      "source": [
        "# check target values for train set\n",
        "train_val_set.targets[trainset.indices].shape"
      ]
    },
    {
      "cell_type": "code",
      "execution_count": null,
      "metadata": {
        "colab": {
          "base_uri": "https://localhost:8080/"
        },
        "execution": {
          "iopub.execute_input": "2022-10-24T11:10:18.002186Z",
          "iopub.status.busy": "2022-10-24T11:10:18.001978Z",
          "iopub.status.idle": "2022-10-24T11:10:18.009889Z",
          "shell.execute_reply": "2022-10-24T11:10:18.009386Z",
          "shell.execute_reply.started": "2022-10-24T11:10:18.002167Z"
        },
        "id": "rRsK8ZYMXR38",
        "outputId": "65011f33-420a-4329-8f7b-112cf0bd24ac",
        "tags": []
      },
      "outputs": [
        {
          "data": {
            "text/plain": [
              "tensor([0, 1, 2, 3, 4, 5, 6, 7, 8, 9])"
            ]
          },
          "execution_count": 94,
          "metadata": {},
          "output_type": "execute_result"
        }
      ],
      "source": [
        "# Unique Target values\n",
        "train_val_set.targets[trainset.indices].unique()"
      ]
    },
    {
      "cell_type": "code",
      "execution_count": null,
      "metadata": {
        "colab": {
          "base_uri": "https://localhost:8080/"
        },
        "execution": {
          "iopub.execute_input": "2022-10-24T11:10:18.010854Z",
          "iopub.status.busy": "2022-10-24T11:10:18.010634Z",
          "iopub.status.idle": "2022-10-24T11:10:18.015983Z",
          "shell.execute_reply": "2022-10-24T11:10:18.015520Z",
          "shell.execute_reply.started": "2022-10-24T11:10:18.010835Z"
        },
        "id": "f36Yu2AcwjG-",
        "outputId": "e6694a1b-13de-4964-e4d9-591e2116c191",
        "tags": []
      },
      "outputs": [
        {
          "data": {
            "text/plain": [
              "tensor([0, 1, 2, 3, 4, 5, 6, 7, 8, 9])"
            ]
          },
          "execution_count": 95,
          "metadata": {},
          "output_type": "execute_result"
        }
      ],
      "source": [
        "train_val_set.targets[validset.indices].unique()"
      ]
    },
    {
      "cell_type": "code",
      "execution_count": null,
      "metadata": {
        "colab": {
          "base_uri": "https://localhost:8080/"
        },
        "execution": {
          "iopub.execute_input": "2022-10-24T11:10:18.016898Z",
          "iopub.status.busy": "2022-10-24T11:10:18.016679Z",
          "iopub.status.idle": "2022-10-24T11:10:18.021884Z",
          "shell.execute_reply": "2022-10-24T11:10:18.021397Z",
          "shell.execute_reply.started": "2022-10-24T11:10:18.016879Z"
        },
        "id": "t-axZSrQwlMk",
        "outputId": "39cadcfc-b4eb-4214-b08a-a9e28ab2f5df",
        "tags": []
      },
      "outputs": [
        {
          "data": {
            "text/plain": [
              "tensor([0, 1, 2, 3, 4, 5, 6, 7, 8, 9])"
            ]
          },
          "execution_count": 96,
          "metadata": {},
          "output_type": "execute_result"
        }
      ],
      "source": [
        "testset.targets.unique()"
      ]
    },
    {
      "cell_type": "markdown",
      "metadata": {
        "id": "U5PslDp5R7Ff"
      },
      "source": [
        "## <Font color = 'pickle'>**Check Transformations**\n",
        "\n",
        "- Check if transformation are working correctly.\n",
        "- The transformations are applied at the time of calling dataloader"
      ]
    },
    {
      "cell_type": "code",
      "execution_count": null,
      "metadata": {
        "execution": {
          "iopub.execute_input": "2022-10-24T11:10:18.022785Z",
          "iopub.status.busy": "2022-10-24T11:10:18.022559Z",
          "iopub.status.idle": "2022-10-24T11:10:18.026228Z",
          "shell.execute_reply": "2022-10-24T11:10:18.025751Z",
          "shell.execute_reply.started": "2022-10-24T11:10:18.022766Z"
        },
        "id": "gEHKwmX_ATOt",
        "tags": []
      },
      "outputs": [],
      "source": [
        "# Initializing the batch size\n",
        "batch_size = 32\n",
        "\n",
        "check_loader = torch.utils.data.DataLoader(trainset, batch_size = 64, shuffle = True)"
      ]
    },
    {
      "cell_type": "code",
      "execution_count": null,
      "metadata": {
        "colab": {
          "base_uri": "https://localhost:8080/"
        },
        "execution": {
          "iopub.execute_input": "2022-10-24T11:10:18.028663Z",
          "iopub.status.busy": "2022-10-24T11:10:18.026854Z",
          "iopub.status.idle": "2022-10-24T11:10:18.032759Z",
          "shell.execute_reply": "2022-10-24T11:10:18.032276Z",
          "shell.execute_reply.started": "2022-10-24T11:10:18.028636Z"
        },
        "id": "SrO2i0utr2fS",
        "outputId": "b5ef158d-eb15-4c27-d7dc-9bcab229fa29",
        "tags": []
      },
      "outputs": [
        {
          "data": {
            "text/plain": [
              "750"
            ]
          },
          "execution_count": 98,
          "metadata": {},
          "output_type": "execute_result"
        }
      ],
      "source": [
        "# check number of batches\n",
        "len(check_loader)"
      ]
    },
    {
      "cell_type": "code",
      "execution_count": null,
      "metadata": {
        "colab": {
          "base_uri": "https://localhost:8080/"
        },
        "execution": {
          "iopub.execute_input": "2022-10-24T11:10:18.033652Z",
          "iopub.status.busy": "2022-10-24T11:10:18.033426Z",
          "iopub.status.idle": "2022-10-24T11:10:18.038022Z",
          "shell.execute_reply": "2022-10-24T11:10:18.037506Z",
          "shell.execute_reply.started": "2022-10-24T11:10:18.033632Z"
        },
        "id": "KSYReXcBsEjs",
        "outputId": "916f9e0a-255b-4c1e-d524-f3f177362560",
        "tags": []
      },
      "outputs": [
        {
          "data": {
            "text/plain": [
              "48000"
            ]
          },
          "execution_count": 99,
          "metadata": {},
          "output_type": "execute_result"
        }
      ],
      "source": [
        "# check total training examples\n",
        "len(check_loader.dataset)"
      ]
    },
    {
      "cell_type": "code",
      "execution_count": null,
      "metadata": {
        "colab": {
          "base_uri": "https://localhost:8080/"
        },
        "execution": {
          "iopub.execute_input": "2022-10-24T11:10:18.038807Z",
          "iopub.status.busy": "2022-10-24T11:10:18.038622Z",
          "iopub.status.idle": "2022-10-24T11:10:18.054424Z",
          "shell.execute_reply": "2022-10-24T11:10:18.053954Z",
          "shell.execute_reply.started": "2022-10-24T11:10:18.038792Z"
        },
        "id": "JGIeEEzEjRlP",
        "outputId": "c3ee4baa-c9fc-4e7e-f82f-5e5d64c3dfa8",
        "tags": []
      },
      "outputs": [
        {
          "name": "stdout",
          "output_type": "stream",
          "text": [
            "shape of inputs is :torch.Size([64, 1, 28, 28])\n",
            "\n",
            "max input value  :2.0246598720550537\n",
            "\n",
            "min input value  :-0.8098071813583374\n",
            "\n",
            "mean input value  :0.011697734706103802\n",
            "\n",
            "std input value  :0.9971328973770142\n",
            "\n",
            "shape of targets is :torch.Size([64])\n",
            "\n",
            "inputs  :tensor([[-0.8098, -0.8098, -0.8098, -0.7876, -0.8098],\n",
            "        [-0.8098, -0.8098, -0.8098, -0.7987, -0.8098],\n",
            "        [-0.8098, -0.8098, -0.8098, -0.8098, -0.8098],\n",
            "        [-0.8098, -0.8098, -0.8098, -0.8098, -0.8098],\n",
            "        [-0.8098, -0.8098, -0.8098, -0.7876, -0.8098]])\n"
          ]
        }
      ],
      "source": [
        "# check imputs and outputs\n",
        "for input, target in check_loader:\n",
        "  print(f'shape of inputs is :{input.shape}')\n",
        "  print(f'\\nmax input value  :{input.max()}')\n",
        "  print(f'\\nmin input value  :{input.min()}')\n",
        "  print(f'\\nmean input value  :{input.mean()}')\n",
        "  print(f'\\nstd input value  :{input.std()}')\n",
        "  print(f'\\nshape of targets is :{target.shape}')\n",
        "  print(f'\\ninputs  :{input[0, 0, 5:10, 5:10]}')\n",
        "\n",
        "  break"
      ]
    },
    {
      "cell_type": "markdown",
      "metadata": {
        "id": "04zmdTe-EDeB"
      },
      "source": [
        "# <Font color = 'pickle'>**Visualize the Data**"
      ]
    },
    {
      "cell_type": "code",
      "execution_count": null,
      "metadata": {
        "colab": {
          "base_uri": "https://localhost:8080/",
          "height": 169
        },
        "execution": {
          "iopub.execute_input": "2022-10-24T11:10:18.055580Z",
          "iopub.status.busy": "2022-10-24T11:10:18.055145Z",
          "iopub.status.idle": "2022-10-24T11:10:18.085810Z",
          "shell.execute_reply": "2022-10-24T11:10:18.085240Z",
          "shell.execute_reply.started": "2022-10-24T11:10:18.055556Z"
        },
        "id": "1jcbvhvwCvDX",
        "outputId": "669d5209-dc07-4844-b2ec-f4e1fa72149c",
        "tags": []
      },
      "outputs": [
        {
          "data": {
            "image/png": "[encoded data removed]",
            "text/plain": [
              "<PIL.PngImagePlugin.PngImageFile image mode=RGB size=302x152>"
            ]
          },
          "execution_count": 101,
          "metadata": {},
          "output_type": "execute_result"
        }
      ],
      "source": [
        "# Get some random training images\n",
        "dataiter = iter(check_loader)\n",
        "images, labels = dataiter.next()\n",
        "\n",
        "# Create grid of images\n",
        "img_grid = torchvision.utils.make_grid(images[0:50], nrow = 10)\n",
        "\n",
        "# Logging to W&B\n",
        "images = wandb.Image(img_grid, caption = \"Sample images\")\n",
        "images.image"
      ]
    },
    {
      "cell_type": "code",
      "execution_count": null,
      "metadata": {
        "execution": {
          "iopub.execute_input": "2022-10-24T11:10:18.087115Z",
          "iopub.status.busy": "2022-10-24T11:10:18.086621Z",
          "iopub.status.idle": "2022-10-24T11:10:18.090210Z",
          "shell.execute_reply": "2022-10-24T11:10:18.089804Z",
          "shell.execute_reply.started": "2022-10-24T11:10:18.087091Z"
        },
        "id": "C64NLmbjD-Qr",
        "tags": []
      },
      "outputs": [],
      "source": [
        "# Define the values for classes\n",
        "classes = ['t-shirt', 'trouser', 'pullover', 'dress', 'coat',\n",
        "           'sandal', 'shirt', 'sneaker', 'bag', 'ankle boot']"
      ]
    },
    {
      "cell_type": "markdown",
      "metadata": {
        "id": "iQ60WJKlg3bQ"
      },
      "source": [
        "# <font color = 'pickle'> **Functions to implement Softmax**"
      ]
    },
    {
      "cell_type": "markdown",
      "metadata": {
        "id": "3D7A5cBeFoAI"
      },
      "source": [
        "Now, we will start implementing our Softmax Regression Model from scratch.\n",
        "\n",
        "We will now create following functions:\n",
        "\n",
        "- **Model**\n",
        "- **Loss Function**\n",
        "- **One Hot Encoding**\n",
        "- **Training Loop for 1 epoch**\n",
        "- **Validation Loop for 1 epoch**\n",
        "- **Model Training** - repeat the training and validation loops for given number of epochs\n",
        "- **Function to get the accuracy given the model**"
      ]
    },
    {
      "cell_type": "markdown",
      "metadata": {
        "id": "fD8fU8QXnmr8"
      },
      "source": [
        "## <Font color = 'pickle'>**Custom Deep NN**"
      ]
    },
    {
      "cell_type": "code",
      "execution_count": null,
      "metadata": {
        "execution": {
          "iopub.execute_input": "2022-10-24T11:10:18.091310Z",
          "iopub.status.busy": "2022-10-24T11:10:18.090875Z",
          "iopub.status.idle": "2022-10-24T11:10:18.097450Z",
          "shell.execute_reply": "2022-10-24T11:10:18.097015Z",
          "shell.execute_reply.started": "2022-10-24T11:10:18.091286Z"
        },
        "id": "xYBF0EcudGPO",
        "tags": []
      },
      "outputs": [],
      "source": [
        "class CustomDeepNetwork(nn.Module):\n",
        "  def __init__(self,  input_dim, output_dim, h_sizes, dprob, non_linearity, batch_norm):\n",
        "\n",
        "    super().__init__()\n",
        "    self.input_dim = input_dim\n",
        "    self.h_sizes = h_sizes # list of hidden sizes\n",
        "    self.non_linearity = non_linearity\n",
        "    self.batch_norm = batch_norm\n",
        "    self.dprob = dprob # list of dropout probabilities\n",
        "    self.output_dim = output_dim\n",
        "\n",
        "    # Initialize hidden layers\n",
        "    model_layers = [nn.Flatten()]\n",
        "\n",
        "    # hidden layers\n",
        "    for i, hidden_size in enumerate(self.h_sizes):\n",
        "      model_layers.append(nn.Linear(input_dim, hidden_size))\n",
        "      model_layers.append(self.non_linearity)\n",
        "      model_layers.append(nn.Dropout(p=dprob[i]))\n",
        "\n",
        "      if self.batch_norm:\n",
        "        model_layers.append(nn.BatchNorm1d(hidden_size, momentum=0.9))\n",
        "\n",
        "      input_dim = hidden_size\n",
        "\n",
        "    # output layer\n",
        "    model_layers.append(nn.Linear(self.h_sizes[-1], self.output_dim))\n",
        "\n",
        "    self.module_list = nn.ModuleList(model_layers)\n",
        "\n",
        "\n",
        "  def forward(self, x):\n",
        "    for layer in self.module_list:\n",
        "      x = layer(x)\n",
        "\n",
        "    # we are not using softmax function in the forward passs\n",
        "    # nn.crossentropy loss (which we will use to define our loss) combines  nn.LogSoftmax() and nn.NLLLoss() in one single class\n",
        "    return x"
      ]
    },
    {
      "cell_type": "markdown",
      "metadata": {
        "id": "aqI_o6qwy6lb"
      },
      "source": [
        "## <Font color = 'pickle'>**Function for Training  Loops**\n",
        "\n",
        "**Model Training** involves five steps:\n",
        "\n",
        "- Step 0: Randomly initialize parameters / weights\n",
        "- Step 1: Compute model's predictions - forward pass\n",
        "- Step 2: Compute loss\n",
        "- Step 3: Compute the gradients\n",
        "- Step 4: Update the parameters\n",
        "- Step 5: Repeat steps 1 - 4\n",
        "\n",
        "Model training is repeating this process over and over, for many **epochs**.\n",
        "\n",
        "We will specify number of ***epochs*** and during each epoch we will iterate over the complete dataset and will keep on updating the parameters.\n",
        "\n",
        "***Learning rate*** and ***epochs*** are known as hyperparameters. We have to adjust the values of these two based on validation dataset.\n",
        "\n",
        "We will now create functions for step 1 to 4."
      ]
    },
    {
      "cell_type": "code",
      "execution_count": null,
      "metadata": {
        "execution": {
          "iopub.execute_input": "2022-10-24T11:10:18.098348Z",
          "iopub.status.busy": "2022-10-24T11:10:18.098119Z",
          "iopub.status.idle": "2022-10-24T11:10:18.105493Z",
          "shell.execute_reply": "2022-10-24T11:10:18.105018Z",
          "shell.execute_reply.started": "2022-10-24T11:10:18.098328Z"
        },
        "id": "Pv4x22lZMn5p",
        "tags": []
      },
      "outputs": [],
      "source": [
        "def train(train_loader, loss_function, model, optimizer, grad_clipping, max_norm, log_batch, log_interval):\n",
        "\n",
        "  # Training Loop\n",
        "\n",
        "  # initilalize variables as global\n",
        "  # these counts will be updated every epoch\n",
        "  global batch_ct_train\n",
        "\n",
        "  # Initialize train_loss at the he start of the epoch\n",
        "  running_train_loss = 0\n",
        "  running_train_correct = 0\n",
        "\n",
        "  # put the model in training mode\n",
        "\n",
        "  model.train()\n",
        "  # Iterate on batches from the dataset using train_loader\n",
        "  for input_, targets in train_loader:\n",
        "\n",
        "    # move inputs and outputs to GPUs\n",
        "    input_ = input_.to(device)\n",
        "    targets = targets.to(device)\n",
        "\n",
        "\n",
        "    # Step 1: Forward Pass: Compute model's predictions\n",
        "    output = model(input_)\n",
        "\n",
        "    # Step 2: Compute loss\n",
        "    loss = loss_function(output, targets)\n",
        "\n",
        "    # Correct prediction\n",
        "    y_pred = torch.argmax(output, dim = 1)\n",
        "    correct = torch.sum(y_pred == targets)\n",
        "\n",
        "    batch_ct_train += 1\n",
        "\n",
        "    # Step 3: Backward pass -Compute the gradients\n",
        "    optimizer.zero_grad()\n",
        "    loss.backward()\n",
        "\n",
        "    # Gradient Clipping\n",
        "    if grad_clipping:\n",
        "      nn.utils.clip_grad_norm_(model.parameters(), max_norm=max_norm, norm_type=2)\n",
        "\n",
        "    # Step 4: Update the parameters\n",
        "    optimizer.step()\n",
        "\n",
        "    # Add train loss of a batch\n",
        "    running_train_loss += loss.item()\n",
        "\n",
        "    # Add Corect counts of a batch\n",
        "    running_train_correct += correct\n",
        "\n",
        "    # log batch loss and accuracy\n",
        "    if log_batch:\n",
        "      if ((batch_ct_train + 1) % log_interval) == 0:\n",
        "        wandb.log({f\"Train Batch Loss  :\": loss})\n",
        "        wandb.log({f\"Train Batch Acc :\": correct/len(targets)})\n",
        "\n",
        "\n",
        "  # Calculate mean train loss for the whole dataset for a particular epoch\n",
        "  train_loss = running_train_loss/len(train_loader)\n",
        "\n",
        "  # Calculate accuracy for the whole dataset for a particular epoch\n",
        "  train_acc = running_train_correct/len(train_loader.dataset)\n",
        "\n",
        "\n",
        "  return train_loss, train_acc"
      ]
    },
    {
      "cell_type": "markdown",
      "metadata": {
        "id": "KeLm-GI5bW2V"
      },
      "source": [
        "## <Font color = 'pickle'>**Function for Validation Loops**\n"
      ]
    },
    {
      "cell_type": "code",
      "execution_count": null,
      "metadata": {
        "execution": {
          "iopub.execute_input": "2022-10-24T11:10:18.106321Z",
          "iopub.status.busy": "2022-10-24T11:10:18.106146Z",
          "iopub.status.idle": "2022-10-24T11:10:18.112524Z",
          "shell.execute_reply": "2022-10-24T11:10:18.112014Z",
          "shell.execute_reply.started": "2022-10-24T11:10:18.106302Z"
        },
        "id": "pHP1WKDessiI",
        "tags": []
      },
      "outputs": [],
      "source": [
        "def validate(valid_loader, loss_function, model, log_batch, log_interval):\n",
        "\n",
        "  # initilalize variables as global\n",
        "  # these counts will be updated every epoch\n",
        "  global batch_ct_valid\n",
        "\n",
        "  # Validation/Test loop\n",
        "  # Initialize valid_loss at the he strat of the epoch\n",
        "  running_val_loss = 0\n",
        "  running_val_correct = 0\n",
        "\n",
        "  # put the model in evaluation mode\n",
        "  model.eval()\n",
        "\n",
        "  with torch.no_grad():\n",
        "    for input_,targets in valid_loader:\n",
        "\n",
        "      # move inputs and outputs to GPUs\n",
        "      input_ = input_.to(device)\n",
        "      targets = targets.to(device)\n",
        "\n",
        "      # Step 1: Forward Pass: Compute model's predictions\n",
        "      output = model(input_)\n",
        "\n",
        "      # Step 2: Compute loss\n",
        "      loss = loss_function(output, targets)\n",
        "\n",
        "      # Correct Predictions\n",
        "      y_pred = torch.argmax(output, dim = 1)\n",
        "      correct = torch.sum(y_pred == targets)\n",
        "\n",
        "      batch_ct_valid += 1\n",
        "\n",
        "      # Add val loss of a batch\n",
        "      running_val_loss += loss.item()\n",
        "\n",
        "      # Add correct count for each batch\n",
        "      running_val_correct += correct\n",
        "\n",
        "      # log batch loss and accuracy\n",
        "      if log_batch:\n",
        "        if ((batch_ct_valid + 1) % log_interval) == 0:\n",
        "          wandb.log({f\"Valid Batch Loss  :\": loss})\n",
        "          wandb.log({f\"Valid Batch Accuracy :\": correct/len(targets)})\n",
        "\n",
        "    # Calculate mean val loss for the whole dataset for a particular epoch\n",
        "    val_loss = running_val_loss/len(valid_loader)\n",
        "\n",
        "    # Calculate accuracy for the whole dataset for a particular epoch\n",
        "    val_acc = running_val_correct/len(valid_loader.dataset)\n",
        "\n",
        "    # scheduler step\n",
        "    scheduler.step(val_loss)\n",
        "    # scheduler.step()\n",
        "\n",
        "  return val_loss, val_acc"
      ]
    },
    {
      "cell_type": "markdown",
      "metadata": {
        "id": "UwF70eqE6n_v"
      },
      "source": [
        "## <Font color = 'pickle'>**Function for Model Training**\n",
        "    \n",
        "We will now create a function for step 5 of model training\n"
      ]
    },
    {
      "cell_type": "code",
      "execution_count": null,
      "metadata": {
        "execution": {
          "iopub.execute_input": "2022-10-24T11:10:18.113559Z",
          "iopub.status.busy": "2022-10-24T11:10:18.113216Z",
          "iopub.status.idle": "2022-10-24T11:10:18.124139Z",
          "shell.execute_reply": "2022-10-24T11:10:18.123676Z",
          "shell.execute_reply.started": "2022-10-24T11:10:18.113539Z"
        },
        "id": "KeCKVgg-5FiZ",
        "tags": []
      },
      "outputs": [],
      "source": [
        "def train_loop(train_loader, valid_loader, model, optimizer, loss_function, epochs, device, patience, early_stopping,\n",
        "               file_model, save_best_model):\n",
        "\n",
        "  \"\"\"\n",
        "  Function for training the model and plotting the graph for train & validation loss vs epoch.\n",
        "  Input: iterator for train dataset, initial weights and bias, epochs, learning rate, batch size.\n",
        "  Output: final weights, bias and train loss and validation loss for each epoch.\n",
        "  \"\"\"\n",
        "\n",
        "  # Create lists to store train and val loss at each epoch\n",
        "  train_loss_history = []\n",
        "  valid_loss_history = []\n",
        "  train_acc_history = []\n",
        "  valid_acc_history = []\n",
        "\n",
        "  # initialize variables for early stopping\n",
        "\n",
        "  delta = 0\n",
        "  best_score = None\n",
        "  valid_loss_min = np.Inf\n",
        "  counter_early_stop=0\n",
        "  early_stop=False\n",
        "\n",
        "  # Iterate for the given number of epochs\n",
        "  # Step 5: Repeat steps 1 - 4\n",
        "\n",
        "  for epoch in range(epochs):\n",
        "\n",
        "    t0 = datetime.now()\n",
        "\n",
        "    # Get train loss and accuracy for one epoch\n",
        "    train_loss, train_acc = train(train_loader, loss_function, model, optimizer,\n",
        "                                  wandb.config.grad_clipping, wandb.config.max_norm,\n",
        "                                  wandb.config.log_batch, wandb.config.log_interval)\n",
        "    valid_loss, valid_acc   = validate(valid_loader, loss_function, model, wandb.config.log_batch, wandb.config.log_interval)\n",
        "\n",
        "    dt = datetime.now() - t0\n",
        "\n",
        "    # Save history of the Losses and accuracy\n",
        "    train_loss_history.append(train_loss)\n",
        "    train_acc_history.append(train_acc)\n",
        "\n",
        "    valid_loss_history.append(valid_loss)\n",
        "    valid_acc_history.append(valid_acc)\n",
        "\n",
        "    # Log the train and valid loss to wandb\n",
        "    wandb.log({f\"Train Loss :\": train_loss, \"epoch\": epoch})\n",
        "    wandb.log({f\"Train Acc :\": train_acc, \"epoch\": epoch})\n",
        "\n",
        "    wandb.log({f\"Valid Loss :\": valid_loss, \"epoch\": epoch})\n",
        "    wandb.log({f\"Valid Acc :\": valid_acc, \"epoch\": epoch})\n",
        "\n",
        "    if early_stopping:\n",
        "      score = -valid_loss\n",
        "      if best_score is None:\n",
        "        best_score=score\n",
        "        print(f'Validation loss has decreased ({valid_loss_min:.6f} --> {valid_loss:.6f}). Saving Model...')\n",
        "        torch.save(model.state_dict(), file_model)\n",
        "        valid_loss_min = valid_loss\n",
        "\n",
        "      elif score < best_score + delta:\n",
        "        counter_early_stop += 1\n",
        "        print(f'Early stoping counter: {counter_early_stop} out of {patience}')\n",
        "        if counter_early_stop > patience:\n",
        "          early_stop = True\n",
        "\n",
        "\n",
        "      else:\n",
        "        best_score = score\n",
        "        print(f'Validation loss has decreased ({valid_loss_min:.6f} --> {valid_loss:.6f}). Saving model...')\n",
        "        torch.save(model.state_dict(), file_model)\n",
        "        counter_early_stop=0\n",
        "        valid_loss_min = valid_loss\n",
        "\n",
        "      if early_stop:\n",
        "        print('Early Stopping')\n",
        "        break\n",
        "\n",
        "    elif save_best_model:\n",
        "\n",
        "      score = -valid_loss\n",
        "      if best_score is None:\n",
        "        best_score=score\n",
        "        print(f'Validation loss has decreased ({valid_loss_min:.6f} --> {valid_loss:.6f}). Saving Model...')\n",
        "        torch.save(model.state_dict(), file_model)\n",
        "        valid_loss_min = valid_loss\n",
        "\n",
        "      elif score < best_score + delta:\n",
        "        print(f'Validation loss has not decreased ({valid_loss_min:.6f} --> {valid_loss:.6f}). Not Saving Model...')\n",
        "\n",
        "      else:\n",
        "        best_score = score\n",
        "        print(f'Validation loss has decreased ({valid_loss_min:.6f} --> {valid_loss:.6f}). Saving model...')\n",
        "        torch.save(model.state_dict(), file_model)\n",
        "        valid_loss_min = valid_loss\n",
        "\n",
        "    else:\n",
        "        torch.save(model.state_dict(), file_model)\n",
        "\n",
        "    # Print the train loss and accuracy for given number of epochs, batch size and number of samples\n",
        "    print(f'Epoch : {epoch+1} / {epochs}')\n",
        "    print(f'Time to complete {epoch+1} is {dt}')\n",
        "    print(f'Learning rate: {scheduler._last_lr[0]}')\n",
        "    print(f'Train Loss: {train_loss : .4f} | Train Accuracy: {train_acc * 100 : .4f}%')\n",
        "    print(f'Valid Loss: {valid_loss : .4f} | Valid Accuracy: {valid_acc * 100 : .4f}%')\n",
        "    print()\n",
        "    torch.cuda.empty_cache()\n",
        "\n",
        "  return train_loss_history, train_acc_history, valid_loss_history, valid_acc_history"
      ]
    },
    {
      "cell_type": "markdown",
      "metadata": {
        "id": "FWCLH47azD6j"
      },
      "source": [
        "## <Font color = 'pickle'>**Function for Accuracy and Predictions**\n",
        "\n",
        "Now we have final values for weights and bias after training the model. We will use these values to make predictions on the test dataset."
      ]
    },
    {
      "cell_type": "code",
      "execution_count": null,
      "metadata": {
        "execution": {
          "iopub.execute_input": "2022-10-24T11:10:18.125120Z",
          "iopub.status.busy": "2022-10-24T11:10:18.124785Z",
          "iopub.status.idle": "2022-10-24T11:10:18.130599Z",
          "shell.execute_reply": "2022-10-24T11:10:18.130070Z",
          "shell.execute_reply.started": "2022-10-24T11:10:18.125101Z"
        },
        "id": "M6KZqsnqQFVu",
        "tags": []
      },
      "outputs": [],
      "source": [
        "def get_acc_pred(data_loader, model, device):\n",
        "\n",
        "  \"\"\"\n",
        "  Function to get predictions and accuracy for a given data using estimated model\n",
        "  Input: Data iterator, Final estimated weoights, bias\n",
        "  Output: Prections and Accuracy for given dataset\n",
        "  \"\"\"\n",
        "\n",
        "  # Array to store predicted labels\n",
        "  predictions = torch.Tensor() # empty tensor\n",
        "  predictions = predictions.to(device) # move predictions to GPU\n",
        "\n",
        "  # Array to store actual labels\n",
        "  y = torch.Tensor() # empty tensor\n",
        "  y = y.to(device)\n",
        "\n",
        "  # put the model in evaluation mode\n",
        "  model.eval()\n",
        "\n",
        "  # Iterate over batches from data iterator\n",
        "  with torch.no_grad():\n",
        "    for input_, targets in data_loader:\n",
        "\n",
        "      # move inputs and outputs to GPUs\n",
        "\n",
        "      input_ = input_.to(device)\n",
        "      targets = targets.to(device)\n",
        "\n",
        "      # Calculated the predicted labels\n",
        "      output = model(input_)\n",
        "\n",
        "      # Choose the label with maximum probability\n",
        "      prediction = torch.argmax(output, dim = 1)\n",
        "\n",
        "      # Add the predicted labels to the array\n",
        "      predictions = torch.cat((predictions, prediction))\n",
        "\n",
        "      # Add the actual labels to the array\n",
        "      y = torch.cat((y, targets))\n",
        "\n",
        "  # Check for complete dataset if actual and predicted labels are same or not\n",
        "  # Calculate accuracy\n",
        "  acc = (predictions == y).float().mean()\n",
        "\n",
        "  # Return tuple containing predictions and accuracy\n",
        "  return predictions, acc"
      ]
    },
    {
      "cell_type": "markdown",
      "metadata": {
        "id": "5nF5iTy_VqdV"
      },
      "source": [
        "# <Font color = 'pickle'>**Meta Data**"
      ]
    },
    {
      "cell_type": "code",
      "execution_count": null,
      "metadata": {
        "execution": {
          "iopub.execute_input": "2022-10-24T11:10:18.131720Z",
          "iopub.status.busy": "2022-10-24T11:10:18.131332Z",
          "iopub.status.idle": "2022-10-24T11:10:18.137079Z",
          "shell.execute_reply": "2022-10-24T11:10:18.136584Z",
          "shell.execute_reply.started": "2022-10-24T11:10:18.131698Z"
        },
        "id": "TAuG3mxBWHaz",
        "tags": []
      },
      "outputs": [],
      "source": [
        "hyperparameters = SimpleNamespace(\n",
        "    epochs = 50,\n",
        "    input_dim = 784,\n",
        "    output_dim = 10,\n",
        "    h_sizes = [300] * 5,\n",
        "    dprob = [0] * 5,\n",
        "    non_linearity = nn.ELU(),\n",
        "    batch_norm = True,\n",
        "    batch_size=128,\n",
        "    learning_rate=0.05,\n",
        "    dataset=\"FashionMNIST\",\n",
        "    architecture=\"Deep_NN\",\n",
        "    log_interval = 25,\n",
        "    log_batch = True,\n",
        "    file_model = model_folder/'final_fmnist.pt',\n",
        "    grad_clipping = True,\n",
        "    max_norm = 1,\n",
        "    momentum = 0.9,\n",
        "    patience = 10,\n",
        "    early_stopping = True,\n",
        "    scheduler_factor = 0.5,\n",
        "    scheduler_patience = 0,\n",
        "    weight_decay = 0.001,\n",
        "    save_best_model = True,\n",
        "    device = torch.device('cuda:0' if torch.cuda.is_available() else 'cpu')\n",
        "\n",
        "    )"
      ]
    },
    {
      "cell_type": "markdown",
      "metadata": {
        "id": "oVk_RctgdPRP"
      },
      "source": [
        "# <Font color = 'pickle'>**Data Loaders, Loss Function, Optimizer**"
      ]
    },
    {
      "cell_type": "code",
      "execution_count": null,
      "metadata": {
        "colab": {
          "base_uri": "https://localhost:8080/",
          "height": 109,
          "referenced_widgets": [
            "",
            "8adb309047c44f538fd406c857bede18"
          ]
        },
        "execution": {
          "iopub.execute_input": "2022-10-24T11:10:18.138230Z",
          "iopub.status.busy": "2022-10-24T11:10:18.137824Z",
          "iopub.status.idle": "2022-10-24T11:10:29.336178Z",
          "shell.execute_reply": "2022-10-24T11:10:29.335843Z",
          "shell.execute_reply.started": "2022-10-24T11:10:18.138209Z"
        },
        "id": "nxw5O_4AnW5d",
        "outputId": "ca093545-7a11-498c-de94-904d0cf47a05",
        "tags": []
      },
      "outputs": [
        {
          "data": {
            "text/html": [
              "Finishing last run (ID:1ud72zpo) before initializing another..."
            ],
            "text/plain": [
              "<IPython.core.display.HTML object>"
            ]
          },
          "metadata": {},
          "output_type": "display_data"
        },
        {
          "data": {
            "text/html": [
              "Waiting for W&B process to finish... <strong style=\"color:green\">(success).</strong>"
            ],
            "text/plain": [
              "<IPython.core.display.HTML object>"
            ]
          },
          "metadata": {},
          "output_type": "display_data"
        },
        {
          "data": {
            "application/vnd.jupyter.widget-view+json": {
              "model_id": "",
              "version_major": 2,
              "version_minor": 0
            },
            "text/plain": [
              "VBox(children=(Label(value='0.004 MB of 0.004 MB uploaded (0.000 MB deduped)\\r'), FloatProgress(value=1.0, max…"
            ]
          },
          "metadata": {},
          "output_type": "display_data"
        },
        {
          "data": {
            "text/html": [
              "<style>\n",
              "    table.wandb td:nth-child(1) { padding: 0 10px; text-align: left ; width: auto;} td:nth-child(2) {text-align: left ; width: 100%}\n",
              "    .wandb-row { display: flex; flex-direction: row; flex-wrap: wrap; justify-content: flex-start; width: 100% }\n",
              "    .wandb-col { display: flex; flex-direction: column; flex-basis: 100%; flex: 1; padding: 10px; }\n",
              "    </style>\n",
              "<div class=\"wandb-row\"><div class=\"wandb-col\"><h3>Run history:</h3><br/><table class=\"wandb\"><tr><td>Train Batch Acc :</td><td>▃▁▅▃▆▆▄▅▅▆▆▆▆█▄</td></tr><tr><td>Train Batch Loss  :</td><td>▆█▃▆▄▃▃▆▂▃▃▂▃▁▅</td></tr><tr><td>Valid Batch Accuracy :</td><td>▁</td></tr><tr><td>Valid Batch Loss  :</td><td>▁</td></tr></table><br/></div><div class=\"wandb-col\"><h3>Run summary:</h3><br/><table class=\"wandb\"><tr><td>Train Batch Acc :</td><td>0.79688</td></tr><tr><td>Train Batch Loss  :</td><td>0.5305</td></tr><tr><td>Valid Batch Accuracy :</td><td>0.85938</td></tr><tr><td>Valid Batch Loss  :</td><td>0.52499</td></tr></table><br/></div></div>"
            ],
            "text/plain": [
              "<IPython.core.display.HTML object>"
            ]
          },
          "metadata": {},
          "output_type": "display_data"
        },
        {
          "data": {
            "text/html": [
              "Synced <strong style=\"color:#cdcd00\">exp1</strong>: <a href=\"https://wandb.ai/hsingh-utd/dl22_reg/runs/1ud72zpo\" target=\"_blank\">https://wandb.ai/hsingh-utd/dl22_reg/runs/1ud72zpo</a><br/>Synced 6 W&B file(s), 1 media file(s), 0 artifact file(s) and 0 other file(s)"
            ],
            "text/plain": [
              "<IPython.core.display.HTML object>"
            ]
          },
          "metadata": {},
          "output_type": "display_data"
        },
        {
          "data": {
            "text/html": [
              "Find logs at: <code>./wandb/run-20221024_060823-1ud72zpo/logs</code>"
            ],
            "text/plain": [
              "<IPython.core.display.HTML object>"
            ]
          },
          "metadata": {},
          "output_type": "display_data"
        },
        {
          "data": {
            "text/html": [
              "Successfully finished last run (ID:1ud72zpo). Initializing new run:<br/>"
            ],
            "text/plain": [
              "<IPython.core.display.HTML object>"
            ]
          },
          "metadata": {},
          "output_type": "display_data"
        },
        {
          "data": {
            "application/vnd.jupyter.widget-view+json": {
              "model_id": "8adb309047c44f538fd406c857bede18",
              "version_major": 2,
              "version_minor": 0
            },
            "text/plain": [
              "VBox(children=(Label(value='Waiting for wandb.init()...\\r'), FloatProgress(value=0.03333590825398763, max=1.0)…"
            ]
          },
          "metadata": {},
          "output_type": "display_data"
        },
        {
          "data": {
            "text/html": [
              "wandb version 0.13.4 is available!  To upgrade, please run:\n",
              " $ pip install wandb --upgrade"
            ],
            "text/plain": [
              "<IPython.core.display.HTML object>"
            ]
          },
          "metadata": {},
          "output_type": "display_data"
        },
        {
          "data": {
            "text/html": [
              "Tracking run with wandb version 0.13.3"
            ],
            "text/plain": [
              "<IPython.core.display.HTML object>"
            ]
          },
          "metadata": {},
          "output_type": "display_data"
        },
        {
          "data": {
            "text/html": [
              "Run data is saved locally in <code>/home/harpreet/Insync/google_drive_teaching/teaching_fall_2022/dl-fall-2022/Lecture_8_CNN_II/wandb/run-20221024_061018-2g4qtdih</code>"
            ],
            "text/plain": [
              "<IPython.core.display.HTML object>"
            ]
          },
          "metadata": {},
          "output_type": "display_data"
        },
        {
          "data": {
            "text/html": [
              "Syncing run <strong><a href=\"https://wandb.ai/hsingh-utd/dl22_reg/runs/2g4qtdih\" target=\"_blank\">exp1</a></strong> to <a href=\"https://wandb.ai/hsingh-utd/dl22_reg\" target=\"_blank\">Weights & Biases</a> (<a href=\"https://wandb.me/run\" target=\"_blank\">docs</a>)<br/>"
            ],
            "text/plain": [
              "<IPython.core.display.HTML object>"
            ]
          },
          "metadata": {},
          "output_type": "display_data"
        },
        {
          "data": {
            "text/html": [
              "<button onClick=\"this.nextSibling.style.display='block';this.style.display='none';\">Display W&B run</button><iframe src=\"https://wandb.ai/hsingh-utd/dl22_reg/runs/2g4qtdih?jupyter=true\" style=\"border:none;width:100%;height:420px;display:none;\"></iframe>"
            ],
            "text/plain": [
              "<wandb.sdk.wandb_run.Run at 0x7f08f0a5c7f0>"
            ]
          },
          "execution_count": 109,
          "metadata": {},
          "output_type": "execute_result"
        }
      ],
      "source": [
        "# Initialize a new project\n",
        "wandb.init(name = \"exp1\", project = 'dl22_reg' , config = hyperparameters)"
      ]
    },
    {
      "cell_type": "code",
      "execution_count": null,
      "metadata": {
        "colab": {
          "base_uri": "https://localhost:8080/"
        },
        "execution": {
          "iopub.execute_input": "2022-10-24T11:10:29.336801Z",
          "iopub.status.busy": "2022-10-24T11:10:29.336668Z",
          "iopub.status.idle": "2022-10-24T11:10:29.340682Z",
          "shell.execute_reply": "2022-10-24T11:10:29.340151Z",
          "shell.execute_reply.started": "2022-10-24T11:10:29.336787Z"
        },
        "id": "bzm0xlmjkJMl",
        "outputId": "0c4c2909-7f57-4674-dd53-e20d62eb2283",
        "tags": []
      },
      "outputs": [
        {
          "data": {
            "text/plain": [
              "namespace(epochs=50,\n",
              "          input_dim=784,\n",
              "          output_dim=10,\n",
              "          h_sizes=[300, 300, 300, 300, 300],\n",
              "          dprob=[0, 0, 0, 0, 0],\n",
              "          non_linearity=ELU(alpha=1.0),\n",
              "          batch_norm=True,\n",
              "          batch_size=128,\n",
              "          learning_rate=0.05,\n",
              "          dataset='FashionMNIST',\n",
              "          architecture='Deep_NN',\n",
              "          log_interval=25,\n",
              "          log_batch=True,\n",
              "          file_model=PosixPath('/home/harpreet/Insync/google_drive_shaannoor/data/models/dl_fall_2022/fmnist/final_fmnist.pt'),\n",
              "          grad_clipping=True,\n",
              "          max_norm=1,\n",
              "          momentum=0.9,\n",
              "          patience=10,\n",
              "          early_stopping=True,\n",
              "          scheduler_factor=0.5,\n",
              "          scheduler_patience=0,\n",
              "          weight_decay=0.001,\n",
              "          save_best_model=True,\n",
              "          device=device(type='cuda', index=0))"
            ]
          },
          "execution_count": 110,
          "metadata": {},
          "output_type": "execute_result"
        }
      ],
      "source": [
        "wandb.config = hyperparameters\n",
        "wandb.config"
      ]
    },
    {
      "cell_type": "code",
      "execution_count": null,
      "metadata": {
        "execution": {
          "iopub.execute_input": "2022-10-24T11:10:29.341466Z",
          "iopub.status.busy": "2022-10-24T11:10:29.341313Z",
          "iopub.status.idle": "2022-10-24T11:10:29.361439Z",
          "shell.execute_reply": "2022-10-24T11:10:29.360838Z",
          "shell.execute_reply.started": "2022-10-24T11:10:29.341450Z"
        },
        "id": "k8HvfSFXkKMo",
        "tags": []
      },
      "outputs": [],
      "source": [
        "# Fix seed value\n",
        "SEED = 2345\n",
        "random.seed(SEED)\n",
        "np.random.seed(SEED)\n",
        "torch.manual_seed(SEED)\n",
        "torch.cuda.manual_seed(SEED)\n",
        "torch.backends.cudnn.deterministic = True\n",
        "\n",
        "# Data Loader\n",
        "train_loader = torch.utils.data.DataLoader(trainset, batch_size=wandb.config.batch_size, shuffle = True)\n",
        "valid_loader = torch.utils.data.DataLoader(validset, batch_size=wandb.config.batch_size, shuffle = False)\n",
        "test_loader = torch.utils.data.DataLoader(testset, batch_size=wandb.config.batch_size,   shuffle = False)\n",
        "\n",
        "# model\n",
        "model = CustomDeepNetwork(wandb.config.input_dim, wandb.config.output_dim, wandb.config.h_sizes,\n",
        "                          wandb.config.dprob, wandb.config.non_linearity, wandb.config.batch_norm)\n",
        "\n",
        "# Initialize weights from normal distribution with mean 0 and standard deviation 0.01\n",
        "def init_weights(layer):\n",
        "  if type(layer) == nn.Linear:\n",
        "    torch.nn.init.kaiming_normal_(layer.weight)\n",
        "    torch.nn.init.zeros_(layer.bias)\n",
        "\n",
        "model.to(wandb.config.device)\n",
        "model.apply(init_weights)\n",
        "\n",
        "# loss_function\n",
        "loss_function = nn.CrossEntropyLoss()\n",
        "\n",
        "optimizer = torch.optim.SGD(model.parameters(),\n",
        "                            lr = wandb.config.learning_rate,\n",
        "                            momentum = wandb.config.momentum,\n",
        "                            weight_decay = wandb.config.weight_decay)\n",
        "\n",
        "scheduler = ReduceLROnPlateau(optimizer, mode='min', factor= wandb.config.scheduler_factor,\n",
        "                              patience=wandb.config.scheduler_patience, verbose=True)\n",
        "\n",
        "#scheduler = StepLR(optimizer, gamma=0.4,step_size=1, verbose=True)"
      ]
    },
    {
      "cell_type": "markdown",
      "metadata": {
        "id": "ffeGh2dcukdK"
      },
      "source": [
        "# <Font color = 'pickle'>**Sanity Check**\n",
        "- Check the loss without any training. For Cross entropy the expected value will be log(number of classes)"
      ]
    },
    {
      "cell_type": "code",
      "execution_count": null,
      "metadata": {
        "colab": {
          "base_uri": "https://localhost:8080/"
        },
        "execution": {
          "iopub.execute_input": "2022-10-24T11:10:29.362229Z",
          "iopub.status.busy": "2022-10-24T11:10:29.362046Z",
          "iopub.status.idle": "2022-10-24T11:10:29.425216Z",
          "shell.execute_reply": "2022-10-24T11:10:29.424699Z",
          "shell.execute_reply.started": "2022-10-24T11:10:29.362214Z"
        },
        "id": "p2Gx7jgbumux",
        "outputId": "aed62a32-1880-40c9-a496-6ddabc5b68fe",
        "tags": []
      },
      "outputs": [
        {
          "name": "stdout",
          "output_type": "stream",
          "text": [
            "Actual loss: 3.825993299484253\n",
            "Actual loss: 4.0214385986328125\n",
            "Actual loss: 4.056970596313477\n",
            "Expected Theoretical loss: 2.302585092994046\n"
          ]
        }
      ],
      "source": [
        "device = torch.device('cuda:0' if torch.cuda.is_available() else 'cpu')\n",
        "i = 0\n",
        "for input_, targets in train_loader:\n",
        "\n",
        "  # move inputs and outputs to GPUs\n",
        "  input_ = input_.to(device)\n",
        "  targets = targets.to(device)\n",
        "  model.eval()\n",
        "  # Forward pass\n",
        "  output = model(input_)\n",
        "  loss = loss_function(output, targets)\n",
        "  print(f'Actual loss: {loss}')\n",
        "  i += 1\n",
        "\n",
        "  if i >2:\n",
        "    break\n",
        "\n",
        "\n",
        "print(f'Expected Theoretical loss: {np.log(10)}')"
      ]
    },
    {
      "cell_type": "markdown",
      "metadata": {
        "id": "e0_zWk0Ib74K"
      },
      "source": [
        "# <Font color = 'pickle'>**Training Model**"
      ]
    },
    {
      "cell_type": "code",
      "execution_count": null,
      "metadata": {
        "colab": {
          "base_uri": "https://localhost:8080/"
        },
        "execution": {
          "iopub.execute_input": "2022-10-24T11:10:29.426086Z",
          "iopub.status.busy": "2022-10-24T11:10:29.425876Z",
          "iopub.status.idle": "2022-10-24T11:10:29.431066Z",
          "shell.execute_reply": "2022-10-24T11:10:29.430661Z",
          "shell.execute_reply.started": "2022-10-24T11:10:29.426068Z"
        },
        "id": "VMRqou7hpMf4",
        "outputId": "2dfbf7e7-e817-4e17-b37b-6327e32b8d7e",
        "tags": []
      },
      "outputs": [
        {
          "name": "stderr",
          "output_type": "stream",
          "text": [
            "\u001b[34m\u001b[1mwandb\u001b[0m: logging graph, to disable use `wandb.watch(log_graph=False)`\n"
          ]
        },
        {
          "data": {
            "text/plain": [
              "[<wandb.wandb_torch.TorchGraph at 0x7f08f0a70700>]"
            ]
          },
          "execution_count": 113,
          "metadata": {},
          "output_type": "execute_result"
        }
      ],
      "source": [
        "wandb.watch(model, log = 'all', log_freq=25, log_graph=True)"
      ]
    },
    {
      "cell_type": "code",
      "execution_count": null,
      "metadata": {
        "colab": {
          "base_uri": "https://localhost:8080/"
        },
        "execution": {
          "iopub.execute_input": "2022-10-24T11:10:29.431768Z",
          "iopub.status.busy": "2022-10-24T11:10:29.431586Z",
          "iopub.status.idle": "2022-10-24T11:13:54.684640Z",
          "shell.execute_reply": "2022-10-24T11:13:54.684107Z",
          "shell.execute_reply.started": "2022-10-24T11:10:29.431752Z"
        },
        "id": "LckLb_9bhZDw",
        "outputId": "523bf46e-2bf9-4742-e55b-0196240b0a6e",
        "tags": []
      },
      "outputs": [
        {
          "name": "stdout",
          "output_type": "stream",
          "text": [
            "Validation loss has decreased (inf --> 0.432644). Saving Model...\n",
            "Epoch : 1 / 50\n",
            "Time to complete 1 is 0:00:08.214409\n",
            "Learning rate: 0.05\n",
            "Train Loss:  0.5104 | Train Accuracy:  82.0375%\n",
            "Valid Loss:  0.4326 | Valid Accuracy:  85.2750%\n",
            "\n",
            "Validation loss has decreased (0.432644 --> 0.360886). Saving model...\n",
            "Epoch : 2 / 50\n",
            "Time to complete 2 is 0:00:08.056055\n",
            "Learning rate: 0.05\n",
            "Train Loss:  0.3722 | Train Accuracy:  86.3042%\n",
            "Valid Loss:  0.3609 | Valid Accuracy:  86.5667%\n",
            "\n",
            "Validation loss has decreased (0.360886 --> 0.347501). Saving model...\n",
            "Epoch : 3 / 50\n",
            "Time to complete 3 is 0:00:07.978682\n",
            "Learning rate: 0.05\n",
            "Train Loss:  0.3381 | Train Accuracy:  87.5583%\n",
            "Valid Loss:  0.3475 | Valid Accuracy:  87.1417%\n",
            "\n",
            "Epoch 00004: reducing learning rate of group 0 to 2.5000e-02.\n",
            "Early stoping counter: 1 out of 10\n",
            "Epoch : 4 / 50\n",
            "Time to complete 4 is 0:00:07.747078\n",
            "Learning rate: 0.025\n",
            "Train Loss:  0.3274 | Train Accuracy:  87.9542%\n",
            "Valid Loss:  0.3586 | Valid Accuracy:  87.3750%\n",
            "\n",
            "Validation loss has decreased (0.347501 --> 0.317301). Saving model...\n",
            "Epoch : 5 / 50\n",
            "Time to complete 5 is 0:00:07.662043\n",
            "Learning rate: 0.025\n",
            "Train Loss:  0.2782 | Train Accuracy:  89.8062%\n",
            "Valid Loss:  0.3173 | Valid Accuracy:  88.3917%\n",
            "\n",
            "Epoch 00006: reducing learning rate of group 0 to 1.2500e-02.\n",
            "Early stoping counter: 1 out of 10\n",
            "Epoch : 6 / 50\n",
            "Time to complete 6 is 0:00:07.986799\n",
            "Learning rate: 0.0125\n",
            "Train Loss:  0.2651 | Train Accuracy:  90.2896%\n",
            "Valid Loss:  0.3271 | Valid Accuracy:  88.0417%\n",
            "\n",
            "Validation loss has decreased (0.317301 --> 0.309675). Saving model...\n",
            "Epoch : 7 / 50\n",
            "Time to complete 7 is 0:00:07.847800\n",
            "Learning rate: 0.0125\n",
            "Train Loss:  0.2299 | Train Accuracy:  91.4688%\n",
            "Valid Loss:  0.3097 | Valid Accuracy:  88.7750%\n",
            "\n",
            "Epoch 00008: reducing learning rate of group 0 to 6.2500e-03.\n",
            "Early stoping counter: 1 out of 10\n",
            "Epoch : 8 / 50\n",
            "Time to complete 8 is 0:00:08.026368\n",
            "Learning rate: 0.00625\n",
            "Train Loss:  0.2192 | Train Accuracy:  91.9375%\n",
            "Valid Loss:  0.3363 | Valid Accuracy:  87.7833%\n",
            "\n",
            "Validation loss has decreased (0.309675 --> 0.307415). Saving model...\n",
            "Epoch : 9 / 50\n",
            "Time to complete 9 is 0:00:08.156940\n",
            "Learning rate: 0.00625\n",
            "Train Loss:  0.1949 | Train Accuracy:  92.9854%\n",
            "Valid Loss:  0.3074 | Valid Accuracy:  89.2667%\n",
            "\n",
            "Validation loss has decreased (0.307415 --> 0.303220). Saving model...\n",
            "Epoch : 10 / 50\n",
            "Time to complete 10 is 0:00:08.079569\n",
            "Learning rate: 0.00625\n",
            "Train Loss:  0.1893 | Train Accuracy:  93.0854%\n",
            "Valid Loss:  0.3032 | Valid Accuracy:  89.2167%\n",
            "\n",
            "Epoch 00011: reducing learning rate of group 0 to 3.1250e-03.\n",
            "Early stoping counter: 1 out of 10\n",
            "Epoch : 11 / 50\n",
            "Time to complete 11 is 0:00:07.888306\n",
            "Learning rate: 0.003125\n",
            "Train Loss:  0.1850 | Train Accuracy:  93.1562%\n",
            "Valid Loss:  0.3117 | Valid Accuracy:  89.1750%\n",
            "\n",
            "Validation loss has decreased (0.303220 --> 0.303056). Saving model...\n",
            "Epoch : 12 / 50\n",
            "Time to complete 12 is 0:00:07.926023\n",
            "Learning rate: 0.003125\n",
            "Train Loss:  0.1690 | Train Accuracy:  93.9979%\n",
            "Valid Loss:  0.3031 | Valid Accuracy:  89.4833%\n",
            "\n",
            "Epoch 00013: reducing learning rate of group 0 to 1.5625e-03.\n",
            "Early stoping counter: 1 out of 10\n",
            "Epoch : 13 / 50\n",
            "Time to complete 13 is 0:00:07.945253\n",
            "Learning rate: 0.0015625\n",
            "Train Loss:  0.1659 | Train Accuracy:  94.0708%\n",
            "Valid Loss:  0.3082 | Valid Accuracy:  89.3750%\n",
            "\n",
            "Epoch 00014: reducing learning rate of group 0 to 7.8125e-04.\n",
            "Early stoping counter: 2 out of 10\n",
            "Epoch : 14 / 50\n",
            "Time to complete 14 is 0:00:07.970579\n",
            "Learning rate: 0.00078125\n",
            "Train Loss:  0.1562 | Train Accuracy:  94.4625%\n",
            "Valid Loss:  0.3065 | Valid Accuracy:  89.4750%\n",
            "\n",
            "Validation loss has decreased (0.303056 --> 0.295699). Saving model...\n",
            "Epoch : 15 / 50\n",
            "Time to complete 15 is 0:00:07.647538\n",
            "Learning rate: 0.00078125\n",
            "Train Loss:  0.1506 | Train Accuracy:  94.6729%\n",
            "Valid Loss:  0.2957 | Valid Accuracy:  89.8083%\n",
            "\n",
            "Epoch 00016: reducing learning rate of group 0 to 3.9063e-04.\n",
            "Early stoping counter: 1 out of 10\n",
            "Epoch : 16 / 50\n",
            "Time to complete 16 is 0:00:07.577531\n",
            "Learning rate: 0.000390625\n",
            "Train Loss:  0.1495 | Train Accuracy:  94.7375%\n",
            "Valid Loss:  0.3182 | Valid Accuracy:  89.3000%\n",
            "\n",
            "Epoch 00017: reducing learning rate of group 0 to 1.9531e-04.\n",
            "Early stoping counter: 2 out of 10\n",
            "Epoch : 17 / 50\n",
            "Time to complete 17 is 0:00:07.724889\n",
            "Learning rate: 0.0001953125\n",
            "Train Loss:  0.1470 | Train Accuracy:  94.9062%\n",
            "Valid Loss:  0.3049 | Valid Accuracy:  89.5917%\n",
            "\n",
            "Epoch 00018: reducing learning rate of group 0 to 9.7656e-05.\n",
            "Early stoping counter: 3 out of 10\n",
            "Epoch : 18 / 50\n",
            "Time to complete 18 is 0:00:07.734372\n",
            "Learning rate: 9.765625e-05\n",
            "Train Loss:  0.1444 | Train Accuracy:  95.0479%\n",
            "Valid Loss:  0.3022 | Valid Accuracy:  89.5333%\n",
            "\n",
            "Epoch 00019: reducing learning rate of group 0 to 4.8828e-05.\n",
            "Early stoping counter: 4 out of 10\n",
            "Epoch : 19 / 50\n",
            "Time to complete 19 is 0:00:07.822453\n",
            "Learning rate: 4.8828125e-05\n",
            "Train Loss:  0.1450 | Train Accuracy:  94.9646%\n",
            "Valid Loss:  0.3047 | Valid Accuracy:  89.6667%\n",
            "\n",
            "Epoch 00020: reducing learning rate of group 0 to 2.4414e-05.\n",
            "Early stoping counter: 5 out of 10\n",
            "Epoch : 20 / 50\n",
            "Time to complete 20 is 0:00:08.037999\n",
            "Learning rate: 2.44140625e-05\n",
            "Train Loss:  0.1444 | Train Accuracy:  95.0417%\n",
            "Valid Loss:  0.3093 | Valid Accuracy:  89.5167%\n",
            "\n",
            "Epoch 00021: reducing learning rate of group 0 to 1.2207e-05.\n",
            "Early stoping counter: 6 out of 10\n",
            "Epoch : 21 / 50\n",
            "Time to complete 21 is 0:00:08.017102\n",
            "Learning rate: 1.220703125e-05\n",
            "Train Loss:  0.1428 | Train Accuracy:  95.1229%\n",
            "Valid Loss:  0.3012 | Valid Accuracy:  89.6583%\n",
            "\n",
            "Epoch 00022: reducing learning rate of group 0 to 6.1035e-06.\n",
            "Early stoping counter: 7 out of 10\n",
            "Epoch : 22 / 50\n",
            "Time to complete 22 is 0:00:07.856288\n",
            "Learning rate: 6.103515625e-06\n",
            "Train Loss:  0.1425 | Train Accuracy:  95.0354%\n",
            "Valid Loss:  0.3070 | Valid Accuracy:  89.6500%\n",
            "\n",
            "Epoch 00023: reducing learning rate of group 0 to 3.0518e-06.\n",
            "Early stoping counter: 8 out of 10\n",
            "Epoch : 23 / 50\n",
            "Time to complete 23 is 0:00:07.695177\n",
            "Learning rate: 3.0517578125e-06\n",
            "Train Loss:  0.1431 | Train Accuracy:  94.9688%\n",
            "Valid Loss:  0.3106 | Valid Accuracy:  89.3417%\n",
            "\n",
            "Epoch 00024: reducing learning rate of group 0 to 1.5259e-06.\n",
            "Early stoping counter: 9 out of 10\n",
            "Epoch : 24 / 50\n",
            "Time to complete 24 is 0:00:07.832562\n",
            "Learning rate: 1.52587890625e-06\n",
            "Train Loss:  0.1433 | Train Accuracy:  95.0167%\n",
            "Valid Loss:  0.3162 | Valid Accuracy:  89.1667%\n",
            "\n",
            "Epoch 00025: reducing learning rate of group 0 to 7.6294e-07.\n",
            "Early stoping counter: 10 out of 10\n",
            "Epoch : 25 / 50\n",
            "Time to complete 25 is 0:00:07.898551\n",
            "Learning rate: 7.62939453125e-07\n",
            "Train Loss:  0.1437 | Train Accuracy:  94.9937%\n",
            "Valid Loss:  0.3069 | Valid Accuracy:  89.5833%\n",
            "\n",
            "Epoch 00026: reducing learning rate of group 0 to 3.8147e-07.\n",
            "Early stoping counter: 11 out of 10\n",
            "Early Stopping\n"
          ]
        }
      ],
      "source": [
        "# See live graphs in the notebook.\n",
        "#%%wandb\n",
        "batch_ct_train, batch_ct_valid = 0, 0\n",
        "train_loss_history, train_acc_history, valid_loss_history, valid_acc_history = train_loop(train_loader,\n",
        "                                                                                          valid_loader,\n",
        "                                                                                          model,\n",
        "                                                                                          optimizer,\n",
        "                                                                                          loss_function,\n",
        "                                                                                          wandb.config.epochs,\n",
        "                                                                                          wandb.config.device,\n",
        "                                                                                          wandb.config.patience,\n",
        "                                                                                          wandb.config.early_stopping,\n",
        "                                                                                          wandb.config.file_model,\n",
        "                                                                                          wandb.config.save_best_model\n",
        "                                                                                          )"
      ]
    },
    {
      "cell_type": "code",
      "source": [],
      "metadata": {
        "id": "yBzgJBO26YLl"
      },
      "execution_count": null,
      "outputs": []
    },
    {
      "cell_type": "markdown",
      "metadata": {
        "id": "c-Cj1f2Qb74K"
      },
      "source": [
        "# <Font color = 'pickle'>**Get Accuracy, Predictions**"
      ]
    },
    {
      "cell_type": "code",
      "execution_count": null,
      "metadata": {
        "colab": {
          "base_uri": "https://localhost:8080/"
        },
        "execution": {
          "iopub.execute_input": "2022-10-24T11:13:54.685734Z",
          "iopub.status.busy": "2022-10-24T11:13:54.685404Z",
          "iopub.status.idle": "2022-10-24T11:13:54.689414Z",
          "shell.execute_reply": "2022-10-24T11:13:54.689038Z",
          "shell.execute_reply.started": "2022-10-24T11:13:54.685691Z"
        },
        "id": "Yq98qA9a301t",
        "outputId": "4a5b2c61-6233-4246-afaa-cabf8f5232d8",
        "tags": []
      },
      "outputs": [
        {
          "data": {
            "text/plain": [
              "device(type='cuda', index=0)"
            ]
          },
          "execution_count": 115,
          "metadata": {},
          "output_type": "execute_result"
        }
      ],
      "source": [
        "device"
      ]
    },
    {
      "cell_type": "code",
      "execution_count": null,
      "metadata": {
        "colab": {
          "base_uri": "https://localhost:8080/"
        },
        "execution": {
          "iopub.execute_input": "2022-10-24T11:13:54.690098Z",
          "iopub.status.busy": "2022-10-24T11:13:54.689967Z",
          "iopub.status.idle": "2022-10-24T11:13:54.708375Z",
          "shell.execute_reply": "2022-10-24T11:13:54.707886Z",
          "shell.execute_reply.started": "2022-10-24T11:13:54.690084Z"
        },
        "id": "dZQF1CbgKEKd",
        "outputId": "db6cddab-6bb7-4842-a062-1edf5f1459ec",
        "tags": []
      },
      "outputs": [
        {
          "data": {
            "text/plain": [
              "<All keys matched successfully>"
            ]
          },
          "execution_count": 116,
          "metadata": {},
          "output_type": "execute_result"
        }
      ],
      "source": [
        "# model_saved = shallow_nn_seq(wandb.config.input_dim, wandb.config.output_dim, wandb.config.hidden_dim1, bias=True)\n",
        "#model_saved = DeepNetwork(wandb.config.input_dim, wandb.config.output_dim, wandb.config.hidden_dim1, wandb.config.hidden_dim2,\n",
        "#                   wandb.config.hidden_dim3, wandb.config.hidden_dim4)\n",
        "model_saved= CustomDeepNetwork(wandb.config.input_dim, wandb.config.output_dim, wandb.config.h_sizes,\n",
        "                          wandb.config.dprob, wandb.config.non_linearity, wandb.config.batch_norm)\n",
        "model_saved.to(device)\n",
        "model_saved.load_state_dict(torch.load(wandb.config.file_model))"
      ]
    },
    {
      "cell_type": "code",
      "execution_count": null,
      "metadata": {
        "execution": {
          "iopub.execute_input": "2022-10-24T11:13:54.709210Z",
          "iopub.status.busy": "2022-10-24T11:13:54.709024Z",
          "iopub.status.idle": "2022-10-24T11:14:02.328738Z",
          "shell.execute_reply": "2022-10-24T11:14:02.328220Z",
          "shell.execute_reply.started": "2022-10-24T11:13:54.709187Z"
        },
        "id": "yw7GhoZuRdIO",
        "tags": []
      },
      "outputs": [],
      "source": [
        "# Get the prediction and accuracy for the test dataseta\n",
        "predictions_test, acc_test = get_acc_pred(test_loader, model_saved, device)\n",
        "predictions_train, acc_train = get_acc_pred(train_loader, model_saved, device)\n",
        "predictions_valid, acc_valid = get_acc_pred(valid_loader, model_saved, device)"
      ]
    },
    {
      "cell_type": "code",
      "execution_count": null,
      "metadata": {
        "colab": {
          "base_uri": "https://localhost:8080/"
        },
        "execution": {
          "iopub.execute_input": "2022-10-24T11:14:02.329416Z",
          "iopub.status.busy": "2022-10-24T11:14:02.329275Z",
          "iopub.status.idle": "2022-10-24T11:14:02.335615Z",
          "shell.execute_reply": "2022-10-24T11:14:02.335161Z",
          "shell.execute_reply.started": "2022-10-24T11:14:02.329401Z"
        },
        "id": "3v2z0oFcRjrF",
        "outputId": "68f0c50e-3988-4c34-e82c-589ad5b0b05e",
        "tags": []
      },
      "outputs": [
        {
          "name": "stdout",
          "output_type": "stream",
          "text": [
            "Test accuracy tensor(89.0200, device='cuda:0')\n",
            "Train accuracy tensor(95.2146, device='cuda:0')\n",
            "Valid accuracy tensor(89.8083, device='cuda:0')\n"
          ]
        }
      ],
      "source": [
        "# Print Test Accuracy\n",
        "print('Test accuracy', acc_test * 100)\n",
        "print('Train accuracy', acc_train * 100)\n",
        "print('Valid accuracy', acc_valid * 100)"
      ]
    },
    {
      "cell_type": "code",
      "execution_count": null,
      "metadata": {
        "execution": {
          "iopub.execute_input": "2022-10-24T11:14:02.336404Z",
          "iopub.status.busy": "2022-10-24T11:14:02.336199Z",
          "iopub.status.idle": "2022-10-24T11:14:02.339615Z",
          "shell.execute_reply": "2022-10-24T11:14:02.339082Z",
          "shell.execute_reply.started": "2022-10-24T11:14:02.336388Z"
        },
        "id": "vcfIlMd3FKAX",
        "tags": []
      },
      "outputs": [],
      "source": [
        "wandb.log({'Best_test_Acc': acc_test})\n",
        "wandb.log({'Best_train_Acc': acc_train})\n",
        "wandb.log({'Best_valid_Acc': acc_valid})"
      ]
    },
    {
      "cell_type": "markdown",
      "metadata": {
        "id": "caRp4G3ov5fp"
      },
      "source": [
        "# <Font color = 'pickle'>**Confusion Matrix for Test Data**"
      ]
    },
    {
      "cell_type": "markdown",
      "metadata": {
        "id": "GZf0pSyQV32m"
      },
      "source": [
        "Now, we will make some visualizations for the predictions that we obtained."
      ]
    },
    {
      "cell_type": "markdown",
      "metadata": {
        "id": "5sQH0GvxXnam"
      },
      "source": [
        "We will construct a `confusion matrix` which will help us to visualize the performance of our classification model on the test dataset as we know the true values for the test data."
      ]
    },
    {
      "cell_type": "code",
      "execution_count": null,
      "metadata": {
        "execution": {
          "iopub.execute_input": "2022-10-24T11:14:02.340416Z",
          "iopub.status.busy": "2022-10-24T11:14:02.340225Z",
          "iopub.status.idle": "2022-10-24T11:14:02.343143Z",
          "shell.execute_reply": "2022-10-24T11:14:02.342530Z",
          "shell.execute_reply.started": "2022-10-24T11:14:02.340400Z"
        },
        "id": "NaiRaPuQYYIV",
        "tags": []
      },
      "outputs": [],
      "source": [
        "# Get an array containing actual labels\n",
        "testing_labels = np.array(testset.targets)"
      ]
    },
    {
      "cell_type": "code",
      "execution_count": null,
      "metadata": {
        "colab": {
          "base_uri": "https://localhost:8080/"
        },
        "execution": {
          "iopub.execute_input": "2022-10-24T11:14:02.343913Z",
          "iopub.status.busy": "2022-10-24T11:14:02.343745Z",
          "iopub.status.idle": "2022-10-24T11:14:02.348246Z",
          "shell.execute_reply": "2022-10-24T11:14:02.347901Z",
          "shell.execute_reply.started": "2022-10-24T11:14:02.343897Z"
        },
        "id": "wMuZ1Yl2X47z",
        "outputId": "8b8cb627-2c05-4f1a-9bc2-67ce8124ce3b",
        "tags": []
      },
      "outputs": [
        {
          "data": {
            "text/plain": [
              "array([0, 1, 2, 3, 4, 5, 6, 7, 8, 9])"
            ]
          },
          "execution_count": 121,
          "metadata": {},
          "output_type": "execute_result"
        }
      ],
      "source": [
        "np.unique(testing_labels)"
      ]
    },
    {
      "cell_type": "code",
      "execution_count": null,
      "metadata": {
        "execution": {
          "iopub.execute_input": "2022-10-24T11:14:02.349046Z",
          "iopub.status.busy": "2022-10-24T11:14:02.348724Z",
          "iopub.status.idle": "2022-10-24T11:14:02.799946Z",
          "shell.execute_reply": "2022-10-24T11:14:02.799379Z",
          "shell.execute_reply.started": "2022-10-24T11:14:02.349029Z"
        },
        "id": "lAtBZumJcuwX",
        "tags": []
      },
      "outputs": [],
      "source": [
        "# Log a confusion matrix to W&B\n",
        "wandb.log({\"conf_mat\" : wandb.plot.confusion_matrix(\n",
        "                        probs = None,\n",
        "                        y_true = testing_labels,\n",
        "                        preds = predictions_test.to('cpu').numpy(),\n",
        "                        class_names = classes)})\n"
      ]
    },
    {
      "cell_type": "code",
      "execution_count": null,
      "metadata": {
        "colab": {
          "base_uri": "https://localhost:8080/",
          "height": 559,
          "referenced_widgets": [
            "d97ad06ab3a04601847f3283b4e98224",
            "e05a4f16fe2d41feadc95d80887b2df3",
            "00cf1241f04943579a9bf7f7db5b3e86",
            "340403669d4640a7af1470d597dc71dc",
            "b99ad935e56948649d0611d8a436dbed",
            "d5be4e8eb1f945abbb075685442e8b15",
            "5bf13b717f6b4d4094c623343a4272ea",
            "fa10cb893f544af8a66fa65a1ec9ed7d",
            ""
          ]
        },
        "execution": {
          "iopub.execute_input": "2022-10-24T11:14:02.800928Z",
          "iopub.status.busy": "2022-10-24T11:14:02.800713Z",
          "iopub.status.idle": "2022-10-24T11:14:10.836239Z",
          "shell.execute_reply": "2022-10-24T11:14:10.835826Z",
          "shell.execute_reply.started": "2022-10-24T11:14:02.800908Z"
        },
        "id": "jIlsxRdPHZYa",
        "outputId": "7fccb1cb-0bcf-4e44-b6bc-d2e028e50e63",
        "tags": []
      },
      "outputs": [
        {
          "data": {
            "text/html": [
              "Waiting for W&B process to finish... <strong style=\"color:green\">(success).</strong>"
            ],
            "text/plain": [
              "<IPython.core.display.HTML object>"
            ]
          },
          "metadata": {},
          "output_type": "display_data"
        },
        {
          "data": {
            "application/vnd.jupyter.widget-view+json": {
              "model_id": "",
              "version_major": 2,
              "version_minor": 0
            },
            "text/plain": [
              "VBox(children=(Label(value='0.010 MB of 0.010 MB uploaded (0.000 MB deduped)\\r'), FloatProgress(value=1.0, max…"
            ]
          },
          "metadata": {},
          "output_type": "display_data"
        },
        {
          "data": {
            "text/html": [
              "<style>\n",
              "    table.wandb td:nth-child(1) { padding: 0 10px; text-align: left ; width: auto;} td:nth-child(2) {text-align: left ; width: 100%}\n",
              "    .wandb-row { display: flex; flex-direction: row; flex-wrap: wrap; justify-content: flex-start; width: 100% }\n",
              "    .wandb-col { display: flex; flex-direction: column; flex-basis: 100%; flex: 1; padding: 10px; }\n",
              "    </style>\n",
              "<div class=\"wandb-row\"><div class=\"wandb-col\"><h3>Run history:</h3><br/><table class=\"wandb\"><tr><td>Best_test_Acc</td><td>▁</td></tr><tr><td>Best_train_Acc</td><td>▁</td></tr><tr><td>Best_valid_Acc</td><td>▁</td></tr><tr><td>Train Acc :</td><td>▁▃▄▄▅▅▆▆▇▇▇▇▇█████████████</td></tr><tr><td>Train Batch Acc :</td><td>▁▄▃▆▄▃▄▇▇▅▄▆▆▇▇▆▆▆▆▇█▇▇▇▇▆▆▇▇▆▇▇██▆▇▇▇▇▇</td></tr><tr><td>Train Batch Loss  :</td><td>█▅▅▃▅▅▄▂▂▃▄▃▃▂▁▂▃▂▃▂▁▂▂▂▁▂▃▂▂▂▂▁▁▁▂▂▁▁▁▂</td></tr><tr><td>Train Loss :</td><td>█▅▅▅▄▃▃▂▂▂▂▂▁▁▁▁▁▁▁▁▁▁▁▁▁▁</td></tr><tr><td>Valid Acc :</td><td>▁▃▄▄▆▅▆▅▇▇▇▇▇▇█▇██████▇▇█▇</td></tr><tr><td>Valid Batch Accuracy :</td><td>▂▁▆▂▁▃▂▁▃▂▇▄▂▄▅▄▆▃▇▃▂▃▆▅▃▆▅▅▂▃▇▄█▄▄▃▂▄▅▃</td></tr><tr><td>Valid Batch Loss  :</td><td>█▇▃▄▆▅▅▇▄▆▃▄▅▅▄▅▃▄▃▅▆▄▃▄▆▃▄▄▇▆▃▄▁▅▅▆▅▄▃▄</td></tr><tr><td>Valid Loss :</td><td>█▄▄▄▂▃▂▃▂▁▂▁▂▂▁▂▁▁▁▂▁▂▂▂▂▂</td></tr><tr><td>epoch</td><td>▁▁▁▁▂▂▂▂▂▂▃▃▃▃▄▄▄▄▄▄▅▅▅▅▅▅▆▆▆▆▆▇▇▇▇▇▇███</td></tr></table><br/></div><div class=\"wandb-col\"><h3>Run summary:</h3><br/><table class=\"wandb\"><tr><td>Best_test_Acc</td><td>0.8902</td></tr><tr><td>Best_train_Acc</td><td>0.95215</td></tr><tr><td>Best_valid_Acc</td><td>0.89808</td></tr><tr><td>Train Acc :</td><td>0.94946</td></tr><tr><td>Train Batch Acc :</td><td>0.96094</td></tr><tr><td>Train Batch Loss  :</td><td>0.12395</td></tr><tr><td>Train Loss :</td><td>0.14472</td></tr><tr><td>Valid Acc :</td><td>0.89475</td></tr><tr><td>Valid Batch Accuracy :</td><td>0.875</td></tr><tr><td>Valid Batch Loss  :</td><td>0.31113</td></tr><tr><td>Valid Loss :</td><td>0.31318</td></tr><tr><td>epoch</td><td>25</td></tr></table><br/></div></div>"
            ],
            "text/plain": [
              "<IPython.core.display.HTML object>"
            ]
          },
          "metadata": {},
          "output_type": "display_data"
        },
        {
          "data": {
            "text/html": [
              "Synced <strong style=\"color:#cdcd00\">exp1</strong>: <a href=\"https://wandb.ai/hsingh-utd/dl22_reg/runs/2g4qtdih\" target=\"_blank\">https://wandb.ai/hsingh-utd/dl22_reg/runs/2g4qtdih</a><br/>Synced 6 W&B file(s), 2 media file(s), 1 artifact file(s) and 0 other file(s)"
            ],
            "text/plain": [
              "<IPython.core.display.HTML object>"
            ]
          },
          "metadata": {},
          "output_type": "display_data"
        },
        {
          "data": {
            "text/html": [
              "Find logs at: <code>./wandb/run-20221024_061018-2g4qtdih/logs</code>"
            ],
            "text/plain": [
              "<IPython.core.display.HTML object>"
            ]
          },
          "metadata": {},
          "output_type": "display_data"
        }
      ],
      "source": [
        "wandb.finish()"
      ]
    }
  ],
  "metadata": {
    "accelerator": "GPU",
    "colab": {
      "machine_shape": "hm",
      "provenance": [],
      "include_colab_link": true
    },
    "gpuClass": "standard",
    "kernelspec": {
      "display_name": "Python 3 (ipykernel)",
      "language": "python",
      "name": "python3"
    },
    "language_info": {
      "codemirror_mode": {
        "name": "ipython",
        "version": 3
      },
      "file_extension": ".py",
      "mimetype": "text/x-python",
      "name": "python",
      "nbconvert_exporter": "python",
      "pygments_lexer": "ipython3",
      "version": "3.9.13"
    },
    "widgets": {
      "application/vnd.jupyter.widget-state+json": {
        "00cf1241f04943579a9bf7f7db5b3e86": {
          "model_module": "@jupyter-widgets/controls",
          "model_module_version": "1.5.0",
          "model_name": "FloatProgressModel",
          "state": {
            "_dom_classes": [],
            "_model_module": "@jupyter-widgets/controls",
            "_model_module_version": "1.5.0",
            "_model_name": "FloatProgressModel",
            "_view_count": null,
            "_view_module": "@jupyter-widgets/controls",
            "_view_module_version": "1.5.0",
            "_view_name": "ProgressView",
            "bar_style": "",
            "description": "",
            "description_tooltip": null,
            "layout": "IPY_MODEL_5bf13b717f6b4d4094c623343a4272ea",
            "max": 1,
            "min": 0,
            "orientation": "horizontal",
            "style": "IPY_MODEL_fa10cb893f544af8a66fa65a1ec9ed7d",
            "value": 0.1362084509540208
          }
        },
        "340403669d4640a7af1470d597dc71dc": {
          "model_module": "@jupyter-widgets/base",
          "model_module_version": "1.2.0",
          "model_name": "LayoutModel",
          "state": {
            "_model_module": "@jupyter-widgets/base",
            "_model_module_version": "1.2.0",
            "_model_name": "LayoutModel",
            "_view_count": null,
            "_view_module": "@jupyter-widgets/base",
            "_view_module_version": "1.2.0",
            "_view_name": "LayoutView",
            "align_content": null,
            "align_items": null,
            "align_self": null,
            "border": null,
            "bottom": null,
            "display": null,
            "flex": null,
            "flex_flow": null,
            "grid_area": null,
            "grid_auto_columns": null,
            "grid_auto_flow": null,
            "grid_auto_rows": null,
            "grid_column": null,
            "grid_gap": null,
            "grid_row": null,
            "grid_template_areas": null,
            "grid_template_columns": null,
            "grid_template_rows": null,
            "height": null,
            "justify_content": null,
            "justify_items": null,
            "left": null,
            "margin": null,
            "max_height": null,
            "max_width": null,
            "min_height": null,
            "min_width": null,
            "object_fit": null,
            "object_position": null,
            "order": null,
            "overflow": null,
            "overflow_x": null,
            "overflow_y": null,
            "padding": null,
            "right": null,
            "top": null,
            "visibility": null,
            "width": null
          }
        },
        "5bf13b717f6b4d4094c623343a4272ea": {
          "model_module": "@jupyter-widgets/base",
          "model_module_version": "1.2.0",
          "model_name": "LayoutModel",
          "state": {
            "_model_module": "@jupyter-widgets/base",
            "_model_module_version": "1.2.0",
            "_model_name": "LayoutModel",
            "_view_count": null,
            "_view_module": "@jupyter-widgets/base",
            "_view_module_version": "1.2.0",
            "_view_name": "LayoutView",
            "align_content": null,
            "align_items": null,
            "align_self": null,
            "border": null,
            "bottom": null,
            "display": null,
            "flex": null,
            "flex_flow": null,
            "grid_area": null,
            "grid_auto_columns": null,
            "grid_auto_flow": null,
            "grid_auto_rows": null,
            "grid_column": null,
            "grid_gap": null,
            "grid_row": null,
            "grid_template_areas": null,
            "grid_template_columns": null,
            "grid_template_rows": null,
            "height": null,
            "justify_content": null,
            "justify_items": null,
            "left": null,
            "margin": null,
            "max_height": null,
            "max_width": null,
            "min_height": null,
            "min_width": null,
            "object_fit": null,
            "object_position": null,
            "order": null,
            "overflow": null,
            "overflow_x": null,
            "overflow_y": null,
            "padding": null,
            "right": null,
            "top": null,
            "visibility": null,
            "width": null
          }
        },
        "b99ad935e56948649d0611d8a436dbed": {
          "model_module": "@jupyter-widgets/base",
          "model_module_version": "1.2.0",
          "model_name": "LayoutModel",
          "state": {
            "_model_module": "@jupyter-widgets/base",
            "_model_module_version": "1.2.0",
            "_model_name": "LayoutModel",
            "_view_count": null,
            "_view_module": "@jupyter-widgets/base",
            "_view_module_version": "1.2.0",
            "_view_name": "LayoutView",
            "align_content": null,
            "align_items": null,
            "align_self": null,
            "border": null,
            "bottom": null,
            "display": null,
            "flex": null,
            "flex_flow": null,
            "grid_area": null,
            "grid_auto_columns": null,
            "grid_auto_flow": null,
            "grid_auto_rows": null,
            "grid_column": null,
            "grid_gap": null,
            "grid_row": null,
            "grid_template_areas": null,
            "grid_template_columns": null,
            "grid_template_rows": null,
            "height": null,
            "justify_content": null,
            "justify_items": null,
            "left": null,
            "margin": null,
            "max_height": null,
            "max_width": null,
            "min_height": null,
            "min_width": null,
            "object_fit": null,
            "object_position": null,
            "order": null,
            "overflow": null,
            "overflow_x": null,
            "overflow_y": null,
            "padding": null,
            "right": null,
            "top": null,
            "visibility": null,
            "width": null
          }
        },
        "d5be4e8eb1f945abbb075685442e8b15": {
          "model_module": "@jupyter-widgets/controls",
          "model_module_version": "1.5.0",
          "model_name": "DescriptionStyleModel",
          "state": {
            "_model_module": "@jupyter-widgets/controls",
            "_model_module_version": "1.5.0",
            "_model_name": "DescriptionStyleModel",
            "_view_count": null,
            "_view_module": "@jupyter-widgets/base",
            "_view_module_version": "1.2.0",
            "_view_name": "StyleView",
            "description_width": ""
          }
        },
        "d97ad06ab3a04601847f3283b4e98224": {
          "model_module": "@jupyter-widgets/controls",
          "model_module_version": "1.5.0",
          "model_name": "VBoxModel",
          "state": {
            "_dom_classes": [],
            "_model_module": "@jupyter-widgets/controls",
            "_model_module_version": "1.5.0",
            "_model_name": "VBoxModel",
            "_view_count": null,
            "_view_module": "@jupyter-widgets/controls",
            "_view_module_version": "1.5.0",
            "_view_name": "VBoxView",
            "box_style": "",
            "children": [
              "IPY_MODEL_e05a4f16fe2d41feadc95d80887b2df3",
              "IPY_MODEL_00cf1241f04943579a9bf7f7db5b3e86"
            ],
            "layout": "IPY_MODEL_340403669d4640a7af1470d597dc71dc"
          }
        },
        "e05a4f16fe2d41feadc95d80887b2df3": {
          "model_module": "@jupyter-widgets/controls",
          "model_module_version": "1.5.0",
          "model_name": "LabelModel",
          "state": {
            "_dom_classes": [],
            "_model_module": "@jupyter-widgets/controls",
            "_model_module_version": "1.5.0",
            "_model_name": "LabelModel",
            "_view_count": null,
            "_view_module": "@jupyter-widgets/controls",
            "_view_module_version": "1.5.0",
            "_view_name": "LabelView",
            "description": "",
            "description_tooltip": null,
            "layout": "IPY_MODEL_b99ad935e56948649d0611d8a436dbed",
            "placeholder": "​",
            "style": "IPY_MODEL_d5be4e8eb1f945abbb075685442e8b15",
            "value": "0.009 MB of 0.065 MB uploaded (0.000 MB deduped)\r"
          }
        },
        "fa10cb893f544af8a66fa65a1ec9ed7d": {
          "model_module": "@jupyter-widgets/controls",
          "model_module_version": "1.5.0",
          "model_name": "ProgressStyleModel",
          "state": {
            "_model_module": "@jupyter-widgets/controls",
            "_model_module_version": "1.5.0",
            "_model_name": "ProgressStyleModel",
            "_view_count": null,
            "_view_module": "@jupyter-widgets/base",
            "_view_module_version": "1.2.0",
            "_view_name": "StyleView",
            "bar_color": null,
            "description_width": ""
          }
        }
      }
    }
  },
  "nbformat": 4,
  "nbformat_minor": 0
}
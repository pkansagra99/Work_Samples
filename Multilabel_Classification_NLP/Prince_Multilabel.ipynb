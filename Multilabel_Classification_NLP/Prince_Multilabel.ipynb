{
  "cells": [
    {
      "cell_type": "markdown",
      "metadata": {
        "id": "FIxAU6f3S-MI"
      },
      "source": [
        "# <Font color = 'pickle'>**Load Libraries/Install Software**"
      ]
    },
    {
      "cell_type": "code",
      "execution_count": null,
      "metadata": {
        "execution": {
          "iopub.execute_input": "2022-10-24T09:22:05.950717Z",
          "iopub.status.busy": "2022-10-24T09:22:05.950028Z",
          "iopub.status.idle": "2022-10-24T09:22:05.976035Z",
          "shell.execute_reply": "2022-10-24T09:22:05.975507Z",
          "shell.execute_reply.started": "2022-10-24T09:22:05.950700Z"
        },
        "id": "silZTZDXNSGU"
      },
      "outputs": [],
      "source": [
        "%load_ext autoreload\n",
        "%autoreload 2"
      ]
    },
    {
      "cell_type": "code",
      "execution_count": null,
      "metadata": {
        "colab": {
          "base_uri": "https://localhost:8080/"
        },
        "execution": {
          "iopub.execute_input": "2022-11-27T00:23:29.192565Z",
          "iopub.status.busy": "2022-11-27T00:23:29.192271Z",
          "iopub.status.idle": "2022-11-27T00:23:29.201977Z",
          "shell.execute_reply": "2022-11-27T00:23:29.201283Z",
          "shell.execute_reply.started": "2022-11-27T00:23:29.192478Z"
        },
        "id": "-h5a-vtFb738",
        "outputId": "e2e77dea-755c-45e2-b165-72e3ba3f32f5",
        "tags": []
      },
      "outputs": [
        {
          "output_type": "stream",
          "name": "stdout",
          "text": [
            "Mounted at /content/drive\n",
            "Requirement already satisfied: torchtext in /usr/local/lib/python3.10/dist-packages (0.15.2)\n",
            "Requirement already satisfied: tqdm in /usr/local/lib/python3.10/dist-packages (from torchtext) (4.66.1)\n",
            "Requirement already satisfied: requests in /usr/local/lib/python3.10/dist-packages (from torchtext) (2.31.0)\n",
            "Requirement already satisfied: torch==2.0.1 in /usr/local/lib/python3.10/dist-packages (from torchtext) (2.0.1+cu118)\n",
            "Requirement already satisfied: numpy in /usr/local/lib/python3.10/dist-packages (from torchtext) (1.23.5)\n",
            "Requirement already satisfied: torchdata==0.6.1 in /usr/local/lib/python3.10/dist-packages (from torchtext) (0.6.1)\n",
            "Requirement already satisfied: filelock in /usr/local/lib/python3.10/dist-packages (from torch==2.0.1->torchtext) (3.12.2)\n",
            "Requirement already satisfied: typing-extensions in /usr/local/lib/python3.10/dist-packages (from torch==2.0.1->torchtext) (4.5.0)\n",
            "Requirement already satisfied: sympy in /usr/local/lib/python3.10/dist-packages (from torch==2.0.1->torchtext) (1.12)\n",
            "Requirement already satisfied: networkx in /usr/local/lib/python3.10/dist-packages (from torch==2.0.1->torchtext) (3.1)\n",
            "Requirement already satisfied: jinja2 in /usr/local/lib/python3.10/dist-packages (from torch==2.0.1->torchtext) (3.1.2)\n",
            "Requirement already satisfied: triton==2.0.0 in /usr/local/lib/python3.10/dist-packages (from torch==2.0.1->torchtext) (2.0.0)\n",
            "Requirement already satisfied: urllib3>=1.25 in /usr/local/lib/python3.10/dist-packages (from torchdata==0.6.1->torchtext) (2.0.4)\n",
            "Requirement already satisfied: cmake in /usr/local/lib/python3.10/dist-packages (from triton==2.0.0->torch==2.0.1->torchtext) (3.27.4.1)\n",
            "Requirement already satisfied: lit in /usr/local/lib/python3.10/dist-packages (from triton==2.0.0->torch==2.0.1->torchtext) (16.0.6)\n",
            "Requirement already satisfied: charset-normalizer<4,>=2 in /usr/local/lib/python3.10/dist-packages (from requests->torchtext) (3.2.0)\n",
            "Requirement already satisfied: idna<4,>=2.5 in /usr/local/lib/python3.10/dist-packages (from requests->torchtext) (3.4)\n",
            "Requirement already satisfied: certifi>=2017.4.17 in /usr/local/lib/python3.10/dist-packages (from requests->torchtext) (2023.7.22)\n",
            "Requirement already satisfied: MarkupSafe>=2.0 in /usr/local/lib/python3.10/dist-packages (from jinja2->torch==2.0.1->torchtext) (2.1.3)\n",
            "Requirement already satisfied: mpmath>=0.19 in /usr/local/lib/python3.10/dist-packages (from sympy->torch==2.0.1->torchtext) (1.3.0)\n",
            "Collecting torchmetrics\n",
            "  Downloading torchmetrics-1.1.2-py3-none-any.whl (764 kB)\n",
            "\u001b[2K     \u001b[90m━━━━━━━━━━━━━━━━━━━━━━━━━━━━━━━━━━━━━━━\u001b[0m \u001b[32m764.8/764.8 kB\u001b[0m \u001b[31m9.4 MB/s\u001b[0m eta \u001b[36m0:00:00\u001b[0m\n",
            "\u001b[?25hRequirement already satisfied: numpy>1.20.0 in /usr/local/lib/python3.10/dist-packages (from torchmetrics) (1.23.5)\n",
            "Requirement already satisfied: torch>=1.8.1 in /usr/local/lib/python3.10/dist-packages (from torchmetrics) (2.0.1+cu118)\n",
            "Collecting lightning-utilities>=0.8.0 (from torchmetrics)\n",
            "  Downloading lightning_utilities-0.9.0-py3-none-any.whl (23 kB)\n",
            "Requirement already satisfied: packaging>=17.1 in /usr/local/lib/python3.10/dist-packages (from lightning-utilities>=0.8.0->torchmetrics) (23.1)\n",
            "Requirement already satisfied: typing-extensions in /usr/local/lib/python3.10/dist-packages (from lightning-utilities>=0.8.0->torchmetrics) (4.5.0)\n",
            "Requirement already satisfied: filelock in /usr/local/lib/python3.10/dist-packages (from torch>=1.8.1->torchmetrics) (3.12.2)\n",
            "Requirement already satisfied: sympy in /usr/local/lib/python3.10/dist-packages (from torch>=1.8.1->torchmetrics) (1.12)\n",
            "Requirement already satisfied: networkx in /usr/local/lib/python3.10/dist-packages (from torch>=1.8.1->torchmetrics) (3.1)\n",
            "Requirement already satisfied: jinja2 in /usr/local/lib/python3.10/dist-packages (from torch>=1.8.1->torchmetrics) (3.1.2)\n",
            "Requirement already satisfied: triton==2.0.0 in /usr/local/lib/python3.10/dist-packages (from torch>=1.8.1->torchmetrics) (2.0.0)\n",
            "Requirement already satisfied: cmake in /usr/local/lib/python3.10/dist-packages (from triton==2.0.0->torch>=1.8.1->torchmetrics) (3.27.4.1)\n",
            "Requirement already satisfied: lit in /usr/local/lib/python3.10/dist-packages (from triton==2.0.0->torch>=1.8.1->torchmetrics) (16.0.6)\n",
            "Requirement already satisfied: MarkupSafe>=2.0 in /usr/local/lib/python3.10/dist-packages (from jinja2->torch>=1.8.1->torchmetrics) (2.1.3)\n",
            "Requirement already satisfied: mpmath>=0.19 in /usr/local/lib/python3.10/dist-packages (from sympy->torch>=1.8.1->torchmetrics) (1.3.0)\n",
            "Installing collected packages: lightning-utilities, torchmetrics\n",
            "Successfully installed lightning-utilities-0.9.0 torchmetrics-1.1.2\n",
            "Collecting swifter\n",
            "  Downloading swifter-1.4.0.tar.gz (1.2 MB)\n",
            "\u001b[2K     \u001b[90m━━━━━━━━━━━━━━━━━━━━━━━━━━━━━━━━━━━━━━━━\u001b[0m \u001b[32m1.2/1.2 MB\u001b[0m \u001b[31m7.9 MB/s\u001b[0m eta \u001b[36m0:00:00\u001b[0m\n",
            "\u001b[?25h  Preparing metadata (setup.py) ... \u001b[?25l\u001b[?25hdone\n",
            "Requirement already satisfied: pandas>=1.0.0 in /usr/local/lib/python3.10/dist-packages (from swifter) (1.5.3)\n",
            "Requirement already satisfied: psutil>=5.6.6 in /usr/local/lib/python3.10/dist-packages (from swifter) (5.9.5)\n",
            "Requirement already satisfied: dask[dataframe]>=2.10.0 in /usr/local/lib/python3.10/dist-packages (from swifter) (2023.8.1)\n",
            "Requirement already satisfied: tqdm>=4.33.0 in /usr/local/lib/python3.10/dist-packages (from swifter) (4.66.1)\n",
            "Requirement already satisfied: click>=8.0 in /usr/local/lib/python3.10/dist-packages (from dask[dataframe]>=2.10.0->swifter) (8.1.7)\n",
            "Requirement already satisfied: cloudpickle>=1.5.0 in /usr/local/lib/python3.10/dist-packages (from dask[dataframe]>=2.10.0->swifter) (2.2.1)\n",
            "Requirement already satisfied: fsspec>=2021.09.0 in /usr/local/lib/python3.10/dist-packages (from dask[dataframe]>=2.10.0->swifter) (2023.6.0)\n",
            "Requirement already satisfied: packaging>=20.0 in /usr/local/lib/python3.10/dist-packages (from dask[dataframe]>=2.10.0->swifter) (23.1)\n",
            "Requirement already satisfied: partd>=1.2.0 in /usr/local/lib/python3.10/dist-packages (from dask[dataframe]>=2.10.0->swifter) (1.4.0)\n",
            "Requirement already satisfied: pyyaml>=5.3.1 in /usr/local/lib/python3.10/dist-packages (from dask[dataframe]>=2.10.0->swifter) (6.0.1)\n",
            "Requirement already satisfied: toolz>=0.10.0 in /usr/local/lib/python3.10/dist-packages (from dask[dataframe]>=2.10.0->swifter) (0.12.0)\n",
            "Requirement already satisfied: importlib-metadata>=4.13.0 in /usr/local/lib/python3.10/dist-packages (from dask[dataframe]>=2.10.0->swifter) (6.8.0)\n",
            "Requirement already satisfied: python-dateutil>=2.8.1 in /usr/local/lib/python3.10/dist-packages (from pandas>=1.0.0->swifter) (2.8.2)\n",
            "Requirement already satisfied: pytz>=2020.1 in /usr/local/lib/python3.10/dist-packages (from pandas>=1.0.0->swifter) (2023.3.post1)\n",
            "Requirement already satisfied: numpy>=1.21.0 in /usr/local/lib/python3.10/dist-packages (from pandas>=1.0.0->swifter) (1.23.5)\n",
            "Requirement already satisfied: zipp>=0.5 in /usr/local/lib/python3.10/dist-packages (from importlib-metadata>=4.13.0->dask[dataframe]>=2.10.0->swifter) (3.16.2)\n",
            "Requirement already satisfied: locket in /usr/local/lib/python3.10/dist-packages (from partd>=1.2.0->dask[dataframe]>=2.10.0->swifter) (1.0.0)\n",
            "Requirement already satisfied: six>=1.5 in /usr/local/lib/python3.10/dist-packages (from python-dateutil>=2.8.1->pandas>=1.0.0->swifter) (1.16.0)\n",
            "Building wheels for collected packages: swifter\n",
            "  Building wheel for swifter (setup.py) ... \u001b[?25l\u001b[?25hdone\n",
            "  Created wheel for swifter: filename=swifter-1.4.0-py3-none-any.whl size=16507 sha256=08969123854bf412bbda30556155c2e44c6f4e7d2e074f3bb3efe9a6932391d3\n",
            "  Stored in directory: /root/.cache/pip/wheels/e4/cf/51/0904952972ee2c7aa3709437065278dc534ec1b8d2ad41b443\n",
            "Successfully built swifter\n",
            "Installing collected packages: swifter\n",
            "Successfully installed swifter-1.4.0\n"
          ]
        }
      ],
      "source": [
        "import sys\n",
        "if 'google.colab' in str(get_ipython()):\n",
        "    from google.colab import drive\n",
        "    drive.mount('/content/drive')\n",
        "\n",
        "    !pip install torchtext --upgrade\n",
        "    !pip install torchmetrics\n",
        "    !pip install swifter\n",
        "\n",
        "    basepath = '/content/drive/MyDrive'\n",
        "    sys.path.append('/content/drive/MyDrive/NaturalLanguageprocessing/custom_functions')\n",
        "\n",
        "else:\n",
        "    basepath = '/home/prince/Insync/google_drive_shaannoor/data'\n",
        "    sys.path.append(\n",
        "        '/home/prince/Insync/google_drive_shaannoor/data/custom-functions')"
      ]
    },
    {
      "cell_type": "code",
      "execution_count": null,
      "metadata": {
        "execution": {
          "iopub.execute_input": "2022-10-24T09:22:06.058551Z",
          "iopub.status.busy": "2022-10-24T09:22:06.058401Z",
          "iopub.status.idle": "2022-10-24T09:22:06.083291Z",
          "shell.execute_reply": "2022-10-24T09:22:06.082816Z",
          "shell.execute_reply.started": "2022-10-24T09:22:06.058538Z"
        },
        "id": "TqYqOtp5yluv",
        "tags": []
      },
      "outputs": [],
      "source": [
        "# Importing the necessary libraries\n",
        "\n",
        "from torchmetrics.classification import MultilabelAccuracy, MultilabelHammingDistance\n",
        "import torch.nn as nn\n",
        "import torch.nn.functional as F\n",
        "\n",
        "import torchmetrics\n",
        "from  torchmetrics.functional.classification import multilabel_f1_score, multilabel_hamming_distance\n",
        "\n",
        "import joblib\n",
        "import swifter\n",
        "import ast\n",
        "\n",
        "from types import SimpleNamespace\n",
        "from functools import partial\n",
        "from pathlib import Path\n",
        "import sys\n",
        "from sklearn.metrics import accuracy_score, f1_score, hamming_loss\n",
        "from sklearn.model_selection import train_test_split\n",
        "from sklearn.preprocessing import MultiLabelBinarizer as mlb"
      ]
    },
    {
      "cell_type": "markdown",
      "metadata": {
        "id": "J2nAIo5uNxEr"
      },
      "source": [
        "# <Font color = 'pickle'>**Specify Project Folders**"
      ]
    },
    {
      "cell_type": "code",
      "execution_count": null,
      "metadata": {
        "execution": {
          "iopub.execute_input": "2022-10-24T09:22:06.160646Z",
          "iopub.status.busy": "2022-10-24T09:22:06.160510Z",
          "iopub.status.idle": "2022-10-24T09:22:06.184362Z",
          "shell.execute_reply": "2022-10-24T09:22:06.184015Z",
          "shell.execute_reply.started": "2022-10-24T09:22:06.160633Z"
        },
        "id": "Z0yKILuteTDE"
      },
      "outputs": [],
      "source": [
        "base_folder = Path(basepath)\n",
        "data_folder = base_folder/'Data'/'df_multilabel_cleaned.joblib'\n",
        "model_folder = base_folder/'Data'/'Models'"
      ]
    },
    {
      "cell_type": "code",
      "execution_count": null,
      "metadata": {
        "id": "IC90yjKdZCcB"
      },
      "outputs": [],
      "source": [
        "model_folder.mkdir(exist_ok=True)"
      ]
    },
    {
      "cell_type": "code",
      "execution_count": null,
      "metadata": {
        "colab": {
          "base_uri": "https://localhost:8080/"
        },
        "execution": {
          "iopub.execute_input": "2022-10-24T09:22:06.209759Z",
          "iopub.status.busy": "2022-10-24T09:22:06.209628Z",
          "iopub.status.idle": "2022-10-24T09:22:06.234346Z",
          "shell.execute_reply": "2022-10-24T09:22:06.233972Z",
          "shell.execute_reply.started": "2022-10-24T09:22:06.209746Z"
        },
        "id": "m8C6e11FOiEX",
        "outputId": "cd3b86c4-d44a-4d6a-ee6f-b4cf68720a3c"
      },
      "outputs": [
        {
          "output_type": "execute_result",
          "data": {
            "text/plain": [
              "['/content',\n",
              " '/env/python',\n",
              " '/usr/lib/python310.zip',\n",
              " '/usr/lib/python3.10',\n",
              " '/usr/lib/python3.10/lib-dynload',\n",
              " '',\n",
              " '/usr/local/lib/python3.10/dist-packages',\n",
              " '/usr/lib/python3/dist-packages',\n",
              " '/usr/local/lib/python3.10/dist-packages/IPython/extensions',\n",
              " '/root/.ipython',\n",
              " '/content/drive/MyDrive/NaturalLanguageprocessingClass/custom_functions']"
            ]
          },
          "metadata": {},
          "execution_count": 6
        }
      ],
      "source": [
        "sys.path"
      ]
    },
    {
      "cell_type": "code",
      "execution_count": null,
      "metadata": {
        "execution": {
          "iopub.execute_input": "2022-10-24T09:22:06.234975Z",
          "iopub.status.busy": "2022-10-24T09:22:06.234808Z",
          "iopub.status.idle": "2022-10-24T09:22:06.257877Z",
          "shell.execute_reply": "2022-10-24T09:22:06.257425Z",
          "shell.execute_reply.started": "2022-10-24T09:22:06.234961Z"
        },
        "id": "cw-B4qKHOjUC"
      },
      "outputs": [],
      "source": [
        "from Trainer_multilabel import Trainer\n",
        "from data_preparation_multilabel import *\n",
        "from ff_3_layer_sequential_model import MLPCustom"
      ]
    },
    {
      "cell_type": "markdown",
      "metadata": {
        "id": "17xctemopjdA"
      },
      "source": [
        "# <font color = 'pickle'> **SubSet Stack Exchange**\n",
        "<font color = 'green'>This data is a subset of data from  Kaggle Competition </font>(https://www.kaggle.com/c/facebook-recruiting-iii-keyword-extraction/data).\n",
        "<br><br>\n",
        "<font color = 'green'>The given dataset actually contains the different questions asked in the StackExchange website for various technical domains. We have fetched only those question that contains the top 10 individual tags. Each question can have multiple tags. **This means that this is a multi-label classification problem.** These are the ten categories for tags in the data. </font>\n",
        "    \n",
        "\n",
        "| Tag    | Language|\n",
        "| -------| --------|\n",
        "| 0      | c#      |\n",
        "| 1      | jave    |\n",
        "| 2      | php     |\n",
        "| 3      | javascript|\n",
        "| 4      | android |\n",
        "| 5      | jquery  |\n",
        "| 6      | c++     |\n",
        "| 7      | python  |\n",
        "| 8      | asp.net |"
      ]
    },
    {
      "cell_type": "markdown",
      "metadata": {
        "id": "BFkeP76kjeka"
      },
      "source": [
        "##  <Font color = 'pickle'>**Data Processing**"
      ]
    },
    {
      "cell_type": "code",
      "execution_count": null,
      "metadata": {
        "id": "gqttk5Nojeka"
      },
      "outputs": [],
      "source": [
        "# need to run only once, students are provided teh file with cleaned dataset\n",
        "# df = joblib.load(data_folder/'df_multilabel_hw.joblib')\n",
        "# df['combined_text'] = df.apply(lambda x: str(\n",
        "#     x['Title']) + ' ' + str(x['Body']), axis=1)\n",
        "# cleaned_text_lemma_stop_removal = cp.SpacyPreprocessor(model = 'en_core_web_lg',\n",
        "#                                     lammetize=True,\n",
        "#                                     lower=True,\n",
        "#                                     remove_stop=True,\n",
        "#                                     batch_size=5000).transform(df['combined_text'].values)\n",
        "# df['cleaned_text'] = cleaned_text_lemma_stop_removal\n",
        "# df_hw_cleaned = df[['cleaned_text', 'Tags', 'Tag_Number']]\n",
        "# df_hw_cleaned\n",
        "# file = data_folder/'df_multilabel_hw_cleaned.joblib'\n",
        "# joblib.dump(df_hw_cleaned, file)"
      ]
    },
    {
      "cell_type": "code",
      "execution_count": null,
      "metadata": {
        "colab": {
          "base_uri": "https://localhost:8080/",
          "height": 424
        },
        "id": "U_xmvemVdtZt",
        "outputId": "c93b1778-6311-46d2-9ac2-d650dde30150"
      },
      "outputs": [
        {
          "output_type": "execute_result",
          "data": {
            "text/plain": [
              "                                            cleaned_text                Tags  \\\n",
              "0      asp query stre dropdown webpage follow control...          c# asp.net   \n",
              "1      run javascript code server java code want run ...     java javascript   \n",
              "2      linq sql throw exception row find change hi li...          c# asp.net   \n",
              "3      run python script php server run nginx web ser...          php python   \n",
              "4      advice write function m try write function res...   javascript jquery   \n",
              "...                                                  ...                 ...   \n",
              "47422  take value edittext put decimal point all- wor...        java android   \n",
              "47423  listen phone state application nee liste phone...        java android   \n",
              "47424  android ui thread thread task want access main...        java android   \n",
              "47425  dynamic table row creation html javascript htm...  asp.net javascript   \n",
              "47426  image preloader work ie follow code preload im...   javascript jquery   \n",
              "\n",
              "      Tag_Number  \n",
              "0         [0, 9]  \n",
              "1         [1, 3]  \n",
              "2         [0, 9]  \n",
              "3         [2, 7]  \n",
              "4         [3, 5]  \n",
              "...          ...  \n",
              "47422     [1, 4]  \n",
              "47423     [1, 4]  \n",
              "47424     [1, 4]  \n",
              "47425     [9, 3]  \n",
              "47426     [3, 5]  \n",
              "\n",
              "[47427 rows x 3 columns]"
            ],
            "text/html": [
              "\n",
              "  <div id=\"df-45d70104-1451-420b-985d-dcb070d3a4f7\" class=\"colab-df-container\">\n",
              "    <div>\n",
              "<style scoped>\n",
              "    .dataframe tbody tr th:only-of-type {\n",
              "        vertical-align: middle;\n",
              "    }\n",
              "\n",
              "    .dataframe tbody tr th {\n",
              "        vertical-align: top;\n",
              "    }\n",
              "\n",
              "    .dataframe thead th {\n",
              "        text-align: right;\n",
              "    }\n",
              "</style>\n",
              "<table border=\"1\" class=\"dataframe\">\n",
              "  <thead>\n",
              "    <tr style=\"text-align: right;\">\n",
              "      <th></th>\n",
              "      <th>cleaned_text</th>\n",
              "      <th>Tags</th>\n",
              "      <th>Tag_Number</th>\n",
              "    </tr>\n",
              "  </thead>\n",
              "  <tbody>\n",
              "    <tr>\n",
              "      <th>0</th>\n",
              "      <td>asp query stre dropdown webpage follow control...</td>\n",
              "      <td>c# asp.net</td>\n",
              "      <td>[0, 9]</td>\n",
              "    </tr>\n",
              "    <tr>\n",
              "      <th>1</th>\n",
              "      <td>run javascript code server java code want run ...</td>\n",
              "      <td>java javascript</td>\n",
              "      <td>[1, 3]</td>\n",
              "    </tr>\n",
              "    <tr>\n",
              "      <th>2</th>\n",
              "      <td>linq sql throw exception row find change hi li...</td>\n",
              "      <td>c# asp.net</td>\n",
              "      <td>[0, 9]</td>\n",
              "    </tr>\n",
              "    <tr>\n",
              "      <th>3</th>\n",
              "      <td>run python script php server run nginx web ser...</td>\n",
              "      <td>php python</td>\n",
              "      <td>[2, 7]</td>\n",
              "    </tr>\n",
              "    <tr>\n",
              "      <th>4</th>\n",
              "      <td>advice write function m try write function res...</td>\n",
              "      <td>javascript jquery</td>\n",
              "      <td>[3, 5]</td>\n",
              "    </tr>\n",
              "    <tr>\n",
              "      <th>...</th>\n",
              "      <td>...</td>\n",
              "      <td>...</td>\n",
              "      <td>...</td>\n",
              "    </tr>\n",
              "    <tr>\n",
              "      <th>47422</th>\n",
              "      <td>take value edittext put decimal point all- wor...</td>\n",
              "      <td>java android</td>\n",
              "      <td>[1, 4]</td>\n",
              "    </tr>\n",
              "    <tr>\n",
              "      <th>47423</th>\n",
              "      <td>listen phone state application nee liste phone...</td>\n",
              "      <td>java android</td>\n",
              "      <td>[1, 4]</td>\n",
              "    </tr>\n",
              "    <tr>\n",
              "      <th>47424</th>\n",
              "      <td>android ui thread thread task want access main...</td>\n",
              "      <td>java android</td>\n",
              "      <td>[1, 4]</td>\n",
              "    </tr>\n",
              "    <tr>\n",
              "      <th>47425</th>\n",
              "      <td>dynamic table row creation html javascript htm...</td>\n",
              "      <td>asp.net javascript</td>\n",
              "      <td>[9, 3]</td>\n",
              "    </tr>\n",
              "    <tr>\n",
              "      <th>47426</th>\n",
              "      <td>image preloader work ie follow code preload im...</td>\n",
              "      <td>javascript jquery</td>\n",
              "      <td>[3, 5]</td>\n",
              "    </tr>\n",
              "  </tbody>\n",
              "</table>\n",
              "<p>47427 rows × 3 columns</p>\n",
              "</div>\n",
              "    <div class=\"colab-df-buttons\">\n",
              "\n",
              "  <div class=\"colab-df-container\">\n",
              "    <button class=\"colab-df-convert\" onclick=\"convertToInteractive('df-45d70104-1451-420b-985d-dcb070d3a4f7')\"\n",
              "            title=\"Convert this dataframe to an interactive table.\"\n",
              "            style=\"display:none;\">\n",
              "\n",
              "  <svg xmlns=\"http://www.w3.org/2000/svg\" height=\"24px\" viewBox=\"0 -960 960 960\">\n",
              "    <path d=\"M120-120v-720h720v720H120Zm60-500h600v-160H180v160Zm220 220h160v-160H400v160Zm0 220h160v-160H400v160ZM180-400h160v-160H180v160Zm440 0h160v-160H620v160ZM180-180h160v-160H180v160Zm440 0h160v-160H620v160Z\"/>\n",
              "  </svg>\n",
              "    </button>\n",
              "\n",
              "  <style>\n",
              "    .colab-df-container {\n",
              "      display:flex;\n",
              "      gap: 12px;\n",
              "    }\n",
              "\n",
              "    .colab-df-convert {\n",
              "      background-color: #E8F0FE;\n",
              "      border: none;\n",
              "      border-radius: 50%;\n",
              "      cursor: pointer;\n",
              "      display: none;\n",
              "      fill: #1967D2;\n",
              "      height: 32px;\n",
              "      padding: 0 0 0 0;\n",
              "      width: 32px;\n",
              "    }\n",
              "\n",
              "    .colab-df-convert:hover {\n",
              "      background-color: #E2EBFA;\n",
              "      box-shadow: 0px 1px 2px rgba(60, 64, 67, 0.3), 0px 1px 3px 1px rgba(60, 64, 67, 0.15);\n",
              "      fill: #174EA6;\n",
              "    }\n",
              "\n",
              "    .colab-df-buttons div {\n",
              "      margin-bottom: 4px;\n",
              "    }\n",
              "\n",
              "    [theme=dark] .colab-df-convert {\n",
              "      background-color: #3B4455;\n",
              "      fill: #D2E3FC;\n",
              "    }\n",
              "\n",
              "    [theme=dark] .colab-df-convert:hover {\n",
              "      background-color: #434B5C;\n",
              "      box-shadow: 0px 1px 3px 1px rgba(0, 0, 0, 0.15);\n",
              "      filter: drop-shadow(0px 1px 2px rgba(0, 0, 0, 0.3));\n",
              "      fill: #FFFFFF;\n",
              "    }\n",
              "  </style>\n",
              "\n",
              "    <script>\n",
              "      const buttonEl =\n",
              "        document.querySelector('#df-45d70104-1451-420b-985d-dcb070d3a4f7 button.colab-df-convert');\n",
              "      buttonEl.style.display =\n",
              "        google.colab.kernel.accessAllowed ? 'block' : 'none';\n",
              "\n",
              "      async function convertToInteractive(key) {\n",
              "        const element = document.querySelector('#df-45d70104-1451-420b-985d-dcb070d3a4f7');\n",
              "        const dataTable =\n",
              "          await google.colab.kernel.invokeFunction('convertToInteractive',\n",
              "                                                    [key], {});\n",
              "        if (!dataTable) return;\n",
              "\n",
              "        const docLinkHtml = 'Like what you see? Visit the ' +\n",
              "          '<a target=\"_blank\" href=https://colab.research.google.com/notebooks/data_table.ipynb>data table notebook</a>'\n",
              "          + ' to learn more about interactive tables.';\n",
              "        element.innerHTML = '';\n",
              "        dataTable['output_type'] = 'display_data';\n",
              "        await google.colab.output.renderOutput(dataTable, element);\n",
              "        const docLink = document.createElement('div');\n",
              "        docLink.innerHTML = docLinkHtml;\n",
              "        element.appendChild(docLink);\n",
              "      }\n",
              "    </script>\n",
              "  </div>\n",
              "\n",
              "\n",
              "<div id=\"df-78aa56d5-c0a7-4753-b21e-3a9737e8f934\">\n",
              "  <button class=\"colab-df-quickchart\" onclick=\"quickchart('df-78aa56d5-c0a7-4753-b21e-3a9737e8f934')\"\n",
              "            title=\"Suggest charts.\"\n",
              "            style=\"display:none;\">\n",
              "\n",
              "<svg xmlns=\"http://www.w3.org/2000/svg\" height=\"24px\"viewBox=\"0 0 24 24\"\n",
              "     width=\"24px\">\n",
              "    <g>\n",
              "        <path d=\"M19 3H5c-1.1 0-2 .9-2 2v14c0 1.1.9 2 2 2h14c1.1 0 2-.9 2-2V5c0-1.1-.9-2-2-2zM9 17H7v-7h2v7zm4 0h-2V7h2v10zm4 0h-2v-4h2v4z\"/>\n",
              "    </g>\n",
              "</svg>\n",
              "  </button>\n",
              "\n",
              "<style>\n",
              "  .colab-df-quickchart {\n",
              "      --bg-color: #E8F0FE;\n",
              "      --fill-color: #1967D2;\n",
              "      --hover-bg-color: #E2EBFA;\n",
              "      --hover-fill-color: #174EA6;\n",
              "      --disabled-fill-color: #AAA;\n",
              "      --disabled-bg-color: #DDD;\n",
              "  }\n",
              "\n",
              "  [theme=dark] .colab-df-quickchart {\n",
              "      --bg-color: #3B4455;\n",
              "      --fill-color: #D2E3FC;\n",
              "      --hover-bg-color: #434B5C;\n",
              "      --hover-fill-color: #FFFFFF;\n",
              "      --disabled-bg-color: #3B4455;\n",
              "      --disabled-fill-color: #666;\n",
              "  }\n",
              "\n",
              "  .colab-df-quickchart {\n",
              "    background-color: var(--bg-color);\n",
              "    border: none;\n",
              "    border-radius: 50%;\n",
              "    cursor: pointer;\n",
              "    display: none;\n",
              "    fill: var(--fill-color);\n",
              "    height: 32px;\n",
              "    padding: 0;\n",
              "    width: 32px;\n",
              "  }\n",
              "\n",
              "  .colab-df-quickchart:hover {\n",
              "    background-color: var(--hover-bg-color);\n",
              "    box-shadow: 0 1px 2px rgba(60, 64, 67, 0.3), 0 1px 3px 1px rgba(60, 64, 67, 0.15);\n",
              "    fill: var(--button-hover-fill-color);\n",
              "  }\n",
              "\n",
              "  .colab-df-quickchart-complete:disabled,\n",
              "  .colab-df-quickchart-complete:disabled:hover {\n",
              "    background-color: var(--disabled-bg-color);\n",
              "    fill: var(--disabled-fill-color);\n",
              "    box-shadow: none;\n",
              "  }\n",
              "\n",
              "  .colab-df-spinner {\n",
              "    border: 2px solid var(--fill-color);\n",
              "    border-color: transparent;\n",
              "    border-bottom-color: var(--fill-color);\n",
              "    animation:\n",
              "      spin 1s steps(1) infinite;\n",
              "  }\n",
              "\n",
              "  @keyframes spin {\n",
              "    0% {\n",
              "      border-color: transparent;\n",
              "      border-bottom-color: var(--fill-color);\n",
              "      border-left-color: var(--fill-color);\n",
              "    }\n",
              "    20% {\n",
              "      border-color: transparent;\n",
              "      border-left-color: var(--fill-color);\n",
              "      border-top-color: var(--fill-color);\n",
              "    }\n",
              "    30% {\n",
              "      border-color: transparent;\n",
              "      border-left-color: var(--fill-color);\n",
              "      border-top-color: var(--fill-color);\n",
              "      border-right-color: var(--fill-color);\n",
              "    }\n",
              "    40% {\n",
              "      border-color: transparent;\n",
              "      border-right-color: var(--fill-color);\n",
              "      border-top-color: var(--fill-color);\n",
              "    }\n",
              "    60% {\n",
              "      border-color: transparent;\n",
              "      border-right-color: var(--fill-color);\n",
              "    }\n",
              "    80% {\n",
              "      border-color: transparent;\n",
              "      border-right-color: var(--fill-color);\n",
              "      border-bottom-color: var(--fill-color);\n",
              "    }\n",
              "    90% {\n",
              "      border-color: transparent;\n",
              "      border-bottom-color: var(--fill-color);\n",
              "    }\n",
              "  }\n",
              "</style>\n",
              "\n",
              "  <script>\n",
              "    async function quickchart(key) {\n",
              "      const quickchartButtonEl =\n",
              "        document.querySelector('#' + key + ' button');\n",
              "      quickchartButtonEl.disabled = true;  // To prevent multiple clicks.\n",
              "      quickchartButtonEl.classList.add('colab-df-spinner');\n",
              "      try {\n",
              "        const charts = await google.colab.kernel.invokeFunction(\n",
              "            'suggestCharts', [key], {});\n",
              "      } catch (error) {\n",
              "        console.error('Error during call to suggestCharts:', error);\n",
              "      }\n",
              "      quickchartButtonEl.classList.remove('colab-df-spinner');\n",
              "      quickchartButtonEl.classList.add('colab-df-quickchart-complete');\n",
              "    }\n",
              "    (() => {\n",
              "      let quickchartButtonEl =\n",
              "        document.querySelector('#df-78aa56d5-c0a7-4753-b21e-3a9737e8f934 button');\n",
              "      quickchartButtonEl.style.display =\n",
              "        google.colab.kernel.accessAllowed ? 'block' : 'none';\n",
              "    })();\n",
              "  </script>\n",
              "</div>\n",
              "\n",
              "  <div id=\"id_0f70cbbb-d863-457a-86af-09e22c384c14\">\n",
              "    <style>\n",
              "      .colab-df-generate {\n",
              "        background-color: #E8F0FE;\n",
              "        border: none;\n",
              "        border-radius: 50%;\n",
              "        cursor: pointer;\n",
              "        display: none;\n",
              "        fill: #1967D2;\n",
              "        height: 32px;\n",
              "        padding: 0 0 0 0;\n",
              "        width: 32px;\n",
              "      }\n",
              "\n",
              "      .colab-df-generate:hover {\n",
              "        background-color: #E2EBFA;\n",
              "        box-shadow: 0px 1px 2px rgba(60, 64, 67, 0.3), 0px 1px 3px 1px rgba(60, 64, 67, 0.15);\n",
              "        fill: #174EA6;\n",
              "      }\n",
              "\n",
              "      [theme=dark] .colab-df-generate {\n",
              "        background-color: #3B4455;\n",
              "        fill: #D2E3FC;\n",
              "      }\n",
              "\n",
              "      [theme=dark] .colab-df-generate:hover {\n",
              "        background-color: #434B5C;\n",
              "        box-shadow: 0px 1px 3px 1px rgba(0, 0, 0, 0.15);\n",
              "        filter: drop-shadow(0px 1px 2px rgba(0, 0, 0, 0.3));\n",
              "        fill: #FFFFFF;\n",
              "      }\n",
              "    </style>\n",
              "    <button class=\"colab-df-generate\" onclick=\"generateWithVariable('df')\"\n",
              "            title=\"Generate code using this dataframe.\"\n",
              "            style=\"display:none;\">\n",
              "\n",
              "  <svg xmlns=\"http://www.w3.org/2000/svg\" height=\"24px\"viewBox=\"0 0 24 24\"\n",
              "       width=\"24px\">\n",
              "    <path d=\"M7,19H8.4L18.45,9,17,7.55,7,17.6ZM5,21V16.75L18.45,3.32a2,2,0,0,1,2.83,0l1.4,1.43a1.91,1.91,0,0,1,.58,1.4,1.91,1.91,0,0,1-.58,1.4L9.25,21ZM18.45,9,17,7.55Zm-12,3A5.31,5.31,0,0,0,4.9,8.1,5.31,5.31,0,0,0,1,6.5,5.31,5.31,0,0,0,4.9,4.9,5.31,5.31,0,0,0,6.5,1,5.31,5.31,0,0,0,8.1,4.9,5.31,5.31,0,0,0,12,6.5,5.46,5.46,0,0,0,6.5,12Z\"/>\n",
              "  </svg>\n",
              "    </button>\n",
              "    <script>\n",
              "      (() => {\n",
              "      const buttonEl =\n",
              "        document.querySelector('#id_0f70cbbb-d863-457a-86af-09e22c384c14 button.colab-df-generate');\n",
              "      buttonEl.style.display =\n",
              "        google.colab.kernel.accessAllowed ? 'block' : 'none';\n",
              "\n",
              "      buttonEl.onclick = () => {\n",
              "        google.colab.notebook.generateWithVariable('df');\n",
              "      }\n",
              "      })();\n",
              "    </script>\n",
              "  </div>\n",
              "\n",
              "    </div>\n",
              "  </div>\n"
            ]
          },
          "metadata": {},
          "execution_count": 8
        }
      ],
      "source": [
        "file = data_folder\n",
        "df = joblib.load(file); df"
      ]
    },
    {
      "cell_type": "code",
      "execution_count": null,
      "metadata": {
        "colab": {
          "base_uri": "https://localhost:8080/"
        },
        "id": "bl7F_9_OdtZu",
        "outputId": "5c9f9640-05c4-417e-fef0-62c0f964b699"
      },
      "outputs": [
        {
          "output_type": "stream",
          "name": "stdout",
          "text": [
            "<class 'numpy.ndarray'> <class 'numpy.ndarray'>\n",
            "object\n",
            "object\n"
          ]
        }
      ],
      "source": [
        "X = df['cleaned_text'].values\n",
        "y = df['Tag_Number'].values\n",
        "print(type(X), type(y))\n",
        "print(y.dtype)\n",
        "print(X.dtype)"
      ]
    },
    {
      "cell_type": "code",
      "execution_count": null,
      "metadata": {
        "colab": {
          "base_uri": "https://localhost:8080/"
        },
        "id": "5tGIr9_HdtZu",
        "outputId": "5da82277-0590-48e2-f0b3-828f5b1824ca"
      },
      "outputs": [
        {
          "output_type": "stream",
          "name": "stdout",
          "text": [
            "6\n",
            "An exception occurred\n"
          ]
        }
      ],
      "source": [
        "print(eval('3*2'))\n",
        "try:\n",
        "    print(ast.literal_eval('3*2'))\n",
        "except:\n",
        "    print(\"An exception occurred\")"
      ]
    },
    {
      "cell_type": "code",
      "execution_count": null,
      "metadata": {
        "colab": {
          "base_uri": "https://localhost:8080/"
        },
        "id": "1d0vMIh-dtZu",
        "outputId": "e83f7d61-3096-4f99-988b-7fb2098acb14"
      },
      "outputs": [
        {
          "output_type": "stream",
          "name": "stdout",
          "text": [
            "[3, 2]\n",
            "[3, 2]\n"
          ]
        }
      ],
      "source": [
        "print(eval('[3,2]'))\n",
        "print(ast.literal_eval('[3,2]'))"
      ]
    },
    {
      "cell_type": "code",
      "execution_count": null,
      "metadata": {
        "colab": {
          "base_uri": "https://localhost:8080/",
          "height": 456,
          "referenced_widgets": [
            "aaedd14a4470479db1878032e1b71991",
            "d62206e11fd6413eac854e858a063408",
            "cb81743fa83a4c58ab1f177a3c84a7c9",
            "0604decc7ffa4ca0ada6d0ee9e760f7a",
            "279882f29b3d465f89004170a368cb97",
            "a6f5ef79765645eeaaf7dc1a9dcae9e4",
            "9a34133eaf8944d2bef52adae56e6395",
            "a381b7e998d840d482622bd5896b4ba2",
            "3fb45397d2e5423abab463b5bc4ae67b",
            "5e5e748f496644e1b352042ab239ef4d",
            "f1b5c5ae99af4348b833a64505459155"
          ]
        },
        "id": "ODbIBbnTdtZu",
        "outputId": "bf3bb5e0-1d92-4600-8a3b-f8b497a10d68"
      },
      "outputs": [
        {
          "output_type": "display_data",
          "data": {
            "text/plain": [
              "Pandas Apply:   0%|          | 0/47427 [00:00<?, ?it/s]"
            ],
            "application/vnd.jupyter.widget-view+json": {
              "version_major": 2,
              "version_minor": 0,
              "model_id": "aaedd14a4470479db1878032e1b71991"
            }
          },
          "metadata": {}
        },
        {
          "output_type": "execute_result",
          "data": {
            "text/plain": [
              "                                            cleaned_text                Tags  \\\n",
              "0      asp query stre dropdown webpage follow control...          c# asp.net   \n",
              "1      run javascript code server java code want run ...     java javascript   \n",
              "2      linq sql throw exception row find change hi li...          c# asp.net   \n",
              "3      run python script php server run nginx web ser...          php python   \n",
              "4      advice write function m try write function res...   javascript jquery   \n",
              "...                                                  ...                 ...   \n",
              "47422  take value edittext put decimal point all- wor...        java android   \n",
              "47423  listen phone state application nee liste phone...        java android   \n",
              "47424  android ui thread thread task want access main...        java android   \n",
              "47425  dynamic table row creation html javascript htm...  asp.net javascript   \n",
              "47426  image preloader work ie follow code preload im...   javascript jquery   \n",
              "\n",
              "      Tag_Number Tag_Number_list  \n",
              "0         [0, 9]          [0, 9]  \n",
              "1         [1, 3]          [1, 3]  \n",
              "2         [0, 9]          [0, 9]  \n",
              "3         [2, 7]          [2, 7]  \n",
              "4         [3, 5]          [3, 5]  \n",
              "...          ...             ...  \n",
              "47422     [1, 4]          [1, 4]  \n",
              "47423     [1, 4]          [1, 4]  \n",
              "47424     [1, 4]          [1, 4]  \n",
              "47425     [9, 3]          [9, 3]  \n",
              "47426     [3, 5]          [3, 5]  \n",
              "\n",
              "[47427 rows x 4 columns]"
            ],
            "text/html": [
              "\n",
              "  <div id=\"df-6570ac03-aa4d-4003-932a-42e75811c003\" class=\"colab-df-container\">\n",
              "    <div>\n",
              "<style scoped>\n",
              "    .dataframe tbody tr th:only-of-type {\n",
              "        vertical-align: middle;\n",
              "    }\n",
              "\n",
              "    .dataframe tbody tr th {\n",
              "        vertical-align: top;\n",
              "    }\n",
              "\n",
              "    .dataframe thead th {\n",
              "        text-align: right;\n",
              "    }\n",
              "</style>\n",
              "<table border=\"1\" class=\"dataframe\">\n",
              "  <thead>\n",
              "    <tr style=\"text-align: right;\">\n",
              "      <th></th>\n",
              "      <th>cleaned_text</th>\n",
              "      <th>Tags</th>\n",
              "      <th>Tag_Number</th>\n",
              "      <th>Tag_Number_list</th>\n",
              "    </tr>\n",
              "  </thead>\n",
              "  <tbody>\n",
              "    <tr>\n",
              "      <th>0</th>\n",
              "      <td>asp query stre dropdown webpage follow control...</td>\n",
              "      <td>c# asp.net</td>\n",
              "      <td>[0, 9]</td>\n",
              "      <td>[0, 9]</td>\n",
              "    </tr>\n",
              "    <tr>\n",
              "      <th>1</th>\n",
              "      <td>run javascript code server java code want run ...</td>\n",
              "      <td>java javascript</td>\n",
              "      <td>[1, 3]</td>\n",
              "      <td>[1, 3]</td>\n",
              "    </tr>\n",
              "    <tr>\n",
              "      <th>2</th>\n",
              "      <td>linq sql throw exception row find change hi li...</td>\n",
              "      <td>c# asp.net</td>\n",
              "      <td>[0, 9]</td>\n",
              "      <td>[0, 9]</td>\n",
              "    </tr>\n",
              "    <tr>\n",
              "      <th>3</th>\n",
              "      <td>run python script php server run nginx web ser...</td>\n",
              "      <td>php python</td>\n",
              "      <td>[2, 7]</td>\n",
              "      <td>[2, 7]</td>\n",
              "    </tr>\n",
              "    <tr>\n",
              "      <th>4</th>\n",
              "      <td>advice write function m try write function res...</td>\n",
              "      <td>javascript jquery</td>\n",
              "      <td>[3, 5]</td>\n",
              "      <td>[3, 5]</td>\n",
              "    </tr>\n",
              "    <tr>\n",
              "      <th>...</th>\n",
              "      <td>...</td>\n",
              "      <td>...</td>\n",
              "      <td>...</td>\n",
              "      <td>...</td>\n",
              "    </tr>\n",
              "    <tr>\n",
              "      <th>47422</th>\n",
              "      <td>take value edittext put decimal point all- wor...</td>\n",
              "      <td>java android</td>\n",
              "      <td>[1, 4]</td>\n",
              "      <td>[1, 4]</td>\n",
              "    </tr>\n",
              "    <tr>\n",
              "      <th>47423</th>\n",
              "      <td>listen phone state application nee liste phone...</td>\n",
              "      <td>java android</td>\n",
              "      <td>[1, 4]</td>\n",
              "      <td>[1, 4]</td>\n",
              "    </tr>\n",
              "    <tr>\n",
              "      <th>47424</th>\n",
              "      <td>android ui thread thread task want access main...</td>\n",
              "      <td>java android</td>\n",
              "      <td>[1, 4]</td>\n",
              "      <td>[1, 4]</td>\n",
              "    </tr>\n",
              "    <tr>\n",
              "      <th>47425</th>\n",
              "      <td>dynamic table row creation html javascript htm...</td>\n",
              "      <td>asp.net javascript</td>\n",
              "      <td>[9, 3]</td>\n",
              "      <td>[9, 3]</td>\n",
              "    </tr>\n",
              "    <tr>\n",
              "      <th>47426</th>\n",
              "      <td>image preloader work ie follow code preload im...</td>\n",
              "      <td>javascript jquery</td>\n",
              "      <td>[3, 5]</td>\n",
              "      <td>[3, 5]</td>\n",
              "    </tr>\n",
              "  </tbody>\n",
              "</table>\n",
              "<p>47427 rows × 4 columns</p>\n",
              "</div>\n",
              "    <div class=\"colab-df-buttons\">\n",
              "\n",
              "  <div class=\"colab-df-container\">\n",
              "    <button class=\"colab-df-convert\" onclick=\"convertToInteractive('df-6570ac03-aa4d-4003-932a-42e75811c003')\"\n",
              "            title=\"Convert this dataframe to an interactive table.\"\n",
              "            style=\"display:none;\">\n",
              "\n",
              "  <svg xmlns=\"http://www.w3.org/2000/svg\" height=\"24px\" viewBox=\"0 -960 960 960\">\n",
              "    <path d=\"M120-120v-720h720v720H120Zm60-500h600v-160H180v160Zm220 220h160v-160H400v160Zm0 220h160v-160H400v160ZM180-400h160v-160H180v160Zm440 0h160v-160H620v160ZM180-180h160v-160H180v160Zm440 0h160v-160H620v160Z\"/>\n",
              "  </svg>\n",
              "    </button>\n",
              "\n",
              "  <style>\n",
              "    .colab-df-container {\n",
              "      display:flex;\n",
              "      gap: 12px;\n",
              "    }\n",
              "\n",
              "    .colab-df-convert {\n",
              "      background-color: #E8F0FE;\n",
              "      border: none;\n",
              "      border-radius: 50%;\n",
              "      cursor: pointer;\n",
              "      display: none;\n",
              "      fill: #1967D2;\n",
              "      height: 32px;\n",
              "      padding: 0 0 0 0;\n",
              "      width: 32px;\n",
              "    }\n",
              "\n",
              "    .colab-df-convert:hover {\n",
              "      background-color: #E2EBFA;\n",
              "      box-shadow: 0px 1px 2px rgba(60, 64, 67, 0.3), 0px 1px 3px 1px rgba(60, 64, 67, 0.15);\n",
              "      fill: #174EA6;\n",
              "    }\n",
              "\n",
              "    .colab-df-buttons div {\n",
              "      margin-bottom: 4px;\n",
              "    }\n",
              "\n",
              "    [theme=dark] .colab-df-convert {\n",
              "      background-color: #3B4455;\n",
              "      fill: #D2E3FC;\n",
              "    }\n",
              "\n",
              "    [theme=dark] .colab-df-convert:hover {\n",
              "      background-color: #434B5C;\n",
              "      box-shadow: 0px 1px 3px 1px rgba(0, 0, 0, 0.15);\n",
              "      filter: drop-shadow(0px 1px 2px rgba(0, 0, 0, 0.3));\n",
              "      fill: #FFFFFF;\n",
              "    }\n",
              "  </style>\n",
              "\n",
              "    <script>\n",
              "      const buttonEl =\n",
              "        document.querySelector('#df-6570ac03-aa4d-4003-932a-42e75811c003 button.colab-df-convert');\n",
              "      buttonEl.style.display =\n",
              "        google.colab.kernel.accessAllowed ? 'block' : 'none';\n",
              "\n",
              "      async function convertToInteractive(key) {\n",
              "        const element = document.querySelector('#df-6570ac03-aa4d-4003-932a-42e75811c003');\n",
              "        const dataTable =\n",
              "          await google.colab.kernel.invokeFunction('convertToInteractive',\n",
              "                                                    [key], {});\n",
              "        if (!dataTable) return;\n",
              "\n",
              "        const docLinkHtml = 'Like what you see? Visit the ' +\n",
              "          '<a target=\"_blank\" href=https://colab.research.google.com/notebooks/data_table.ipynb>data table notebook</a>'\n",
              "          + ' to learn more about interactive tables.';\n",
              "        element.innerHTML = '';\n",
              "        dataTable['output_type'] = 'display_data';\n",
              "        await google.colab.output.renderOutput(dataTable, element);\n",
              "        const docLink = document.createElement('div');\n",
              "        docLink.innerHTML = docLinkHtml;\n",
              "        element.appendChild(docLink);\n",
              "      }\n",
              "    </script>\n",
              "  </div>\n",
              "\n",
              "\n",
              "<div id=\"df-56481a43-43e4-4058-9ae4-1857e0682449\">\n",
              "  <button class=\"colab-df-quickchart\" onclick=\"quickchart('df-56481a43-43e4-4058-9ae4-1857e0682449')\"\n",
              "            title=\"Suggest charts.\"\n",
              "            style=\"display:none;\">\n",
              "\n",
              "<svg xmlns=\"http://www.w3.org/2000/svg\" height=\"24px\"viewBox=\"0 0 24 24\"\n",
              "     width=\"24px\">\n",
              "    <g>\n",
              "        <path d=\"M19 3H5c-1.1 0-2 .9-2 2v14c0 1.1.9 2 2 2h14c1.1 0 2-.9 2-2V5c0-1.1-.9-2-2-2zM9 17H7v-7h2v7zm4 0h-2V7h2v10zm4 0h-2v-4h2v4z\"/>\n",
              "    </g>\n",
              "</svg>\n",
              "  </button>\n",
              "\n",
              "<style>\n",
              "  .colab-df-quickchart {\n",
              "      --bg-color: #E8F0FE;\n",
              "      --fill-color: #1967D2;\n",
              "      --hover-bg-color: #E2EBFA;\n",
              "      --hover-fill-color: #174EA6;\n",
              "      --disabled-fill-color: #AAA;\n",
              "      --disabled-bg-color: #DDD;\n",
              "  }\n",
              "\n",
              "  [theme=dark] .colab-df-quickchart {\n",
              "      --bg-color: #3B4455;\n",
              "      --fill-color: #D2E3FC;\n",
              "      --hover-bg-color: #434B5C;\n",
              "      --hover-fill-color: #FFFFFF;\n",
              "      --disabled-bg-color: #3B4455;\n",
              "      --disabled-fill-color: #666;\n",
              "  }\n",
              "\n",
              "  .colab-df-quickchart {\n",
              "    background-color: var(--bg-color);\n",
              "    border: none;\n",
              "    border-radius: 50%;\n",
              "    cursor: pointer;\n",
              "    display: none;\n",
              "    fill: var(--fill-color);\n",
              "    height: 32px;\n",
              "    padding: 0;\n",
              "    width: 32px;\n",
              "  }\n",
              "\n",
              "  .colab-df-quickchart:hover {\n",
              "    background-color: var(--hover-bg-color);\n",
              "    box-shadow: 0 1px 2px rgba(60, 64, 67, 0.3), 0 1px 3px 1px rgba(60, 64, 67, 0.15);\n",
              "    fill: var(--button-hover-fill-color);\n",
              "  }\n",
              "\n",
              "  .colab-df-quickchart-complete:disabled,\n",
              "  .colab-df-quickchart-complete:disabled:hover {\n",
              "    background-color: var(--disabled-bg-color);\n",
              "    fill: var(--disabled-fill-color);\n",
              "    box-shadow: none;\n",
              "  }\n",
              "\n",
              "  .colab-df-spinner {\n",
              "    border: 2px solid var(--fill-color);\n",
              "    border-color: transparent;\n",
              "    border-bottom-color: var(--fill-color);\n",
              "    animation:\n",
              "      spin 1s steps(1) infinite;\n",
              "  }\n",
              "\n",
              "  @keyframes spin {\n",
              "    0% {\n",
              "      border-color: transparent;\n",
              "      border-bottom-color: var(--fill-color);\n",
              "      border-left-color: var(--fill-color);\n",
              "    }\n",
              "    20% {\n",
              "      border-color: transparent;\n",
              "      border-left-color: var(--fill-color);\n",
              "      border-top-color: var(--fill-color);\n",
              "    }\n",
              "    30% {\n",
              "      border-color: transparent;\n",
              "      border-left-color: var(--fill-color);\n",
              "      border-top-color: var(--fill-color);\n",
              "      border-right-color: var(--fill-color);\n",
              "    }\n",
              "    40% {\n",
              "      border-color: transparent;\n",
              "      border-right-color: var(--fill-color);\n",
              "      border-top-color: var(--fill-color);\n",
              "    }\n",
              "    60% {\n",
              "      border-color: transparent;\n",
              "      border-right-color: var(--fill-color);\n",
              "    }\n",
              "    80% {\n",
              "      border-color: transparent;\n",
              "      border-right-color: var(--fill-color);\n",
              "      border-bottom-color: var(--fill-color);\n",
              "    }\n",
              "    90% {\n",
              "      border-color: transparent;\n",
              "      border-bottom-color: var(--fill-color);\n",
              "    }\n",
              "  }\n",
              "</style>\n",
              "\n",
              "  <script>\n",
              "    async function quickchart(key) {\n",
              "      const quickchartButtonEl =\n",
              "        document.querySelector('#' + key + ' button');\n",
              "      quickchartButtonEl.disabled = true;  // To prevent multiple clicks.\n",
              "      quickchartButtonEl.classList.add('colab-df-spinner');\n",
              "      try {\n",
              "        const charts = await google.colab.kernel.invokeFunction(\n",
              "            'suggestCharts', [key], {});\n",
              "      } catch (error) {\n",
              "        console.error('Error during call to suggestCharts:', error);\n",
              "      }\n",
              "      quickchartButtonEl.classList.remove('colab-df-spinner');\n",
              "      quickchartButtonEl.classList.add('colab-df-quickchart-complete');\n",
              "    }\n",
              "    (() => {\n",
              "      let quickchartButtonEl =\n",
              "        document.querySelector('#df-56481a43-43e4-4058-9ae4-1857e0682449 button');\n",
              "      quickchartButtonEl.style.display =\n",
              "        google.colab.kernel.accessAllowed ? 'block' : 'none';\n",
              "    })();\n",
              "  </script>\n",
              "</div>\n",
              "\n",
              "  <div id=\"id_7829fda0-246f-49df-8e29-89b6caa45630\">\n",
              "    <style>\n",
              "      .colab-df-generate {\n",
              "        background-color: #E8F0FE;\n",
              "        border: none;\n",
              "        border-radius: 50%;\n",
              "        cursor: pointer;\n",
              "        display: none;\n",
              "        fill: #1967D2;\n",
              "        height: 32px;\n",
              "        padding: 0 0 0 0;\n",
              "        width: 32px;\n",
              "      }\n",
              "\n",
              "      .colab-df-generate:hover {\n",
              "        background-color: #E2EBFA;\n",
              "        box-shadow: 0px 1px 2px rgba(60, 64, 67, 0.3), 0px 1px 3px 1px rgba(60, 64, 67, 0.15);\n",
              "        fill: #174EA6;\n",
              "      }\n",
              "\n",
              "      [theme=dark] .colab-df-generate {\n",
              "        background-color: #3B4455;\n",
              "        fill: #D2E3FC;\n",
              "      }\n",
              "\n",
              "      [theme=dark] .colab-df-generate:hover {\n",
              "        background-color: #434B5C;\n",
              "        box-shadow: 0px 1px 3px 1px rgba(0, 0, 0, 0.15);\n",
              "        filter: drop-shadow(0px 1px 2px rgba(0, 0, 0, 0.3));\n",
              "        fill: #FFFFFF;\n",
              "      }\n",
              "    </style>\n",
              "    <button class=\"colab-df-generate\" onclick=\"generateWithVariable('df')\"\n",
              "            title=\"Generate code using this dataframe.\"\n",
              "            style=\"display:none;\">\n",
              "\n",
              "  <svg xmlns=\"http://www.w3.org/2000/svg\" height=\"24px\"viewBox=\"0 0 24 24\"\n",
              "       width=\"24px\">\n",
              "    <path d=\"M7,19H8.4L18.45,9,17,7.55,7,17.6ZM5,21V16.75L18.45,3.32a2,2,0,0,1,2.83,0l1.4,1.43a1.91,1.91,0,0,1,.58,1.4,1.91,1.91,0,0,1-.58,1.4L9.25,21ZM18.45,9,17,7.55Zm-12,3A5.31,5.31,0,0,0,4.9,8.1,5.31,5.31,0,0,0,1,6.5,5.31,5.31,0,0,0,4.9,4.9,5.31,5.31,0,0,0,6.5,1,5.31,5.31,0,0,0,8.1,4.9,5.31,5.31,0,0,0,12,6.5,5.46,5.46,0,0,0,6.5,12Z\"/>\n",
              "  </svg>\n",
              "    </button>\n",
              "    <script>\n",
              "      (() => {\n",
              "      const buttonEl =\n",
              "        document.querySelector('#id_7829fda0-246f-49df-8e29-89b6caa45630 button.colab-df-generate');\n",
              "      buttonEl.style.display =\n",
              "        google.colab.kernel.accessAllowed ? 'block' : 'none';\n",
              "\n",
              "      buttonEl.onclick = () => {\n",
              "        google.colab.notebook.generateWithVariable('df');\n",
              "      }\n",
              "      })();\n",
              "    </script>\n",
              "  </div>\n",
              "\n",
              "    </div>\n",
              "  </div>\n"
            ]
          },
          "metadata": {},
          "execution_count": 12
        }
      ],
      "source": [
        "df['Tag_Number_list'] = df['Tag_Number'].swifter.apply(lambda x: ast.literal_eval(x))\n",
        "df"
      ]
    },
    {
      "cell_type": "code",
      "source": [
        "t=list(df[['cleaned_text']].values)"
      ],
      "metadata": {
        "id": "ANV20akMfP15"
      },
      "execution_count": null,
      "outputs": []
    },
    {
      "cell_type": "code",
      "execution_count": null,
      "metadata": {
        "id": "uYNytUeVdtZu"
      },
      "outputs": [],
      "source": [
        "y_final = df['Tag_Number_list'].values"
      ]
    },
    {
      "cell_type": "code",
      "execution_count": null,
      "metadata": {
        "colab": {
          "base_uri": "https://localhost:8080/"
        },
        "id": "W1XslxiVdtZv",
        "outputId": "1558da4d-98f3-4096-fc75-6a3faa960732"
      },
      "outputs": [
        {
          "output_type": "execute_result",
          "data": {
            "text/plain": [
              "array([[1, 0, 0, ..., 0, 0, 1],\n",
              "       [0, 1, 0, ..., 0, 0, 0],\n",
              "       [1, 0, 0, ..., 0, 0, 1],\n",
              "       ...,\n",
              "       [0, 1, 0, ..., 0, 0, 0],\n",
              "       [0, 0, 0, ..., 0, 0, 1],\n",
              "       [0, 0, 0, ..., 0, 0, 0]])"
            ]
          },
          "metadata": {},
          "execution_count": 14
        }
      ],
      "source": [
        "y_one_hot = mlb().fit_transform(y_final)\n",
        "y_one_hot"
      ]
    },
    {
      "cell_type": "code",
      "execution_count": null,
      "metadata": {
        "id": "bklWuxVzdtZv"
      },
      "outputs": [],
      "source": [
        "X_train, X_valid_test, y_train, y_valid_test = train_test_split(X, y_one_hot, test_size = 0.40, random_state=42)"
      ]
    },
    {
      "cell_type": "code",
      "execution_count": null,
      "metadata": {
        "id": "my6ntXvkdtZv"
      },
      "outputs": [],
      "source": [
        "X_valid, X_test, y_valid, y_test = train_test_split(X_valid_test, y_valid_test, test_size = 0.50, random_state=42)"
      ]
    },
    {
      "cell_type": "code",
      "execution_count": null,
      "metadata": {
        "colab": {
          "base_uri": "https://localhost:8080/"
        },
        "id": "7CyZ4M2ndtZv",
        "outputId": "e25e462d-3c87-41ed-d1e0-26692178af8f"
      },
      "outputs": [
        {
          "output_type": "stream",
          "name": "stdout",
          "text": [
            "28456 9485 9486\n"
          ]
        }
      ],
      "source": [
        "print(len(X_train), len(X_valid), len(X_test))"
      ]
    },
    {
      "cell_type": "code",
      "execution_count": null,
      "metadata": {
        "colab": {
          "base_uri": "https://localhost:8080/"
        },
        "id": "zH2UdK5gdtZw",
        "outputId": "0b6fdb67-8f94-4362-e795-78ff5dd36a5a"
      },
      "outputs": [
        {
          "output_type": "execute_result",
          "data": {
            "text/plain": [
              "(28456, 10)"
            ]
          },
          "metadata": {},
          "execution_count": 18
        }
      ],
      "source": [
        "y_train.shape"
      ]
    },
    {
      "cell_type": "markdown",
      "metadata": {
        "id": "FTIKaTsTgvYu"
      },
      "source": [
        "## <Font color = 'pickle'>**Custom Dataset Class**"
      ]
    },
    {
      "cell_type": "code",
      "execution_count": null,
      "metadata": {
        "execution": {
          "iopub.execute_input": "2022-10-24T09:22:07.063940Z",
          "iopub.status.busy": "2022-10-24T09:22:07.063802Z",
          "iopub.status.idle": "2022-10-24T09:22:07.471457Z",
          "shell.execute_reply": "2022-10-24T09:22:07.470796Z",
          "shell.execute_reply.started": "2022-10-24T09:22:07.063927Z"
        },
        "id": "R1mKoKSlAxAq"
      },
      "outputs": [],
      "source": [
        "trainset = CustomDataset(X_train, y_train)\n",
        "validset = CustomDataset(X_valid, y_valid)"
      ]
    },
    {
      "cell_type": "markdown",
      "metadata": {
        "id": "XoEVe7eGtY7U"
      },
      "source": [
        "## <Font color = 'pickle'>**Create Vocab**"
      ]
    },
    {
      "cell_type": "code",
      "execution_count": null,
      "metadata": {
        "execution": {
          "iopub.execute_input": "2022-10-24T09:22:07.506294Z",
          "iopub.status.busy": "2022-10-24T09:22:07.506154Z",
          "iopub.status.idle": "2022-10-24T09:22:08.211189Z",
          "shell.execute_reply": "2022-10-24T09:22:08.210609Z",
          "shell.execute_reply.started": "2022-10-24T09:22:07.506280Z"
        },
        "id": "wNUi_aNctkAo"
      },
      "outputs": [],
      "source": [
        "stack_vocab = get_vocab(trainset, min_freq=3)"
      ]
    },
    {
      "cell_type": "code",
      "execution_count": null,
      "metadata": {
        "colab": {
          "base_uri": "https://localhost:8080/"
        },
        "execution": {
          "iopub.execute_input": "2022-10-24T09:22:08.211908Z",
          "iopub.status.busy": "2022-10-24T09:22:08.211772Z",
          "iopub.status.idle": "2022-10-24T09:22:08.239663Z",
          "shell.execute_reply": "2022-10-24T09:22:08.239191Z",
          "shell.execute_reply.started": "2022-10-24T09:22:08.211894Z"
        },
        "id": "ask8H1QJJMZK",
        "outputId": "4a0a0cbd-7022-411c-93ce-08b01f0fbac5"
      },
      "outputs": [
        {
          "output_type": "execute_result",
          "data": {
            "text/plain": [
              "43065"
            ]
          },
          "metadata": {},
          "execution_count": 32
        }
      ],
      "source": [
        "len(stack_vocab)"
      ]
    },
    {
      "cell_type": "markdown",
      "metadata": {
        "id": "5nF5iTy_VqdV"
      },
      "source": [
        "# <Font color = 'pickle'>**Meta Data**"
      ]
    },
    {
      "cell_type": "code",
      "execution_count": null,
      "metadata": {
        "execution": {
          "iopub.execute_input": "2022-10-24T09:22:08.767546Z",
          "iopub.status.busy": "2022-10-24T09:22:08.767317Z",
          "iopub.status.idle": "2022-10-24T09:22:08.794203Z",
          "shell.execute_reply": "2022-10-24T09:22:08.793600Z",
          "shell.execute_reply.started": "2022-10-24T09:22:08.767526Z"
        },
        "id": "TAuG3mxBWHaz"
      },
      "outputs": [],
      "source": [
        "hyperparameters = SimpleNamespace(\n",
        "    # model Parameters\n",
        "    EMBED_DIM=300,\n",
        "    VOCAB_SIZE=len(stack_vocab),\n",
        "    OUTPUT_DIM=10,\n",
        "    HIDDEN_DIM1=200,\n",
        "    HIDDEN_DIM2=100,\n",
        "    NON_LINEARITY=F.relu,\n",
        "\n",
        "    # training\n",
        "    EPOCHS=5,\n",
        "    BATCH_SIZE=128,\n",
        "    LEARNING_RATE=0.001,\n",
        "    WEIGHT_DECAY=0.000,\n",
        "    CLIP_TYPE = 'value',\n",
        "    CLIP_VALUE = 10,\n",
        "    PATIENCE=5,\n",
        "    MOMENTUM=0,\n",
        ")"
      ]
    },
    {
      "cell_type": "markdown",
      "metadata": {
        "id": "oVk_RctgdPRP"
      },
      "source": [
        "# <Font color = 'pickle'>**Trainer Configuration**"
      ]
    },
    {
      "cell_type": "code",
      "execution_count": null,
      "metadata": {
        "execution": {
          "iopub.execute_input": "2022-10-24T09:22:14.283277Z",
          "iopub.status.busy": "2022-10-24T09:22:14.283050Z",
          "iopub.status.idle": "2022-10-24T09:22:14.433708Z",
          "shell.execute_reply": "2022-10-24T09:22:14.433252Z",
          "shell.execute_reply.started": "2022-10-24T09:22:14.283255Z"
        },
        "id": "fZ6ZoM9WaS_M",
        "tags": []
      },
      "outputs": [],
      "source": [
        "# Fix seed value\n",
        "Trainer.set_seed()\n",
        "\n",
        "collate_fn = partial(collate_batch, vocab=stack_vocab)\n",
        "\n",
        "# Data Loader\n",
        "train_loader, valid_loader = get_loaders(trainset, validset, batch_size_= hyperparameters.BATCH_SIZE,\n",
        "                                         collate_fn=collate_fn)\n",
        "\n",
        "# cross entropy loss function\n",
        "loss_function = nn.BCEWithLogitsLoss()\n",
        "\n",
        "# model\n",
        "model = MLPCustom(hyperparameters.EMBED_DIM,\n",
        "                       hyperparameters.VOCAB_SIZE,\n",
        "                       hyperparameters.HIDDEN_DIM1,\n",
        "                       hyperparameters.HIDDEN_DIM2,\n",
        "                       hyperparameters.OUTPUT_DIM,\n",
        "                       hyperparameters.NON_LINEARITY)\n",
        "\n",
        "def init_weights(m):\n",
        "    if type(m) == nn.Linear:\n",
        "        torch.nn.init.kaiming_normal_(m.weight)\n",
        "        torch.nn.init.zeros_(m.bias)\n",
        "\n",
        "\n",
        "# apply initialization recursively  to all modules\n",
        "model.apply(init_weights)\n",
        "\n",
        "# Intialize stochiastic gradient descent optimizer\n",
        "optimizer = torch.optim.Adam(model.parameters(),\n",
        "                             lr=hyperparameters.LEARNING_RATE,\n",
        "                             weight_decay=hyperparameters.WEIGHT_DECAY,\n",
        "                             )\n",
        "device = torch.device('cuda:0' if torch.cuda.is_available() else 'cpu')"
      ]
    },
    {
      "cell_type": "markdown",
      "metadata": {
        "id": "e0_zWk0Ib74K"
      },
      "source": [
        "# <Font color = 'pickle'>**Training Model**"
      ]
    },
    {
      "cell_type": "code",
      "execution_count": null,
      "metadata": {
        "id": "pQFAZaSXZCcG"
      },
      "outputs": [],
      "source": [
        "trainer = Trainer(model=model, optimizer=optimizer,\n",
        "                  criterion=loss_function, device=device)"
      ]
    },
    {
      "cell_type": "code",
      "execution_count": null,
      "metadata": {
        "id": "Y8F-qceYZCcG"
      },
      "outputs": [],
      "source": [
        "run_folder = model_folder/'rev0'\n",
        "run_folder.mkdir(exist_ok=True)\n",
        "\n",
        "# set loaders\n",
        "trainer.set_loaders(train_loader, valid_loader)\n",
        "\n",
        "# set metric -- OPTIONAL\n",
        "train_metric = MultilabelHammingDistance(num_labels=10)\n",
        "valid_metric = MultilabelHammingDistance(num_labels=10)\n",
        "trainer.set_metric(train_metric.to(device), valid_metric.to(device))\n",
        "\n",
        "# set checkpoint -- OPTIONAL\n",
        "trainer.set_checkpoint(save_path=run_folder,\n",
        "                       save_best=True, save_every_n_epochs=5, save_last_epoch=True)\n",
        "\n",
        "# set early stopping -- OPTIONAL\n",
        "trainer.set_early_stopping(patience = hyperparameters.PATIENCE)\n",
        "\n",
        "# set gradient Clipping  -- OPTIONAL\n",
        "trainer.set_gradient_clipping(hyperparameters.CLIP_TYPE, hyperparameters.CLIP_VALUE, norm_type=2)"
      ]
    },
    {
      "cell_type": "code",
      "execution_count": null,
      "metadata": {
        "colab": {
          "base_uri": "https://localhost:8080/"
        },
        "id": "9AhiElgpM0qo",
        "outputId": "04a65d97-39cf-42c6-a1fd-17a0ba8f5576"
      },
      "outputs": [
        {
          "output_type": "stream",
          "name": "stderr",
          "text": [
            "/content/drive/MyDrive/NaturalLanguageprocessingClass/custom_functions/data_preparation_HW6.py:58: UserWarning: Creating a tensor from a list of numpy.ndarrays is extremely slow. Please consider converting the list to a single numpy.ndarray with numpy.array() before converting to a tensor. (Triggered internally at ../torch/csrc/utils/tensor_new.cpp:245.)\n",
            "  labels = torch.tensor(labels, dtype=torch.float64)\n"
          ]
        },
        {
          "output_type": "stream",
          "name": "stdout",
          "text": [
            "Actual loss: 0.6739880220702616\n",
            "Expected Theoretical loss: 0.6931471805599453\n"
          ]
        }
      ],
      "source": [
        "trainer.sanity_check(num_classes=2)"
      ]
    },
    {
      "cell_type": "code",
      "execution_count": null,
      "metadata": {
        "colab": {
          "base_uri": "https://localhost:8080/"
        },
        "id": "sjbyQJbyM0qo",
        "outputId": "aa7b197d-0714-41b9-88ea-8953661de983"
      },
      "outputs": [
        {
          "output_type": "stream",
          "name": "stdout",
          "text": [
            "Epoch 1/5 - Train Loss: 0.5693, Train Metric: 0.2672, Train Time: 0:00:04.582915\n",
            "Epoch 1/5 - Val Loss: 0.2378, Val Metric: 0.0753, Val Time: 0:00:00.937724\n",
            "\n",
            "Epoch 2/5 - Train Loss: 0.2304, Train Metric: 0.0815, Train Time: 0:00:04.433884\n",
            "Epoch 2/5 - Val Loss: 0.1633, Val Metric: 0.0589, Val Time: 0:00:00.962646\n",
            "\n",
            "Epoch 3/5 - Train Loss: 0.1749, Train Metric: 0.0622, Train Time: 0:00:04.655669\n",
            "Epoch 3/5 - Val Loss: 0.1417, Val Metric: 0.0519, Val Time: 0:00:00.977459\n",
            "\n",
            "Epoch 4/5 - Train Loss: 0.1499, Train Metric: 0.0533, Train Time: 0:00:04.589147\n",
            "Epoch 4/5 - Val Loss: 0.1300, Val Metric: 0.0480, Val Time: 0:00:00.979647\n",
            "\n",
            "Epoch 5/5 - Train Loss: 0.1344, Train Metric: 0.0475, Train Time: 0:00:04.617987\n",
            "Epoch 5/5 - Val Loss: 0.1201, Val Metric: 0.0439, Val Time: 0:00:01.080131\n",
            "\n"
          ]
        }
      ],
      "source": [
        "trainer.train(num_epochs=hyperparameters.EPOCHS, multilabel=True)"
      ]
    },
    {
      "cell_type": "code",
      "execution_count": null,
      "metadata": {
        "colab": {
          "base_uri": "https://localhost:8080/",
          "height": 881
        },
        "id": "rdiVeZvNZCcG",
        "outputId": "8f9a21cb-2181-4361-c70b-558494c85eb9"
      },
      "outputs": [
        {
          "output_type": "display_data",
          "data": {
            "text/plain": [
              "<Figure size 640x480 with 1 Axes>"
            ],
            "image/png": "[encoded data removed]"
          },
          "metadata": {}
        },
        {
          "output_type": "display_data",
          "data": {
            "text/plain": [
              "<Figure size 640x480 with 1 Axes>"
            ],
            "image/png": "[encoded data removed]"
          },
          "metadata": {}
        }
      ],
      "source": [
        "trainer.plot_history()"
      ]
    },
    {
      "cell_type": "code",
      "execution_count": null,
      "metadata": {
        "colab": {
          "base_uri": "https://localhost:8080/"
        },
        "id": "eE7hapGUhSwU",
        "outputId": "68ec002a-da98-47a9-a067-3353a5736f7a"
      },
      "outputs": [
        {
          "output_type": "stream",
          "name": "stdout",
          "text": [
            "Loaded checkpoint from '/content/drive/MyDrive/Data/Models/rev0/checkpoint_2023-09-20_03-34-46_last.pt'.\n"
          ]
        }
      ],
      "source": [
        "file = 'checkpoint_' + str(trainer.timestamp) + '_last.pt'\n",
        "trainer.load_checkpoint(run_folder /file)"
      ]
    },
    {
      "cell_type": "code",
      "execution_count": null,
      "metadata": {
        "colab": {
          "base_uri": "https://localhost:8080/"
        },
        "id": "0_uTVfF8hVIF",
        "outputId": "3060e3e3-97de-44f3-ef08-16106fa6060a"
      },
      "outputs": [
        {
          "output_type": "stream",
          "name": "stdout",
          "text": [
            "Epoch 1/10 - Train Loss: 0.1225, Train Metric: 0.0435, Train Time: 0:00:04.598529\n",
            "Epoch 1/10 - Val Loss: 0.1138, Val Metric: 0.0410, Val Time: 0:00:00.971946\n",
            "\n",
            "Epoch 2/10 - Train Loss: 0.1110, Train Metric: 0.0396, Train Time: 0:00:04.769830\n",
            "Epoch 2/10 - Val Loss: 0.1090, Val Metric: 0.0393, Val Time: 0:00:00.987539\n",
            "\n",
            "Epoch 3/10 - Train Loss: 0.1020, Train Metric: 0.0367, Train Time: 0:00:04.615667\n",
            "Epoch 3/10 - Val Loss: 0.1070, Val Metric: 0.0386, Val Time: 0:00:00.967289\n",
            "\n",
            "Epoch 4/10 - Train Loss: 0.0940, Train Metric: 0.0337, Train Time: 0:00:04.614185\n",
            "Epoch 4/10 - Val Loss: 0.1029, Val Metric: 0.0365, Val Time: 0:00:00.916776\n",
            "\n",
            "Epoch 5/10 - Train Loss: 0.0863, Train Metric: 0.0313, Train Time: 0:00:04.396944\n",
            "Epoch 5/10 - Val Loss: 0.1014, Val Metric: 0.0357, Val Time: 0:00:00.930137\n",
            "\n",
            "Epoch 6/10 - Train Loss: 0.0802, Train Metric: 0.0287, Train Time: 0:00:04.397858\n",
            "Epoch 6/10 - Val Loss: 0.0994, Val Metric: 0.0345, Val Time: 0:00:01.023040\n",
            "\n",
            "Epoch 7/10 - Train Loss: 0.0751, Train Metric: 0.0271, Train Time: 0:00:04.480565\n",
            "Epoch 7/10 - Val Loss: 0.0988, Val Metric: 0.0337, Val Time: 0:00:00.923599\n",
            "\n",
            "EarlyStopping counter: 1 out of 5\n",
            "Epoch 8/10 - Train Loss: 0.0695, Train Metric: 0.0247, Train Time: 0:00:04.381359\n",
            "Epoch 8/10 - Val Loss: 0.1009, Val Metric: 0.0338, Val Time: 0:00:00.900119\n",
            "\n",
            "EarlyStopping counter: 2 out of 5\n",
            "Epoch 9/10 - Train Loss: 0.0644, Train Metric: 0.0230, Train Time: 0:00:04.436233\n",
            "Epoch 9/10 - Val Loss: 0.1008, Val Metric: 0.0337, Val Time: 0:00:00.909317\n",
            "\n",
            "EarlyStopping counter: 3 out of 5\n",
            "Epoch 10/10 - Train Loss: 0.0617, Train Metric: 0.0218, Train Time: 0:00:04.415115\n",
            "Epoch 10/10 - Val Loss: 0.1042, Val Metric: 0.0336, Val Time: 0:00:00.923006\n",
            "\n"
          ]
        }
      ],
      "source": [
        "trainer.train(10, multilabel=True)"
      ]
    },
    {
      "cell_type": "code",
      "execution_count": null,
      "metadata": {
        "colab": {
          "base_uri": "https://localhost:8080/"
        },
        "id": "DWEwM2-1iZ0J",
        "outputId": "8c6cbe54-2eca-4cb5-e8ce-45f939758d23"
      },
      "outputs": [
        {
          "output_type": "display_data",
          "data": {
            "text/plain": [
              "<Figure size 640x480 with 1 Axes>"
            ],
            "image/png": "[encoded data removed]"
          },
          "metadata": {}
        },
        {
          "output_type": "display_data",
          "data": {
            "text/plain": [
              "<Figure size 640x480 with 1 Axes>"
            ],
            "image/png": "[encoded data removed]"
          },
          "metadata": {}
        }
      ],
      "source": [
        "trainer.plot_history()"
      ]
    },
    {
      "cell_type": "markdown",
      "metadata": {
        "id": "c-Cj1f2Qb74K"
      },
      "source": [
        "# <Font color = 'pickle'>**Get Accuracy, Predictions**"
      ]
    },
    {
      "cell_type": "code",
      "execution_count": null,
      "metadata": {
        "id": "Blx-Y4XgM0qo"
      },
      "outputs": [],
      "source": [
        "testset = CustomDataset(X_test, y_test)"
      ]
    },
    {
      "cell_type": "code",
      "execution_count": null,
      "metadata": {
        "id": "jYfaz55NM0qo"
      },
      "outputs": [],
      "source": [
        "test_loader = get_test_loaders(testset, batch_size_=hyperparameters.BATCH_SIZE,\n",
        "                               collate_fn=collate_fn)"
      ]
    },
    {
      "cell_type": "code",
      "execution_count": null,
      "metadata": {
        "colab": {
          "base_uri": "https://localhost:8080/"
        },
        "id": "FZXn_ulPZCcH",
        "outputId": "14a2f878-a2d0-4dd5-9a34-3d80707e92be"
      },
      "outputs": [
        {
          "name": "stdout",
          "output_type": "stream",
          "text": [
            "Loaded checkpoint from '/home/harpreet/Insync/google_drive_shaannoor/data/models/nlp_spring_2023/HW6/rev0/checkpoint_2023-04-12_21-36-27_best.pt'.\n"
          ]
        }
      ],
      "source": [
        "file = 'checkpoint_' + str(trainer.timestamp) + '_best.pt'\n",
        "trainer.load_checkpoint(run_folder /file)"
      ]
    },
    {
      "cell_type": "code",
      "execution_count": null,
      "metadata": {
        "execution": {
          "iopub.execute_input": "2022-10-24T09:23:02.181062Z",
          "iopub.status.busy": "2022-10-24T09:23:02.180903Z",
          "iopub.status.idle": "2022-10-24T09:23:04.130737Z",
          "shell.execute_reply": "2022-10-24T09:23:04.130200Z",
          "shell.execute_reply.started": "2022-10-24T09:23:02.181049Z"
        },
        "id": "3v2z0oFcRjrF",
        "tags": []
      },
      "outputs": [],
      "source": [
        "# Get the prediction and accuracy for the test dataset\n",
        "\n",
        "predictions_test, target_test = trainer.predict(\n",
        "    test_loader, return_targets=True, multilabel=True)\n",
        "predictions_train, target_train = trainer.predict(\n",
        "    train_loader, return_targets=True, multilabel=True)\n",
        "predictions_valid, target_valid = trainer.predict(\n",
        "    valid_loader, return_targets=True, multilabel=True)\n"
      ]
    },
    {
      "cell_type": "code",
      "execution_count": null,
      "metadata": {
        "id": "foj9zxnLM0qp"
      },
      "outputs": [],
      "source": [
        "metric = multilabel_hamming_distance\n",
        "hd_train = metric(predictions_train, target_train, num_labels=10)\n",
        "hd_valid = metric(predictions_valid, target_valid, num_labels=10)\n",
        "hd_test = metric(predictions_test, target_test, num_labels=10)\n"
      ]
    },
    {
      "cell_type": "code",
      "execution_count": null,
      "metadata": {
        "colab": {
          "base_uri": "https://localhost:8080/"
        },
        "execution": {
          "iopub.execute_input": "2022-10-24T09:23:04.131454Z",
          "iopub.status.busy": "2022-10-24T09:23:04.131289Z",
          "iopub.status.idle": "2022-10-24T09:23:04.164428Z",
          "shell.execute_reply": "2022-10-24T09:23:04.163978Z",
          "shell.execute_reply.started": "2022-10-24T09:23:04.131438Z"
        },
        "id": "vcfIlMd3FKAX",
        "outputId": "40655d8a-dec7-4dea-8b94-2ebd62bcebf6",
        "tags": []
      },
      "outputs": [
        {
          "name": "stdout",
          "output_type": "stream",
          "text": [
            "Test hamming distance tensor(0.0356)\n",
            "Train hamming distance tensor(0.0156)\n",
            "Valid hamming distance tensor(0.0335)\n"
          ]
        }
      ],
      "source": [
        "# Print Hammo=imng Distance\n",
        "print('Test hamming distance', hd_test )\n",
        "print('Train hamming distance', hd_train )\n",
        "print('Valid hamming distance', hd_valid )"
      ]
    },
    {
      "cell_type": "code",
      "execution_count": null,
      "metadata": {
        "colab": {
          "base_uri": "https://localhost:8080/"
        },
        "id": "OHZy4tsPM0qp",
        "outputId": "2f3a2c75-c67b-4225-8ef5-dc6f3df37488"
      },
      "outputs": [
        {
          "name": "stdout",
          "output_type": "stream",
          "text": [
            "Test f1score tensor(82.4385)\n",
            "Train f1score tensor(88.4685)\n",
            "Valid f1score tensor(81.4209)\n"
          ]
        }
      ],
      "source": [
        "metric = multilabel_f1_score\n",
        "f1_train = metric(predictions_train, target_train, num_labels=10)\n",
        "f1_valid = metric(predictions_valid, target_valid, num_labels=10)\n",
        "f1_test = metric(predictions_test, target_test,num_labels=10)\n",
        "\n",
        "# Print Test Accuracy\n",
        "print('Test f1score', f1_test * 100)\n",
        "print('Train f1score', f1_train * 100)\n",
        "print('Valid f1score', f1_valid * 100)\n"
      ]
    },
    {
      "cell_type": "code",
      "execution_count": null,
      "metadata": {
        "colab": {
          "base_uri": "https://localhost:8080/"
        },
        "id": "-e3UnmbTM0qp",
        "outputId": "7f10a828-2bca-48e0-b81c-cccdc3537e2b"
      },
      "outputs": [
        {
          "name": "stdout",
          "output_type": "stream",
          "text": [
            "82.43848771756163\n",
            "88.46853676325667\n",
            "81.42085462198656\n"
          ]
        }
      ],
      "source": [
        "print(f1_score(predictions_test.numpy(), target_test.numpy(), average='macro') * 100)\n",
        "print(f1_score(predictions_train.numpy(), target_train.numpy(), average='macro') * 100)\n",
        "print(f1_score(predictions_valid.numpy(), target_valid.numpy(), average='macro') * 100)\n"
      ]
    },
    {
      "cell_type": "code",
      "execution_count": null,
      "metadata": {
        "id": "SYEucq_jvRk3"
      },
      "outputs": [],
      "source": [
        "from torchmetrics.functional.classification import multilabel_accuracy"
      ]
    },
    {
      "cell_type": "code",
      "execution_count": null,
      "metadata": {
        "id": "9HpGU_CYvRk3"
      },
      "outputs": [],
      "source": [
        "metric = multilabel_accuracy\n",
        "acc_train = metric(predictions_train, target_train, num_labels=10)\n",
        "acc_valid = metric(predictions_valid, target_valid, num_labels=10)\n",
        "acc_test = metric(predictions_test, target_test, num_labels=10)\n"
      ]
    },
    {
      "cell_type": "code",
      "execution_count": null,
      "metadata": {
        "id": "ZzR-MPg1vRk3",
        "outputId": "37266d70-4c7e-44a4-f756-90ab53bcfb09"
      },
      "outputs": [
        {
          "name": "stdout",
          "output_type": "stream",
          "text": [
            "Test accuracy tensor(0.9644)\n",
            "Train accuracy tensor(0.9844)\n",
            "Valid accuracy tensor(0.9665)\n"
          ]
        }
      ],
      "source": [
        "# Print Hammo=imng Distance\n",
        "print('Test accuracy', acc_test)\n",
        "print('Train accuracy', acc_train)\n",
        "print('Valid accuracy', acc_valid)\n"
      ]
    },
    {
      "cell_type": "code",
      "execution_count": null,
      "metadata": {
        "id": "M2rKrMqFvRk3",
        "outputId": "c28b997a-e1f1-4d5e-e804-6c0025fa20ce"
      },
      "outputs": [
        {
          "name": "stdout",
          "output_type": "stream",
          "text": [
            "Test accuracy tensor(0.0356)\n",
            "Train accuracy tensor(0.0156)\n",
            "Valid accuracy tensor(0.0335)\n"
          ]
        }
      ],
      "source": [
        "print('Test accuracy', 1- acc_test)\n",
        "print('Train accuracy', 1- acc_train)\n",
        "print('Valid accuracy', 1- acc_valid)\n"
      ]
    }
  ],
  "metadata": {
    "accelerator": "GPU",
    "colab": {
      "machine_shape": "hm",
      "provenance": []
    },
    "gpuClass": "standard",
    "kernelspec": {
      "display_name": "base",
      "language": "python",
      "name": "python3"
    },
    "language_info": {
      "codemirror_mode": {
        "name": "ipython",
        "version": 3
      },
      "file_extension": ".py",
      "mimetype": "text/x-python",
      "name": "python",
      "nbconvert_exporter": "python",
      "pygments_lexer": "ipython3",
      "version": "3.10.10"
    },
    "vscode": {
      "interpreter": {
        "hash": "a75929e85776ec4eb9d0646d55dce2d9636f6a302fc78e3e6babaf08df8451b4"
      }
    },
    "widgets": {
      "application/vnd.jupyter.widget-state+json": {
        "aaedd14a4470479db1878032e1b71991": {
          "model_module": "@jupyter-widgets/controls",
          "model_name": "HBoxModel",
          "model_module_version": "1.5.0",
          "state": {
            "_dom_classes": [],
            "_model_module": "@jupyter-widgets/controls",
            "_model_module_version": "1.5.0",
            "_model_name": "HBoxModel",
            "_view_count": null,
            "_view_module": "@jupyter-widgets/controls",
            "_view_module_version": "1.5.0",
            "_view_name": "HBoxView",
            "box_style": "",
            "children": [
              "IPY_MODEL_d62206e11fd6413eac854e858a063408",
              "IPY_MODEL_cb81743fa83a4c58ab1f177a3c84a7c9",
              "IPY_MODEL_0604decc7ffa4ca0ada6d0ee9e760f7a"
            ],
            "layout": "IPY_MODEL_279882f29b3d465f89004170a368cb97"
          }
        },
        "d62206e11fd6413eac854e858a063408": {
          "model_module": "@jupyter-widgets/controls",
          "model_name": "HTMLModel",
          "model_module_version": "1.5.0",
          "state": {
            "_dom_classes": [],
            "_model_module": "@jupyter-widgets/controls",
            "_model_module_version": "1.5.0",
            "_model_name": "HTMLModel",
            "_view_count": null,
            "_view_module": "@jupyter-widgets/controls",
            "_view_module_version": "1.5.0",
            "_view_name": "HTMLView",
            "description": "",
            "description_tooltip": null,
            "layout": "IPY_MODEL_a6f5ef79765645eeaaf7dc1a9dcae9e4",
            "placeholder": "​",
            "style": "IPY_MODEL_9a34133eaf8944d2bef52adae56e6395",
            "value": "Pandas Apply: 100%"
          }
        },
        "cb81743fa83a4c58ab1f177a3c84a7c9": {
          "model_module": "@jupyter-widgets/controls",
          "model_name": "FloatProgressModel",
          "model_module_version": "1.5.0",
          "state": {
            "_dom_classes": [],
            "_model_module": "@jupyter-widgets/controls",
            "_model_module_version": "1.5.0",
            "_model_name": "FloatProgressModel",
            "_view_count": null,
            "_view_module": "@jupyter-widgets/controls",
            "_view_module_version": "1.5.0",
            "_view_name": "ProgressView",
            "bar_style": "success",
            "description": "",
            "description_tooltip": null,
            "layout": "IPY_MODEL_a381b7e998d840d482622bd5896b4ba2",
            "max": 47427,
            "min": 0,
            "orientation": "horizontal",
            "style": "IPY_MODEL_3fb45397d2e5423abab463b5bc4ae67b",
            "value": 47427
          }
        },
        "0604decc7ffa4ca0ada6d0ee9e760f7a": {
          "model_module": "@jupyter-widgets/controls",
          "model_name": "HTMLModel",
          "model_module_version": "1.5.0",
          "state": {
            "_dom_classes": [],
            "_model_module": "@jupyter-widgets/controls",
            "_model_module_version": "1.5.0",
            "_model_name": "HTMLModel",
            "_view_count": null,
            "_view_module": "@jupyter-widgets/controls",
            "_view_module_version": "1.5.0",
            "_view_name": "HTMLView",
            "description": "",
            "description_tooltip": null,
            "layout": "IPY_MODEL_5e5e748f496644e1b352042ab239ef4d",
            "placeholder": "​",
            "style": "IPY_MODEL_f1b5c5ae99af4348b833a64505459155",
            "value": " 47427/47427 [00:00&lt;00:00, 96599.63it/s]"
          }
        },
        "279882f29b3d465f89004170a368cb97": {
          "model_module": "@jupyter-widgets/base",
          "model_name": "LayoutModel",
          "model_module_version": "1.2.0",
          "state": {
            "_model_module": "@jupyter-widgets/base",
            "_model_module_version": "1.2.0",
            "_model_name": "LayoutModel",
            "_view_count": null,
            "_view_module": "@jupyter-widgets/base",
            "_view_module_version": "1.2.0",
            "_view_name": "LayoutView",
            "align_content": null,
            "align_items": null,
            "align_self": null,
            "border": null,
            "bottom": null,
            "display": null,
            "flex": null,
            "flex_flow": null,
            "grid_area": null,
            "grid_auto_columns": null,
            "grid_auto_flow": null,
            "grid_auto_rows": null,
            "grid_column": null,
            "grid_gap": null,
            "grid_row": null,
            "grid_template_areas": null,
            "grid_template_columns": null,
            "grid_template_rows": null,
            "height": null,
            "justify_content": null,
            "justify_items": null,
            "left": null,
            "margin": null,
            "max_height": null,
            "max_width": null,
            "min_height": null,
            "min_width": null,
            "object_fit": null,
            "object_position": null,
            "order": null,
            "overflow": null,
            "overflow_x": null,
            "overflow_y": null,
            "padding": null,
            "right": null,
            "top": null,
            "visibility": null,
            "width": null
          }
        },
        "a6f5ef79765645eeaaf7dc1a9dcae9e4": {
          "model_module": "@jupyter-widgets/base",
          "model_name": "LayoutModel",
          "model_module_version": "1.2.0",
          "state": {
            "_model_module": "@jupyter-widgets/base",
            "_model_module_version": "1.2.0",
            "_model_name": "LayoutModel",
            "_view_count": null,
            "_view_module": "@jupyter-widgets/base",
            "_view_module_version": "1.2.0",
            "_view_name": "LayoutView",
            "align_content": null,
            "align_items": null,
            "align_self": null,
            "border": null,
            "bottom": null,
            "display": null,
            "flex": null,
            "flex_flow": null,
            "grid_area": null,
            "grid_auto_columns": null,
            "grid_auto_flow": null,
            "grid_auto_rows": null,
            "grid_column": null,
            "grid_gap": null,
            "grid_row": null,
            "grid_template_areas": null,
            "grid_template_columns": null,
            "grid_template_rows": null,
            "height": null,
            "justify_content": null,
            "justify_items": null,
            "left": null,
            "margin": null,
            "max_height": null,
            "max_width": null,
            "min_height": null,
            "min_width": null,
            "object_fit": null,
            "object_position": null,
            "order": null,
            "overflow": null,
            "overflow_x": null,
            "overflow_y": null,
            "padding": null,
            "right": null,
            "top": null,
            "visibility": null,
            "width": null
          }
        },
        "9a34133eaf8944d2bef52adae56e6395": {
          "model_module": "@jupyter-widgets/controls",
          "model_name": "DescriptionStyleModel",
          "model_module_version": "1.5.0",
          "state": {
            "_model_module": "@jupyter-widgets/controls",
            "_model_module_version": "1.5.0",
            "_model_name": "DescriptionStyleModel",
            "_view_count": null,
            "_view_module": "@jupyter-widgets/base",
            "_view_module_version": "1.2.0",
            "_view_name": "StyleView",
            "description_width": ""
          }
        },
        "a381b7e998d840d482622bd5896b4ba2": {
          "model_module": "@jupyter-widgets/base",
          "model_name": "LayoutModel",
          "model_module_version": "1.2.0",
          "state": {
            "_model_module": "@jupyter-widgets/base",
            "_model_module_version": "1.2.0",
            "_model_name": "LayoutModel",
            "_view_count": null,
            "_view_module": "@jupyter-widgets/base",
            "_view_module_version": "1.2.0",
            "_view_name": "LayoutView",
            "align_content": null,
            "align_items": null,
            "align_self": null,
            "border": null,
            "bottom": null,
            "display": null,
            "flex": null,
            "flex_flow": null,
            "grid_area": null,
            "grid_auto_columns": null,
            "grid_auto_flow": null,
            "grid_auto_rows": null,
            "grid_column": null,
            "grid_gap": null,
            "grid_row": null,
            "grid_template_areas": null,
            "grid_template_columns": null,
            "grid_template_rows": null,
            "height": null,
            "justify_content": null,
            "justify_items": null,
            "left": null,
            "margin": null,
            "max_height": null,
            "max_width": null,
            "min_height": null,
            "min_width": null,
            "object_fit": null,
            "object_position": null,
            "order": null,
            "overflow": null,
            "overflow_x": null,
            "overflow_y": null,
            "padding": null,
            "right": null,
            "top": null,
            "visibility": null,
            "width": null
          }
        },
        "3fb45397d2e5423abab463b5bc4ae67b": {
          "model_module": "@jupyter-widgets/controls",
          "model_name": "ProgressStyleModel",
          "model_module_version": "1.5.0",
          "state": {
            "_model_module": "@jupyter-widgets/controls",
            "_model_module_version": "1.5.0",
            "_model_name": "ProgressStyleModel",
            "_view_count": null,
            "_view_module": "@jupyter-widgets/base",
            "_view_module_version": "1.2.0",
            "_view_name": "StyleView",
            "bar_color": null,
            "description_width": ""
          }
        },
        "5e5e748f496644e1b352042ab239ef4d": {
          "model_module": "@jupyter-widgets/base",
          "model_name": "LayoutModel",
          "model_module_version": "1.2.0",
          "state": {
            "_model_module": "@jupyter-widgets/base",
            "_model_module_version": "1.2.0",
            "_model_name": "LayoutModel",
            "_view_count": null,
            "_view_module": "@jupyter-widgets/base",
            "_view_module_version": "1.2.0",
            "_view_name": "LayoutView",
            "align_content": null,
            "align_items": null,
            "align_self": null,
            "border": null,
            "bottom": null,
            "display": null,
            "flex": null,
            "flex_flow": null,
            "grid_area": null,
            "grid_auto_columns": null,
            "grid_auto_flow": null,
            "grid_auto_rows": null,
            "grid_column": null,
            "grid_gap": null,
            "grid_row": null,
            "grid_template_areas": null,
            "grid_template_columns": null,
            "grid_template_rows": null,
            "height": null,
            "justify_content": null,
            "justify_items": null,
            "left": null,
            "margin": null,
            "max_height": null,
            "max_width": null,
            "min_height": null,
            "min_width": null,
            "object_fit": null,
            "object_position": null,
            "order": null,
            "overflow": null,
            "overflow_x": null,
            "overflow_y": null,
            "padding": null,
            "right": null,
            "top": null,
            "visibility": null,
            "width": null
          }
        },
        "f1b5c5ae99af4348b833a64505459155": {
          "model_module": "@jupyter-widgets/controls",
          "model_name": "DescriptionStyleModel",
          "model_module_version": "1.5.0",
          "state": {
            "_model_module": "@jupyter-widgets/controls",
            "_model_module_version": "1.5.0",
            "_model_name": "DescriptionStyleModel",
            "_view_count": null,
            "_view_module": "@jupyter-widgets/base",
            "_view_module_version": "1.2.0",
            "_view_name": "StyleView",
            "description_width": ""
          }
        }
      }
    }
  },
  "nbformat": 4,
  "nbformat_minor": 0
}